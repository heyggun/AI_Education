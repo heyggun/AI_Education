{
 "cells": [
  {
   "cell_type": "markdown",
   "id": "18940188",
   "metadata": {},
   "source": []
  },
  {
   "cell_type": "code",
   "execution_count": null,
   "id": "053dc234",
   "metadata": {},
   "outputs": [],
   "source": []
  },
  {
   "cell_type": "code",
   "execution_count": null,
   "id": "26a437bf",
   "metadata": {},
   "outputs": [],
   "source": []
  },
  {
   "cell_type": "markdown",
   "id": "ff5983ea",
   "metadata": {},
   "source": [
    "# 1-6. 파이썬으로 계산하기"
   ]
  },
  {
   "cell_type": "code",
   "execution_count": 1,
   "id": "e74a0831",
   "metadata": {},
   "outputs": [],
   "source": [
    "# Array creation\n",
    "\n",
    "import numpy as np"
   ]
  },
  {
   "cell_type": "code",
   "execution_count": 2,
   "id": "5c0dfbe6",
   "metadata": {},
   "outputs": [
    {
     "name": "stdout",
     "output_type": "stream",
     "text": [
      "[1. 4. 5. 8.]\n"
     ]
    },
    {
     "data": {
      "text/plain": [
       "numpy.float64"
      ]
     },
     "execution_count": 2,
     "metadata": {},
     "output_type": "execute_result"
    }
   ],
   "source": [
    "test_array = np.array([1,4,5,8], float)\n",
    "print(test_array)\n",
    "type(test_array[3])"
   ]
  },
  {
   "cell_type": "code",
   "execution_count": 4,
   "id": "d2a20266",
   "metadata": {},
   "outputs": [
    {
     "name": "stdout",
     "output_type": "stream",
     "text": [
      "[1. 4. 5. 8.]\n"
     ]
    },
    {
     "data": {
      "text/plain": [
       "numpy.float32"
      ]
     },
     "execution_count": 4,
     "metadata": {},
     "output_type": "execute_result"
    }
   ],
   "source": [
    "test_array = np.array([1,4,5,8], 'float32')\n",
    "print(test_array)\n",
    "type(test_array[3])"
   ]
  },
  {
   "cell_type": "markdown",
   "id": "b258d1c9",
   "metadata": {},
   "source": [
    "-> 데이터 메모리 영역 공간을 32로"
   ]
  },
  {
   "cell_type": "code",
   "execution_count": null,
   "id": "e5e016fe",
   "metadata": {},
   "outputs": [],
   "source": []
  },
  {
   "cell_type": "code",
   "execution_count": 5,
   "id": "0fc4bd71",
   "metadata": {},
   "outputs": [
    {
     "name": "stdout",
     "output_type": "stream",
     "text": [
      "[1. 4. 5. 8.]\n",
      "<class 'numpy.float64'>\n",
      "float64\n",
      "(4,)\n"
     ]
    }
   ],
   "source": [
    "test_array = np.array([1,4,5,'8'], float)\n",
    "print(test_array)\n",
    "print(type(test_array[3])) # float type으로 자동 형변환\n",
    "print(test_array.dtype) # array 전체의 데이터 type 반환\n",
    "print(test_array.shape) # array의 shape을 반환"
   ]
  },
  {
   "cell_type": "markdown",
   "id": "74202eaf",
   "metadata": {},
   "source": [
    "-> (4,) tuple type으로 반환"
   ]
  },
  {
   "cell_type": "code",
   "execution_count": 6,
   "id": "827d2c2f",
   "metadata": {},
   "outputs": [
    {
     "data": {
      "text/plain": [
       "array([1., 4., 5., 8.])"
      ]
     },
     "execution_count": 6,
     "metadata": {},
     "output_type": "execute_result"
    }
   ],
   "source": [
    "test_array = np.array([1,4,5,\"8\"], float)\n",
    "test_array"
   ]
  },
  {
   "cell_type": "code",
   "execution_count": 7,
   "id": "366d2f5d",
   "metadata": {},
   "outputs": [
    {
     "data": {
      "text/plain": [
       "numpy.float64"
      ]
     },
     "execution_count": 7,
     "metadata": {},
     "output_type": "execute_result"
    }
   ],
   "source": [
    "type(test_array[3])"
   ]
  },
  {
   "cell_type": "code",
   "execution_count": 8,
   "id": "988cd7eb",
   "metadata": {},
   "outputs": [
    {
     "data": {
      "text/plain": [
       "dtype('float64')"
      ]
     },
     "execution_count": 8,
     "metadata": {},
     "output_type": "execute_result"
    }
   ],
   "source": [
    "test_array.dtype"
   ]
  },
  {
   "cell_type": "code",
   "execution_count": 9,
   "id": "03848be7",
   "metadata": {},
   "outputs": [
    {
     "data": {
      "text/plain": [
       "(4,)"
      ]
     },
     "execution_count": 9,
     "metadata": {},
     "output_type": "execute_result"
    }
   ],
   "source": [
    "test_array.shape"
   ]
  },
  {
   "cell_type": "code",
   "execution_count": null,
   "id": "3533efcd",
   "metadata": {},
   "outputs": [],
   "source": []
  },
  {
   "cell_type": "code",
   "execution_count": 10,
   "id": "7b5bd612",
   "metadata": {},
   "outputs": [
    {
     "data": {
      "text/plain": [
       "array([1., 4., 5., 8.])"
      ]
     },
     "execution_count": 10,
     "metadata": {},
     "output_type": "execute_result"
    }
   ],
   "source": [
    "# array shape (vector)\n",
    "\n",
    "test_array = np.array([1,4,5,\"8\"], float)\n",
    "test_array"
   ]
  },
  {
   "cell_type": "code",
   "execution_count": 11,
   "id": "cbd48d49",
   "metadata": {},
   "outputs": [
    {
     "data": {
      "text/plain": [
       "(3, 4)"
      ]
     },
     "execution_count": 11,
     "metadata": {},
     "output_type": "execute_result"
    }
   ],
   "source": [
    "# array shape (matrix)\n",
    "\n",
    "matrix = [[1,2,5,8], [1,2,5,8], [1,2,5,8]]\n",
    "np.array(matrix, int).shape"
   ]
  },
  {
   "cell_type": "code",
   "execution_count": 13,
   "id": "d7909cf7",
   "metadata": {},
   "outputs": [
    {
     "data": {
      "text/plain": [
       "(4, 3, 4)"
      ]
     },
     "execution_count": 13,
     "metadata": {},
     "output_type": "execute_result"
    }
   ],
   "source": [
    "# array shape (3rd order tensor)\n",
    "\n",
    "tensor = [[[1,2,5,8],[1,2,5,8],[1,2,5,8]],\n",
    "         [[1,2,5,8],[1,2,5,8],[1,2,5,8]],\n",
    "         [[1,2,5,8],[1,2,5,8],[1,2,5,8]],\n",
    "         [[1,2,5,8],[1,2,5,8],[1,2,5,8]]]\n",
    "\n",
    "np.array(tensor, int).shape"
   ]
  },
  {
   "cell_type": "markdown",
   "id": "6953767e",
   "metadata": {},
   "source": [
    "Array shape - ndim & size"
   ]
  },
  {
   "cell_type": "code",
   "execution_count": 14,
   "id": "d8133921",
   "metadata": {},
   "outputs": [
    {
     "name": "stdout",
     "output_type": "stream",
     "text": [
      "3\n",
      "48\n"
     ]
    }
   ],
   "source": [
    "tensor = [[[1,2,5,8],[1,2,5,8],[1,2,5,8]],\n",
    "         [[1,2,5,8],[1,2,5,8],[1,2,5,8]],\n",
    "         [[1,2,5,8],[1,2,5,8],[1,2,5,8]],\n",
    "         [[1,2,5,8],[1,2,5,8],[1,2,5,8]]]\n",
    "\n",
    "print(np.array(tensor, int).ndim)\n",
    "print(np.array(tensor, int).size)"
   ]
  },
  {
   "cell_type": "code",
   "execution_count": null,
   "id": "a36ddf9f",
   "metadata": {},
   "outputs": [],
   "source": []
  },
  {
   "cell_type": "markdown",
   "id": "90bb9d53",
   "metadata": {},
   "source": [
    "Array dtype\n",
    "\n",
    "- Ndarray의 single element가 가지는 data type"
   ]
  },
  {
   "cell_type": "code",
   "execution_count": 15,
   "id": "5aed1275",
   "metadata": {},
   "outputs": [
    {
     "data": {
      "text/plain": [
       "array([[1, 2, 3],\n",
       "       [4, 5, 6]])"
      ]
     },
     "execution_count": 15,
     "metadata": {},
     "output_type": "execute_result"
    }
   ],
   "source": [
    "np.array([[1,2,3], [4.5,5,6]], dtype=int)"
   ]
  },
  {
   "cell_type": "code",
   "execution_count": 18,
   "id": "343adb91",
   "metadata": {},
   "outputs": [
    {
     "data": {
      "text/plain": [
       "array([[1. , 2. , 3. ],\n",
       "       [4.5, 5. , 6. ]], dtype=float32)"
      ]
     },
     "execution_count": 18,
     "metadata": {},
     "output_type": "execute_result"
    }
   ],
   "source": [
    "np.array([[1,2,3],[4.5,'5','6']], dtype=np.float32)"
   ]
  },
  {
   "cell_type": "code",
   "execution_count": null,
   "id": "c8eba4ec",
   "metadata": {},
   "outputs": [],
   "source": []
  },
  {
   "cell_type": "markdown",
   "id": "bf495923",
   "metadata": {},
   "source": [
    "Array nbytes\n",
    "\n",
    "ndarray object의 메모리 크기를 반환함"
   ]
  },
  {
   "cell_type": "code",
   "execution_count": 19,
   "id": "6cbd05c8",
   "metadata": {},
   "outputs": [
    {
     "data": {
      "text/plain": [
       "24"
      ]
     },
     "execution_count": 19,
     "metadata": {},
     "output_type": "execute_result"
    }
   ],
   "source": [
    "np.array([[1,2,3],[4.5,'5','6']], dtype=np.float32).nbytes"
   ]
  },
  {
   "cell_type": "markdown",
   "id": "2051e82c",
   "metadata": {},
   "source": [
    "-> 32bits = 4bytes -> 6*4bytes = 24"
   ]
  },
  {
   "cell_type": "code",
   "execution_count": 20,
   "id": "827e9725",
   "metadata": {},
   "outputs": [
    {
     "data": {
      "text/plain": [
       "6"
      ]
     },
     "execution_count": 20,
     "metadata": {},
     "output_type": "execute_result"
    }
   ],
   "source": [
    "np.array([[1,2,3],[4.5,'5','6']], dtype=np.int8).nbytes"
   ]
  },
  {
   "cell_type": "markdown",
   "id": "8c883db7",
   "metadata": {},
   "source": [
    "-> 8bits = 1bytes -> 6*1bytes = 8"
   ]
  },
  {
   "cell_type": "code",
   "execution_count": 21,
   "id": "56bd5bad",
   "metadata": {},
   "outputs": [
    {
     "data": {
      "text/plain": [
       "48"
      ]
     },
     "execution_count": 21,
     "metadata": {},
     "output_type": "execute_result"
    }
   ],
   "source": [
    "np.array([[1,2,3],[4.5,'5','6']], dtype= np.float64).nbytes"
   ]
  },
  {
   "cell_type": "markdown",
   "id": "f5c63695",
   "metadata": {},
   "source": [
    "-> 64bits = 8bytes -> 6*8bytes = 48"
   ]
  },
  {
   "cell_type": "code",
   "execution_count": null,
   "id": "2e13e6b0",
   "metadata": {},
   "outputs": [],
   "source": []
  },
  {
   "cell_type": "markdown",
   "id": "778bd074",
   "metadata": {},
   "source": [
    "## **`Handling shape`**"
   ]
  },
  {
   "cell_type": "code",
   "execution_count": 22,
   "id": "ae53f30c",
   "metadata": {},
   "outputs": [
    {
     "data": {
      "text/plain": [
       "(2, 4)"
      ]
     },
     "execution_count": 22,
     "metadata": {},
     "output_type": "execute_result"
    }
   ],
   "source": [
    "# reshape\n",
    "\n",
    "test_matrix = [[1,2,3,4],[1,2,4,8]]\n",
    "np.array(test_matrix).shape"
   ]
  },
  {
   "cell_type": "code",
   "execution_count": 23,
   "id": "18bf5ca6",
   "metadata": {},
   "outputs": [
    {
     "data": {
      "text/plain": [
       "array([1, 2, 3, 4, 1, 2, 4, 8])"
      ]
     },
     "execution_count": 23,
     "metadata": {},
     "output_type": "execute_result"
    }
   ],
   "source": [
    "np.array(test_matrix).reshape(8,)"
   ]
  },
  {
   "cell_type": "code",
   "execution_count": 24,
   "id": "22c9f9e2",
   "metadata": {},
   "outputs": [
    {
     "data": {
      "text/plain": [
       "(8,)"
      ]
     },
     "execution_count": 24,
     "metadata": {},
     "output_type": "execute_result"
    }
   ],
   "source": [
    "np.array(test_matrix).reshape(8,).shape"
   ]
  },
  {
   "cell_type": "code",
   "execution_count": 25,
   "id": "123146d5",
   "metadata": {},
   "outputs": [
    {
     "data": {
      "text/plain": [
       "(2, 4)"
      ]
     },
     "execution_count": 25,
     "metadata": {},
     "output_type": "execute_result"
    }
   ],
   "source": [
    "np.array(test_matrix).reshape(2,4).shape"
   ]
  },
  {
   "cell_type": "code",
   "execution_count": 26,
   "id": "7ea70306",
   "metadata": {},
   "outputs": [
    {
     "data": {
      "text/plain": [
       "(4, 2)"
      ]
     },
     "execution_count": 26,
     "metadata": {},
     "output_type": "execute_result"
    }
   ],
   "source": [
    "np.array(test_matrix).reshape(-1,2).shape"
   ]
  },
  {
   "cell_type": "code",
   "execution_count": 27,
   "id": "d904255a",
   "metadata": {},
   "outputs": [
    {
     "data": {
      "text/plain": [
       "array([[[1, 2],\n",
       "        [3, 4]],\n",
       "\n",
       "       [[1, 2],\n",
       "        [4, 8]]])"
      ]
     },
     "execution_count": 27,
     "metadata": {},
     "output_type": "execute_result"
    }
   ],
   "source": [
    "np.array(test_matrix).reshape(2,2,2)"
   ]
  },
  {
   "cell_type": "code",
   "execution_count": 28,
   "id": "5f3cc132",
   "metadata": {},
   "outputs": [
    {
     "data": {
      "text/plain": [
       "(2, 2, 2)"
      ]
     },
     "execution_count": 28,
     "metadata": {},
     "output_type": "execute_result"
    }
   ],
   "source": [
    "np.array(test_matrix).reshape(2,2,2).shape"
   ]
  },
  {
   "cell_type": "code",
   "execution_count": null,
   "id": "5ed734be",
   "metadata": {},
   "outputs": [],
   "source": []
  },
  {
   "cell_type": "markdown",
   "id": "09eb55e0",
   "metadata": {},
   "source": [
    "`flatten`"
   ]
  },
  {
   "cell_type": "code",
   "execution_count": 30,
   "id": "96cb49f8",
   "metadata": {},
   "outputs": [
    {
     "data": {
      "text/plain": [
       "array([1, 2, 3, 4, 1, 2, 5, 7, 1, 2, 3, 4, 1, 2, 5, 7])"
      ]
     },
     "execution_count": 30,
     "metadata": {},
     "output_type": "execute_result"
    }
   ],
   "source": [
    "test_matrix= [[[1,2,3,4],[1,2,5,7]], [[1,2,3,4],[1,2,5,7]]]\n",
    "np.array(test_matrix).flatten()"
   ]
  },
  {
   "cell_type": "code",
   "execution_count": null,
   "id": "69ee2376",
   "metadata": {},
   "outputs": [],
   "source": []
  },
  {
   "cell_type": "code",
   "execution_count": null,
   "id": "3c9a7ec0",
   "metadata": {},
   "outputs": [],
   "source": []
  },
  {
   "cell_type": "markdown",
   "id": "d62c9fa4",
   "metadata": {},
   "source": [
    "## **`Indexing & slicing`**"
   ]
  },
  {
   "cell_type": "code",
   "execution_count": 31,
   "id": "97b08d9c",
   "metadata": {},
   "outputs": [
    {
     "name": "stdout",
     "output_type": "stream",
     "text": [
      "[[1 2 3]\n",
      " [4 5 6]]\n",
      "1\n",
      "1\n",
      "[[12  2  3]\n",
      " [ 4  5  6]]\n",
      "[[5 2 3]\n",
      " [4 5 6]]\n"
     ]
    }
   ],
   "source": [
    "# indexing\n",
    "\n",
    "a = np.array([[1,2,3],[4.5,5,6]],int)\n",
    "\n",
    "print(a)\n",
    "print(a[0,0])\n",
    "print(a[0][0])\n",
    "\n",
    "a[0,0]= 12 # matrix 0,0에 12 할당\n",
    "print(a)\n",
    "a[0][0] = 5 # matrix 0,0에 12 할당\n",
    "print(a)"
   ]
  },
  {
   "cell_type": "code",
   "execution_count": 32,
   "id": "d34acf33",
   "metadata": {},
   "outputs": [
    {
     "data": {
      "text/plain": [
       "array([[1, 2, 3],\n",
       "       [4, 5, 6]])"
      ]
     },
     "execution_count": 32,
     "metadata": {},
     "output_type": "execute_result"
    }
   ],
   "source": [
    "test_example = np.array([[1,2,3],[4.5,5,6]],int)\n",
    "test_example"
   ]
  },
  {
   "cell_type": "code",
   "execution_count": 33,
   "id": "b7745d8e",
   "metadata": {},
   "outputs": [
    {
     "data": {
      "text/plain": [
       "1"
      ]
     },
     "execution_count": 33,
     "metadata": {},
     "output_type": "execute_result"
    }
   ],
   "source": [
    "test_example[0][0]"
   ]
  },
  {
   "cell_type": "code",
   "execution_count": 34,
   "id": "9836a056",
   "metadata": {},
   "outputs": [
    {
     "data": {
      "text/plain": [
       "1"
      ]
     },
     "execution_count": 34,
     "metadata": {},
     "output_type": "execute_result"
    }
   ],
   "source": [
    "test_example[0,0]"
   ]
  },
  {
   "cell_type": "code",
   "execution_count": 37,
   "id": "b44176b2",
   "metadata": {},
   "outputs": [
    {
     "name": "stdout",
     "output_type": "stream",
     "text": [
      "[[ 3  4  5]\n",
      " [ 8  9 10]]\n",
      "[7 8]\n",
      "[[ 6  7  8  9 10]]\n"
     ]
    }
   ],
   "source": [
    "# slicing\n",
    "\n",
    "a = np.array([[1,2,3,4,5], [6,7,8,9,10]], int)\n",
    "\n",
    "print(a[:,2:]) # 전체 row의 2열 이상\n",
    "print(a[1,1:3]) # 1 row의 1열~2열\n",
    "print(a[1:3]) # 1 row ~ 2row의 전체"
   ]
  },
  {
   "cell_type": "code",
   "execution_count": 39,
   "id": "1fe483d3",
   "metadata": {},
   "outputs": [
    {
     "data": {
      "text/plain": [
       "array([[1, 2, 5, 8],\n",
       "       [1, 2, 5, 8]])"
      ]
     },
     "execution_count": 39,
     "metadata": {},
     "output_type": "execute_result"
    }
   ],
   "source": [
    "test_example = np.array([[1,2,5,8],[1,2,5,8],[1,2,5,8],[1,2,5,8]],int)\n",
    "\n",
    "test_example[:2,:]"
   ]
  },
  {
   "cell_type": "code",
   "execution_count": null,
   "id": "37b3e9a4",
   "metadata": {},
   "outputs": [],
   "source": []
  },
  {
   "cell_type": "markdown",
   "id": "e93adead",
   "metadata": {},
   "source": [
    "## **`creation function`**"
   ]
  },
  {
   "cell_type": "code",
   "execution_count": null,
   "id": "3784a46a",
   "metadata": {},
   "outputs": [],
   "source": []
  }
 ],
 "metadata": {
  "kernelspec": {
   "display_name": "Python 3 (ipykernel)",
   "language": "python",
   "name": "python3"
  },
  "language_info": {
   "codemirror_mode": {
    "name": "ipython",
    "version": 3
   },
   "file_extension": ".py",
   "mimetype": "text/x-python",
   "name": "python",
   "nbconvert_exporter": "python",
   "pygments_lexer": "ipython3",
   "version": "3.9.13"
  }
 },
 "nbformat": 4,
 "nbformat_minor": 5
}
