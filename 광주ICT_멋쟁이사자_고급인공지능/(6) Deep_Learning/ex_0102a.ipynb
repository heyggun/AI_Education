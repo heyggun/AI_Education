{
 "cells": [
  {
   "cell_type": "markdown",
   "metadata": {},
   "source": [
    "### 1. Sequential API 사용하여 model 만들기."
   ]
  },
  {
   "cell_type": "code",
   "execution_count": null,
   "metadata": {},
   "outputs": [],
   "source": [
    "import pandas as pd\n",
    "import numpy as np\n",
    "import warnings\n",
    "import matplotlib.pyplot as plt\n",
    "from sklearn.model_selection import train_test_split\n",
    "from sklearn.preprocessing import MinMaxScaler\n",
    "from sklearn.datasets import load_boston\n",
    "from tensorflow.keras.models import Sequential\n",
    "from tensorflow.keras.layers import Dense\n",
    "from tensorflow.keras.optimizers import Adam, RMSprop, SGD\n",
    "warnings.filterwarnings('ignore')                              # Turn the warnings off.\n",
    "%matplotlib inline"
   ]
  },
  {
   "cell_type": "markdown",
   "metadata": {},
   "source": [
    "#### 1.1. 데이터 읽어 오기:"
   ]
  },
  {
   "cell_type": "code",
   "execution_count": null,
   "metadata": {},
   "outputs": [],
   "source": [
    "# 내장 데이터 불러오기.\n",
    "data_raw = load_boston()\n",
    "X = data_raw['data']\n",
    "y = data_raw['target'].reshape(-1,1)\n",
    "header = data_raw['feature_names']"
   ]
  },
  {
   "cell_type": "code",
   "execution_count": null,
   "metadata": {},
   "outputs": [],
   "source": [
    "data_raw.keys()"
   ]
  },
  {
   "cell_type": "code",
   "execution_count": null,
   "metadata": {},
   "outputs": [],
   "source": [
    "# 보기.\n",
    "df = pd.DataFrame(X, columns = data_raw['feature_names'])\n",
    "df.head()"
   ]
  },
  {
   "cell_type": "code",
   "execution_count": null,
   "metadata": {},
   "outputs": [],
   "source": [
    "# 데이터 쪼개기.\n",
    "X_train, X_test, y_train, y_test = train_test_split(X, y, test_size=0.3, random_state=123)\n",
    "n_vars = X_train.shape[1]"
   ]
  },
  {
   "cell_type": "code",
   "execution_count": null,
   "metadata": {},
   "outputs": [],
   "source": [
    "# X를 스케일링 한다.\n",
    "# X를 스케일링 해주어야 학습이 잘 된다!\n",
    "my_scaler = MinMaxScaler()\n",
    "my_scaler.fit(X_train)                           # X_train만 가지고 스케일러 학습 실행!\n",
    "X_train = my_scaler.transform(X_train)\n",
    "X_test = my_scaler.transform(X_test)"
   ]
  },
  {
   "cell_type": "markdown",
   "metadata": {},
   "source": [
    "#### 1.2. Sequential API model 정의:"
   ]
  },
  {
   "cell_type": "code",
   "execution_count": null,
   "metadata": {},
   "outputs": [],
   "source": [
    "# Sequential object 객체에 layer 추가.\n",
    "my_model1 = Sequential()\n",
    "my_model1.add(Dense(input_dim = n_vars, units = 1, activation=\"linear\"))    # 선형회귀의 유일한 한개의 층."
   ]
  },
  {
   "cell_type": "code",
   "execution_count": null,
   "metadata": {
    "scrolled": true
   },
   "outputs": [],
   "source": [
    "# 모델의 summary (내부 구조) 출력.\n",
    "# 파라미터의 수 = n_vars + 1 = 13 + 1 = 14.\n",
    "my_model1.summary()"
   ]
  },
  {
   "cell_type": "markdown",
   "metadata": {},
   "source": [
    "#### 1.3. Hyperparameter 와 Optimizer 정의:"
   ]
  },
  {
   "cell_type": "code",
   "execution_count": null,
   "metadata": {},
   "outputs": [],
   "source": [
    "# Hyperparameters.\n",
    "n_epochs = 700\n",
    "batch_size = 32\n",
    "learn_rate = 0.005"
   ]
  },
  {
   "cell_type": "code",
   "execution_count": null,
   "metadata": {},
   "outputs": [],
   "source": [
    "# Optimizer 객체 생성 후 컴파일한다.\n",
    "my_optimizer=Adam(lr=learn_rate)\n",
    "my_model1.compile(loss = \"mse\", optimizer = my_optimizer, metrics=[\"mse\"])"
   ]
  },
  {
   "cell_type": "markdown",
   "metadata": {},
   "source": [
    "#### 1.4. 학습 & History 시각화:"
   ]
  },
  {
   "cell_type": "code",
   "execution_count": null,
   "metadata": {},
   "outputs": [],
   "source": [
    "# 학습.\n",
    "# verbose = 0 : 출력 없음. verbose = 1 : 출력 함.\n",
    "my_summary = my_model1.fit(X_train, y_train, epochs=n_epochs, batch_size = batch_size, validation_split = 0.2, verbose = 0)"
   ]
  },
  {
   "cell_type": "code",
   "execution_count": null,
   "metadata": {},
   "outputs": [],
   "source": [
    "# 학습된 파라미터 출력.\n",
    "print(\"Weights : \", my_model1.layers[0].get_weights()[0].reshape(1,-1))\n",
    "print(\"Bias    : \", my_model1.layers[0].get_weights()[1])"
   ]
  },
  {
   "cell_type": "code",
   "execution_count": null,
   "metadata": {},
   "outputs": [],
   "source": [
    "# 학습 history의 key 확인.\n",
    "my_summary.history.keys()"
   ]
  },
  {
   "cell_type": "code",
   "execution_count": null,
   "metadata": {},
   "outputs": [],
   "source": [
    "# 학습 history 출력. \n",
    "n_skip = 10                            # Skip the first few steps.\n",
    "plt.plot(my_summary.history['loss'][n_skip:], c=\"b\")\n",
    "plt.plot(my_summary.history['val_loss'][n_skip:], c=\"g\")\n",
    "plt.title('Training History')\n",
    "plt.ylabel('LOSS')\n",
    "plt.xlabel('Epoch')\n",
    "plt.legend(['Train', 'Validation'], loc='upper right')\n",
    "plt.show()"
   ]
  },
  {
   "cell_type": "markdown",
   "metadata": {},
   "source": [
    "#### 1.5. 테스팅: "
   ]
  },
  {
   "cell_type": "code",
   "execution_count": null,
   "metadata": {},
   "outputs": [],
   "source": [
    "# 예측 및 평가.\n",
    "y_pred = my_model1.predict(X_test)\n",
    "RMSE = np.sqrt(np.mean((y_test-y_pred)**2))\n",
    "np.round(RMSE,3)"
   ]
  },
  {
   "cell_type": "code",
   "execution_count": null,
   "metadata": {},
   "outputs": [],
   "source": [
    "# evaluate() 메서드를 사용해서 평가.\n",
    "MSE = my_model1.evaluate(X_test, y_test, verbose=0)[1]        # 0 = loss value. 1 = metric value.\n",
    "RMSE = np.sqrt(MSE)\n",
    "print(\"Test RMSE : {}\".format(np.round(RMSE,3)))"
   ]
  },
  {
   "cell_type": "code",
   "execution_count": null,
   "metadata": {},
   "outputs": [],
   "source": [
    "# 새로운 조건이 주어졌을 때 예측.\n",
    "X_new = np.array([[0.03, 0.0, 13.0, 0.0, 0.4, 4.3, 23.5, 1.9, 1.0, 273.0, 18.0, 380.0, 7.5]])  # A row array.\n",
    "X_new = my_scaler.transform(X_new)                                                             # 스케일링 적용 필수!!!\n",
    "# Y_pred_new = my_model1.predict(X_new)\n",
    "Y_pred_new = my_model1.predict(X_new)\n",
    "print(np.round(Y_pred_new[0,0],3))"
   ]
  },
  {
   "cell_type": "markdown",
   "metadata": {},
   "source": [
    "### 2. Functional API 사용하여 model 만들기."
   ]
  },
  {
   "cell_type": "code",
   "execution_count": null,
   "metadata": {},
   "outputs": [],
   "source": [
    "from tensorflow.keras.models import Model\n",
    "from tensorflow.keras.layers import Input, Dense"
   ]
  },
  {
   "cell_type": "markdown",
   "metadata": {},
   "source": [
    "#### 2.1. Functional API model 정의:"
   ]
  },
  {
   "cell_type": "code",
   "execution_count": null,
   "metadata": {},
   "outputs": [],
   "source": [
    "my_input = Input(shape=(n_vars,))                                     # Input layer.\n",
    "my_output = Dense(units=1,activation='linear')(my_input)              # Output layer."
   ]
  },
  {
   "cell_type": "code",
   "execution_count": null,
   "metadata": {},
   "outputs": [],
   "source": [
    "my_model2 = Model(inputs=my_input,outputs=my_output)                   # The model."
   ]
  },
  {
   "cell_type": "code",
   "execution_count": null,
   "metadata": {},
   "outputs": [],
   "source": [
    "# Summary of the model.\n",
    "# 파라미터의 수 = n_vars + 1 = 13 + 1 = 14.\n",
    "my_model2.summary()"
   ]
  },
  {
   "cell_type": "code",
   "execution_count": null,
   "metadata": {},
   "outputs": [],
   "source": [
    "# Optimizer 객체 생성 후 컴파일한다.\n",
    "my_optimizer=Adam(lr=learn_rate)\n",
    "my_model2.compile(loss = \"mse\", optimizer = my_optimizer, metrics=[\"mse\"])    # Loss = MAE (L1) and Metrics = MSE (L2). "
   ]
  },
  {
   "cell_type": "markdown",
   "metadata": {},
   "source": [
    "#### 2.2. 학습 & History 시각화:"
   ]
  },
  {
   "cell_type": "code",
   "execution_count": null,
   "metadata": {},
   "outputs": [],
   "source": [
    "# 학습.\n",
    "# verbose = 0 : 출력 없음. verbose = 1 : 출력 함.\n",
    "my_summary = my_model2.fit(X_train, y_train, epochs=n_epochs, batch_size = batch_size, validation_split = 0.2, verbose = 0)"
   ]
  },
  {
   "cell_type": "code",
   "execution_count": null,
   "metadata": {},
   "outputs": [],
   "source": [
    "# 학습된 파라미터 출력.\n",
    "# 스케일링된 X_train을 사용해서 계산했기 때문에 직관적인 해석은 어렵다!\n",
    "print(\"Weights : \", my_model2.layers[1].get_weights()[0].reshape(1,-1))\n",
    "print(\"Bias    : \", my_model2.layers[1].get_weights()[1])"
   ]
  },
  {
   "cell_type": "code",
   "execution_count": null,
   "metadata": {},
   "outputs": [],
   "source": [
    "# 학습 history 출력. \n",
    "n_skip = 10                 # Skip the first few steps.\n",
    "plt.plot(my_summary.history['mse'][n_skip:], c=\"b\")\n",
    "plt.plot(my_summary.history['val_mse'][n_skip:], c=\"g\")\n",
    "plt.title('Training History')\n",
    "plt.ylabel('MSE')\n",
    "plt.xlabel('Epoch')\n",
    "plt.legend(['Train', 'Validation'], loc='upper right')\n",
    "plt.show()"
   ]
  },
  {
   "cell_type": "markdown",
   "metadata": {},
   "source": [
    "#### 2.3. 테스팅: "
   ]
  },
  {
   "cell_type": "code",
   "execution_count": null,
   "metadata": {},
   "outputs": [],
   "source": [
    "# evaluate() 메서드를 사용해서 평가.\n",
    "MSE = my_model2.evaluate(X_test, y_test, verbose=0)[1]        # 0 = loss value, 1 = metrics value 반환.\n",
    "RMSE = np.sqrt(MSE)\n",
    "print(\"Test RMSE : {}\".format(np.round(RMSE,3)))"
   ]
  },
  {
   "cell_type": "code",
   "execution_count": null,
   "metadata": {},
   "outputs": [],
   "source": []
  }
 ],
 "metadata": {
  "kernelspec": {
   "display_name": "tensor",
   "language": "python",
   "name": "tensor"
  }
 },
 "nbformat": 4,
 "nbformat_minor": 2
}
