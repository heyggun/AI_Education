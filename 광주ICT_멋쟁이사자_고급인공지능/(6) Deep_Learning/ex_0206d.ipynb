{
 "cells": [
  {
   "cell_type": "markdown",
   "metadata": {},
   "source": [
    "### Bi-LSTM을 활용한 자연어 문서 분류 예측 (Binary)."
   ]
  },
  {
   "cell_type": "code",
   "execution_count": 1,
   "metadata": {},
   "outputs": [],
   "source": [
    "import pandas as pd\n",
    "import numpy as np\n",
    "import warnings    \n",
    "import random\n",
    "import matplotlib.pyplot as plt\n",
    "from sklearn.model_selection import train_test_split\n",
    "from tensorflow.keras.datasets.imdb import load_data, get_word_index       # Movie review data. \n",
    "from tensorflow.keras.models import Sequential\n",
    "from tensorflow.keras.layers import Dense, SimpleRNN, LSTM, Embedding, Bidirectional\n",
    "from tensorflow.keras.utils import to_categorical\n",
    "from tensorflow.keras.preprocessing.sequence import pad_sequences\n",
    "from tensorflow.keras.optimizers import Adam, RMSprop, SGD\n",
    "from tensorflow.keras.callbacks import EarlyStopping\n",
    "warnings.filterwarnings('ignore')                              # Turn the warnings off.\n",
    "%matplotlib inline"
   ]
  },
  {
   "cell_type": "markdown",
   "metadata": {},
   "source": [
    "#### 1. 데이터 불러오기:"
   ]
  },
  {
   "cell_type": "code",
   "execution_count": 2,
   "metadata": {},
   "outputs": [],
   "source": [
    "n_words = 3000                                        # Vocabulary의 크기.\n",
    "(X_train, y_train), (X_test, y_test) = load_data(num_words = n_words)\n",
    "n_train_size = X_train.shape[0]\n",
    "n_test_size = X_test.shape[0]"
   ]
  },
  {
   "cell_type": "code",
   "execution_count": 3,
   "metadata": {},
   "outputs": [
    {
     "name": "stdout",
     "output_type": "stream",
     "text": [
      "--------------------------------------------------\n",
      "Training data X shape: (25000,)\n",
      "Training data y shape: (25000,)\n",
      "--------------------------------------------------\n",
      "Test data X shape: (25000,)\n",
      "Test data y shape: (25000,)\n",
      "--------------------------------------------------\n"
     ]
    }
   ],
   "source": [
    "# 데이터의 Shape확인.\n",
    "print(\"-\"*50)\n",
    "print(\"Training data X shape: {}\".format(X_train.shape))\n",
    "print(\"Training data y shape: {}\".format(y_train.shape))\n",
    "print(\"-\"*50)\n",
    "print(\"Test data X shape: {}\".format(X_test.shape))\n",
    "print(\"Test data y shape: {}\".format(y_test.shape))\n",
    "print(\"-\"*50)"
   ]
  },
  {
   "cell_type": "markdown",
   "metadata": {},
   "source": [
    "#### 2. 데이터 탐색:"
   ]
  },
  {
   "cell_type": "code",
   "execution_count": 4,
   "metadata": {},
   "outputs": [
    {
     "data": {
      "text/plain": [
       "2"
      ]
     },
     "execution_count": 4,
     "metadata": {},
     "output_type": "execute_result"
    }
   ],
   "source": [
    "# y의 고유한 유형의 수 = 리뷰의 유형 수 (2).\n",
    "n_cat = pd.Series(y_train).nunique()\n",
    "n_cat"
   ]
  },
  {
   "cell_type": "code",
   "execution_count": 5,
   "metadata": {},
   "outputs": [
    {
     "name": "stdout",
     "output_type": "stream",
     "text": [
      "[1, 14, 22, 16, 43, 530, 973, 1622, 1385, 65, 458, 2, 66, 2, 4, 173, 36, 256, 5, 25, 100, 43, 838, 112, 50, 670, 2, 9, 35, 480, 284, 5, 150, 4, 172, 112, 167, 2, 336, 385, 39, 4, 172, 2, 1111, 17, 546, 38, 13, 447, 4, 192, 50, 16, 6, 147, 2025, 19, 14, 22, 4, 1920, 2, 469, 4, 22, 71, 87, 12, 16, 43, 530, 38, 76, 15, 13, 1247, 4, 22, 17, 515, 17, 12, 16, 626, 18, 2, 5, 62, 386, 12, 8, 316, 8, 106, 5, 4, 2223, 2, 16, 480, 66, 2, 33, 4, 130, 12, 16, 38, 619, 5, 25, 124, 51, 36, 135, 48, 25, 1415, 33, 6, 22, 12, 215, 28, 77, 52, 5, 14, 407, 16, 82, 2, 8, 4, 107, 117, 2, 15, 256, 4, 2, 7, 2, 5, 723, 36, 71, 43, 530, 476, 26, 400, 317, 46, 7, 4, 2, 1029, 13, 104, 88, 4, 381, 15, 297, 98, 32, 2071, 56, 26, 141, 6, 194, 2, 18, 4, 226, 22, 21, 134, 476, 26, 480, 5, 144, 30, 2, 18, 51, 36, 28, 224, 92, 25, 104, 4, 226, 65, 16, 38, 1334, 88, 12, 16, 283, 5, 16, 2, 113, 103, 32, 15, 16, 2, 19, 178, 32]\n"
     ]
    }
   ],
   "source": [
    "# X에서 임의의 문서 한 개 출력.\n",
    "# Embedding 층에 입력하기 위해서 정수 (인덱스)로 인코딩 되어 있다!\n",
    "print(X_train[0])"
   ]
  },
  {
   "cell_type": "code",
   "execution_count": 6,
   "metadata": {},
   "outputs": [
    {
     "name": "stdout",
     "output_type": "stream",
     "text": [
      "[218, 189, 141, 550, 147, 43, 123, 562, 233, 130, 450, 99, 117, 238, 109, 129, 163, 752, 212, 177, 129, 140, 256, 888, 93, 142, 220, 193, 171, 221, 174, 647, 233, 162, 597, 234, 51, 336, 139, 231, 704, 142, 861, 132, 122, 570, 55, 214, 103, 186, 113, 169, 469, 138, 302, 766, 351, 146, 59, 206, 107, 152, 186, 431, 147, 684, 383, 324, 252, 263, 787, 211, 314, 118, 390, 132, 710, 306, 167, 115, 95, 158, 156, 82, 502, 314, 190, 174, 60, 145, 214, 659, 408, 515, 461, 202, 238, 170, 107, 171]\n"
     ]
    }
   ],
   "source": [
    "# 첫 100 개의 문서 길이를 확인해 본다.\n",
    "# 문서 길이가 일정하지 않음을 알 수 있다.\n",
    "print([len(a) for a in X_train[0:100]])"
   ]
  },
  {
   "cell_type": "code",
   "execution_count": 7,
   "metadata": {},
   "outputs": [],
   "source": [
    "# 딕셔너리를 가져온다. 인덱스로 인코딩된 문서를 단어의 조합으로 변환할 수 있게 된다.\n",
    "my_dict = get_word_index(path='imdb_word_index.json')"
   ]
  },
  {
   "cell_type": "code",
   "execution_count": 8,
   "metadata": {},
   "outputs": [],
   "source": [
    "# 딕셔너리 출력.\n",
    "# my_dict"
   ]
  },
  {
   "cell_type": "code",
   "execution_count": 9,
   "metadata": {},
   "outputs": [],
   "source": [
    "# 'key' 와 'value'의 역할을 반대로 바꾸어 준다.\n",
    "# 컴프리헨션 방법을 적용한다.\n",
    "my_dict_inv = {v:k for k,v in my_dict.items()}"
   ]
  },
  {
   "cell_type": "code",
   "execution_count": 10,
   "metadata": {},
   "outputs": [
    {
     "name": "stdout",
     "output_type": "stream",
     "text": [
      "the clear fact entertaining there life back br is and show of performance stars br actors film him many should movie reasons to and reading and are in of scenes and and of and out compared not boss yes to and show its disappointed fact raw to it justice by br of where clear fact many your way and with city nice are is along wrong not as it way she but this anything up haven't been by who of choices br of you to as this i'd it and who of shot you'll to love for and of you it is sequels of little quest are seen watched front chemistry to simply alive of chris being it is say easy and cry in chemistry but and all it maybe this is wing film job live of and relief and level names and and to be and serial and watch is men go this of wing american from and moving is and put this of jerry for places so work and watch and lot br that from sometimes and make department introduced to and from action at turns in low that in gay i'm of chemistry and i i simply alive it is time done inspector to watching look world named for more tells up many fans are that movie music her get and but seems in people film that if explain in why for and find of where br if and movie throughout if and of you best look red and to recently in successfully much unfortunately going dan and stuck is him sequences but of you of enough for its br that beautiful put reasons of chris chemistry wing and for of you red time and to as and and of chris less br of and torture in low alive in gay some br of wing if time actual in also side any if name takes for of friendship it of 10 for had and great to as you students for movie of going and for bad well best had at woman br musical when it caused of and to as gem in and for and look end gene in at world aliens of you it meet but is quite br western ideas of chris little of films he an time done this were right too to of enough for of ending become family beautiful are make right being it time much bit especially and for of you parts bond who of here parts at due given movie of once give find actor to recently in at world and loved and it is video him fact you to by br of where br of grown fight culture leads\n"
     ]
    }
   ],
   "source": [
    "# 문서를 변환해서 출력해 본다.\n",
    "i_review = 10                                        # 문서의 번호. 임의로 변경 가능하다.\n",
    "review = list(pd.Series(X_train[i_review]).apply(lambda x: my_dict_inv[x]))\n",
    "print(' '.join(review))"
   ]
  },
  {
   "cell_type": "markdown",
   "metadata": {},
   "source": [
    "#### 3. 데이터 전처리:"
   ]
  },
  {
   "cell_type": "code",
   "execution_count": 11,
   "metadata": {},
   "outputs": [],
   "source": [
    "# Padding: 문서의 길이는 일정하게 maxlen로 맞추어 진다.\n",
    "# maxlen 보다 더 길면 자르고, 더 짧으면 0으로 채워 넣는다. \n",
    "X_train = pad_sequences(X_train, maxlen = 100, padding = 'pre')    # 'pre'  앞에 0을 넣는다. 'post' 뒤에 0을 넣는다.\n",
    "X_test = pad_sequences(X_test, maxlen = 100, padding = 'pre')"
   ]
  },
  {
   "cell_type": "code",
   "execution_count": 12,
   "metadata": {},
   "outputs": [
    {
     "data": {
      "text/plain": [
       "array([[1415,   33,    6,   22,   12,  215,   28,   77,   52,    5,   14,\n",
       "         407,   16,   82,    2,    8,    4,  107,  117,    2,   15,  256,\n",
       "           4,    2,    7,    2,    5,  723,   36,   71,   43,  530,  476,\n",
       "          26,  400,  317,   46,    7,    4,    2, 1029,   13,  104,   88,\n",
       "           4,  381,   15,  297,   98,   32, 2071,   56,   26,  141,    6,\n",
       "         194,    2,   18,    4,  226,   22,   21,  134,  476,   26,  480,\n",
       "           5,  144,   30,    2,   18,   51,   36,   28,  224,   92,   25,\n",
       "         104,    4,  226,   65,   16,   38, 1334,   88,   12,   16,  283,\n",
       "           5,   16,    2,  113,  103,   32,   15,   16,    2,   19,  178,\n",
       "          32],\n",
       "       [ 163,   11,    2,    2,    4, 1153,    9,  194,  775,    7,    2,\n",
       "           2,  349, 2637,  148,  605,    2,    2,   15,  123,  125,   68,\n",
       "           2,    2,   15,  349,  165,    2,   98,    5,    4,  228,    9,\n",
       "          43,    2, 1157,   15,  299,  120,    5,  120,  174,   11,  220,\n",
       "         175,  136,   50,    9,    2,  228,    2,    5,    2,  656,  245,\n",
       "        2350,    5,    4,    2,  131,  152,  491,   18,    2,   32,    2,\n",
       "        1212,   14,    9,    6,  371,   78,   22,  625,   64, 1382,    9,\n",
       "           8,  168,  145,   23,    4, 1690,   15,   16,    4, 1355,    5,\n",
       "          28,    6,   52,  154,  462,   33,   89,   78,  285,   16,  145,\n",
       "          95],\n",
       "       [1301,    4, 1873,   33,   89,   78,   12,   66,   16,    4,  360,\n",
       "           7,    4,   58,  316,  334,   11,    4, 1716,   43,  645,  662,\n",
       "           8,  257,   85, 1200,   42, 1228, 2578,   83,   68,    2,   15,\n",
       "          36,  165, 1539,  278,   36,   69,    2,  780,    8,  106,   14,\n",
       "           2, 1338,   18,    6,   22,   12,  215,   28,  610,   40,    6,\n",
       "          87,  326,   23, 2300,   21,   23,   22,   12,  272,   40,   57,\n",
       "          31,   11,    4,   22,   47,    6, 2307,   51,    9,  170,   23,\n",
       "         595,  116,  595, 1352,   13,  191,   79,  638,   89,    2,   14,\n",
       "           9,    8,  106,  607,  624,   35,  534,    6,  227,    7,  129,\n",
       "         113]])"
      ]
     },
     "execution_count": 12,
     "metadata": {},
     "output_type": "execute_result"
    }
   ],
   "source": [
    "# Padding된 결과를 본다.\n",
    "X_train[:3,:]"
   ]
  },
  {
   "cell_type": "code",
   "execution_count": 13,
   "metadata": {},
   "outputs": [],
   "source": [
    "# y는 이미 binary이기 때문에 one-hot-encoding 변환이 필요 없다."
   ]
  },
  {
   "cell_type": "markdown",
   "metadata": {},
   "source": [
    "#### 4. 딥러닝 모델 정의:"
   ]
  },
  {
   "cell_type": "code",
   "execution_count": 14,
   "metadata": {},
   "outputs": [],
   "source": [
    "n_hidden = 50                   # 개개 memory cell 안의 neuron 수.\n",
    "n_emb = 100                     # Embedding 공간의 차원수. "
   ]
  },
  {
   "cell_type": "code",
   "execution_count": 15,
   "metadata": {},
   "outputs": [],
   "source": [
    "# LSTM network model.\n",
    "my_model = Sequential(name = \"LSTM_network\")\n",
    "my_model.add(Embedding(n_words, n_emb, name=\"Embedding\"))           # n_words = vocabulary 크기, n_emb = embedding 공간의 차원수.\n",
    "my_model.add(Bidirectional(LSTM(units=n_hidden, return_sequences=False, input_shape=(None, n_emb), activation='tanh'), name=\"Bi-LSTM\"))\n",
    "#my_model.add(LSTM(units=n_hidden, return_sequences=False, input_shape=(None, n_emb), activation='tanh', name=\"LSTM\"))\n",
    "my_model.add(Dense(1, activation='sigmoid', name=\"Dense\"))    # Binary output!!!"
   ]
  },
  {
   "cell_type": "code",
   "execution_count": 16,
   "metadata": {},
   "outputs": [
    {
     "name": "stdout",
     "output_type": "stream",
     "text": [
      "Model: \"LSTM_network\"\n",
      "_________________________________________________________________\n",
      " Layer (type)                Output Shape              Param #   \n",
      "=================================================================\n",
      " Embedding (Embedding)       (None, None, 100)         300000    \n",
      "                                                                 \n",
      " Bi-LSTM (Bidirectional)     (None, 100)               60400     \n",
      "                                                                 \n",
      " Dense (Dense)               (None, 1)                 101       \n",
      "                                                                 \n",
      "=================================================================\n",
      "Total params: 360,501\n",
      "Trainable params: 360,501\n",
      "Non-trainable params: 0\n",
      "_________________________________________________________________\n"
     ]
    }
   ],
   "source": [
    "# 모델의 summary (내부 구조) 출력.\n",
    "# 모델의 summary (내부 구조) 출력.\n",
    "# Embedding의 파라미터 수 = n_words * n_emb  = 3000 * 100 = 300000.  \n",
    "# Embedding층의 역할은 차원 축소이다! \n",
    "# Embedding층에 개개 단어의 정수 인덱스를 입력하면 차원 축소된 밀집 벡터를 학습하게 된다! \n",
    "# Bi-LSTM은 LSTM 보다 파라미터의 수가 두 배 이다.\n",
    "my_model.summary()"
   ]
  },
  {
   "cell_type": "markdown",
   "metadata": {},
   "source": [
    "#### 5. Hyperparameter 와 Optimizer 정의:"
   ]
  },
  {
   "cell_type": "code",
   "execution_count": 17,
   "metadata": {},
   "outputs": [],
   "source": [
    "n_epochs = 20                      # Number of epochs.\n",
    "batch_size = 64                    # Size of each batch.\n",
    "learn_rate = 0.0001                 # learning rate.  "
   ]
  },
  {
   "cell_type": "code",
   "execution_count": 18,
   "metadata": {},
   "outputs": [],
   "source": [
    "# Optimizer 객체 생성 후 컴파일한다.\n",
    "my_optimizer=Adam(lr=learn_rate)\n",
    "my_model.compile(loss = \"binary_crossentropy\", optimizer = my_optimizer, metrics=[\"accuracy\"])"
   ]
  },
  {
   "cell_type": "markdown",
   "metadata": {},
   "source": [
    "#### 6. 학습 & History 시각화:"
   ]
  },
  {
   "cell_type": "code",
   "execution_count": 19,
   "metadata": {},
   "outputs": [
    {
     "name": "stdout",
     "output_type": "stream",
     "text": [
      "Epoch 1/20\n",
      "313/313 [==============================] - 23s 65ms/step - loss: 0.6512 - accuracy: 0.6213 - val_loss: 0.5335 - val_accuracy: 0.7290\n",
      "Epoch 2/20\n",
      "313/313 [==============================] - 19s 60ms/step - loss: 0.3943 - accuracy: 0.8271 - val_loss: 0.3890 - val_accuracy: 0.8320\n",
      "Epoch 3/20\n",
      "313/313 [==============================] - 18s 58ms/step - loss: 0.3194 - accuracy: 0.8691 - val_loss: 0.3761 - val_accuracy: 0.8396\n",
      "Epoch 4/20\n",
      "313/313 [==============================] - 18s 57ms/step - loss: 0.2914 - accuracy: 0.8844 - val_loss: 0.3740 - val_accuracy: 0.8410\n",
      "Epoch 5/20\n",
      "313/313 [==============================] - 19s 59ms/step - loss: 0.2698 - accuracy: 0.8934 - val_loss: 0.3863 - val_accuracy: 0.8404\n",
      "Epoch 6/20\n",
      "313/313 [==============================] - 19s 62ms/step - loss: 0.2547 - accuracy: 0.9001 - val_loss: 0.3975 - val_accuracy: 0.8350\n",
      "Epoch 7/20\n",
      "313/313 [==============================] - 18s 56ms/step - loss: 0.2390 - accuracy: 0.9074 - val_loss: 0.4149 - val_accuracy: 0.8342\n",
      "Epoch 7: early stopping\n"
     ]
    }
   ],
   "source": [
    "my_EarlyStop = EarlyStopping(monitor='val_loss', mode='min', verbose=1, patience=3)          # 조기 종료 허락!\n",
    "my_summary = my_model.fit(X_train, y_train, epochs=n_epochs, batch_size = batch_size, validation_split=0.2, verbose=1, callbacks=[my_EarlyStop])"
   ]
  },
  {
   "cell_type": "code",
   "execution_count": 20,
   "metadata": {},
   "outputs": [
    {
     "data": {
      "image/png": "[encoded data removed]",
      "text/plain": [
       "<Figure size 432x288 with 1 Axes>"
      ]
     },
     "metadata": {
      "needs_background": "light"
     },
     "output_type": "display_data"
    }
   ],
   "source": [
    "# 학습 history 출력. \n",
    "plt.plot(my_summary.history['accuracy'], c=\"b\")\n",
    "plt.plot(my_summary.history['val_accuracy'], c=\"g\")\n",
    "plt.title('Training History')\n",
    "plt.ylabel('Accuracy')\n",
    "plt.xlabel('Epoch')\n",
    "plt.legend(['Train', 'Validation'], loc='lower right')\n",
    "plt.show()"
   ]
  },
  {
   "cell_type": "markdown",
   "metadata": {},
   "source": [
    "#### 7. 테스팅: "
   ]
  },
  {
   "cell_type": "code",
   "execution_count": 21,
   "metadata": {},
   "outputs": [
    {
     "name": "stdout",
     "output_type": "stream",
     "text": [
      "정답 : 1\n",
      "1/1 [==============================] - 1s 555ms/step\n",
      "예측 : 1\n",
      "be was out big why that's has as on was few but that in at are and not that best are that's but we of great written of and great than who sheer she in of jones finding other wonder maybe as on are up name was big can that that's flight kick and other with funny starts br included your he's danger was point between for would three had makes not several about love this as on would with time makes to about to and off is him together american from real maybe up br be characters are day\n",
      "--------------------------------------------------\n",
      "정답 : 1\n",
      "1/1 [==============================] - 0s 16ms/step\n",
      "예측 : 1\n",
      "editing fiction true cast but of him avoid for seeing me was video force any i i and seeing i i as it and news if each in looking for her plot actors one kept who he's as on with way and which in looking for great than these doesn't that is someone gore but think br have some more like one kept and of every it's sets yet br directors wonder does for more he great some scene this and for people terrible used don't have might comes scare to and he film having to us by br have\n",
      "--------------------------------------------------\n",
      "정답 : 1\n",
      "1/1 [==============================] - 0s 15ms/step\n",
      "예측 : 1\n",
      "can't pace even add br don't all filmmakers she this truck from and in could that just of i've film and and they of 5 not in at shooting no major that was with set but is image cheesy  was me in business that tarzan i i make is getting james in pleasant this are when with by br of where many br of and loved that with and and to am i'll br only acting gun but an of without this that that with video rest anyway to straight cast in think and too beginning typical as and\n",
      "--------------------------------------------------\n",
      "정답 : 0\n",
      "1/1 [==============================] - 0s 13ms/step\n",
      "예측 : 0\n",
      "to it cases convincing in at is and reality this his see and not other this headed emma as with is now hope br sense cartoon don't plot and as you after one released i i out is again and and and after one will is ben br and and fails and and to are to are to are all with out funny and and and i i to nonsense but when off all bunch this as you director not funny and and gone i i sexual friends that trying in of lie dull what have can that they an\n",
      "--------------------------------------------------\n",
      "정답 : 0\n",
      "1/1 [==============================] - 0s 16ms/step\n",
      "예측 : 0\n",
      "was and did of too all local of guess romantic however an of god reasons of and whole to minutes for bad can of stop just of see too from one in and were words i i shots has of desire sent of you it is very despite br and and to and too br post is you by br of junk gags many br of someone it just and and not comedy of actual without stop something to of difference using grow culture in an levels many mixed i i fall but only hours still people this radio and\n",
      "--------------------------------------------------\n",
      "정답 : 1\n",
      "1/1 [==============================] - 0s 16ms/step\n",
      "예측 : 1\n",
      "man and missing to cannot have mentioned and for with of its harry has of attempting on men adds to even loud up just so proud girl been is jr and more know and br voice not that nothing which few now of and to of stop inspired up br and been and it's think br of least characters to and with played and was mediocre they person and is stars br gets not for with up some br you'd been some br thomas played i i her john br and and since who doesn't person and character last fan\n",
      "--------------------------------------------------\n",
      "정답 : 0\n",
      "1/1 [==============================] - 0s 15ms/step\n",
      "예측 : 0\n",
      "or okay in thankfully in and until in and i i of you it time and to different him are year of over fun this scene and and like nick and it had copy to of 80's to and br of over great this scene he played in change golden and feeling it and movies her our be and as and of on wrote be and he played in whatever i i was least as this of dull old that with explain not are year that with anything still always life this job gets to that can't still having my\n",
      "--------------------------------------------------\n",
      "정답 : 1\n",
      "1/1 [==============================] - 0s 15ms/step\n",
      "예측 : 1\n",
      "the great did of i've their but make once of until gives once way as and house br and male br and out but production on was nothing critics as my most of their with movies until premise day original he get still\n",
      "--------------------------------------------------\n",
      "정답 : 1\n",
      "1/1 [==============================] - 0s 16ms/step\n",
      "예측 : 1\n",
      "is on incredible of their look keep who of crappy enjoy what of powerful going with and in down is villain like with sweet all waste and take justice all after one although by like after other favorite know with of uses may villain to and know with of and brought br of robert no of delivered and first of left winning or humour know with of and br of flick like and to and just about killer case such with of little decide they of here by and similar of and me look you're of ending when is you'd\n",
      "--------------------------------------------------\n",
      "정답 : 0\n",
      "1/1 [==============================] - 0s 15ms/step\n",
      "예측 : 0\n",
      "for my tries in fighting in is and young of and for all there and to and from through those american to and and it years wish to of ed and his our and and disappointed and it's so and and her and and made those film of plus and i i as and and thing one is makers above he's and decade effective this and that it by br be performance learned series that's i i by because copy 10 and and and say and picture it is and like and of my and and be and began possible\n",
      "--------------------------------------------------\n"
     ]
    }
   ],
   "source": [
    "# 랜덤으로 테스트 문장을 추출해서 예측해 본다.\n",
    "for i_test in [ random.randint(0,n_test_size-1) for _ in range(10)]:\n",
    "    print(\"정답 :\" , y_test[i_test])\n",
    "    print(\"예측 :\" , (my_model.predict(X_test[i_test].reshape(1,-1))[0][0] > 0.5)*1)       # 2 차원 배열로 reshaping 해준다!!!\n",
    "    y_pred_text = \" \".join([my_dict_inv[x] for x  in X_train[i_test] if x != 0 ])     # padding 을 의미하는 0을 제외하고 문자열로 변환.  \n",
    "    print(y_pred_text)\n",
    "    print(\"-\"*50)"
   ]
  },
  {
   "cell_type": "code",
   "execution_count": 22,
   "metadata": {},
   "outputs": [
    {
     "name": "stdout",
     "output_type": "stream",
     "text": [
      "Test Accuracy : 0.839\n"
     ]
    }
   ],
   "source": [
    "# 최종적으로 정확도 계산.\n",
    "ACC = my_model.evaluate(X_test, y_test, verbose=0)[1]    \n",
    "print(\"Test Accuracy : {}\".format(np.round(ACC,3)))"
   ]
  },
  {
   "cell_type": "code",
   "execution_count": null,
   "metadata": {},
   "outputs": [],
   "source": []
  }
 ],
 "metadata": {
  "kernelspec": {
   "display_name": "Python 3 (ipykernel)",
   "language": "python",
   "name": "python3"
  },
  "language_info": {
   "codemirror_mode": {
    "name": "ipython",
    "version": 3
   },
   "file_extension": ".py",
   "mimetype": "text/x-python",
   "name": "python",
   "nbconvert_exporter": "python",
   "pygments_lexer": "ipython3",
   "version": "3.7.13"
  }
 },
 "nbformat": 4,
 "nbformat_minor": 2
}
