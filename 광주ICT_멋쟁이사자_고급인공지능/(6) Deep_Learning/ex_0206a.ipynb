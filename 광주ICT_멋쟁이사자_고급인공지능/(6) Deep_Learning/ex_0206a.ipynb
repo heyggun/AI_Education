{
 "cells": [
  {
   "cell_type": "markdown",
   "metadata": {},
   "source": [
    "### LSTM을 활용한 자연어 문서 분류 예측."
   ]
  },
  {
   "cell_type": "code",
   "execution_count": 1,
   "metadata": {},
   "outputs": [],
   "source": [
    "import pandas as pd\n",
    "import numpy as np\n",
    "import warnings    \n",
    "import random\n",
    "import matplotlib.pyplot as plt\n",
    "from sklearn.model_selection import train_test_split\n",
    "from tensorflow.keras.datasets.reuters import load_data, get_word_index       # Reuters news data. \n",
    "from tensorflow.keras.models import Sequential\n",
    "from tensorflow.keras.layers import Dense, SimpleRNN, LSTM, Embedding\n",
    "from tensorflow.keras.utils import to_categorical\n",
    "from tensorflow.keras.preprocessing.sequence import pad_sequences\n",
    "from tensorflow.keras.optimizers import Adam, RMSprop, SGD\n",
    "from tensorflow.keras.callbacks import EarlyStopping\n",
    "warnings.filterwarnings('ignore')                  # Turn the warnings off.\n",
    "%matplotlib inline"
   ]
  },
  {
   "cell_type": "markdown",
   "metadata": {},
   "source": [
    "#### 1. 데이터 불러오기:"
   ]
  },
  {
   "cell_type": "code",
   "execution_count": 2,
   "metadata": {},
   "outputs": [],
   "source": [
    "n_words = 1000                                        # Vocabulary의 크기.\n",
    "(X_train, y_train), (X_test, y_test) = load_data(num_words = n_words, test_split = 0.3)\n",
    "n_train_size = X_train.shape[0]\n",
    "n_test_size = X_test.shape[0]"
   ]
  },
  {
   "cell_type": "code",
   "execution_count": 3,
   "metadata": {},
   "outputs": [
    {
     "name": "stdout",
     "output_type": "stream",
     "text": [
      "--------------------------------------------------\n",
      "Training data X shape: (7859,)\n",
      "Training data y shape: (7859,)\n",
      "--------------------------------------------------\n",
      "Test data X shape: (3369,)\n",
      "Test data y shape: (3369,)\n",
      "--------------------------------------------------\n"
     ]
    }
   ],
   "source": [
    "# 데이터의 Shape확인.\n",
    "print(\"-\"*50)\n",
    "print(\"Training data X shape: {}\".format(X_train.shape))\n",
    "print(\"Training data y shape: {}\".format(y_train.shape))\n",
    "print(\"-\"*50)\n",
    "print(\"Test data X shape: {}\".format(X_test.shape))\n",
    "print(\"Test data y shape: {}\".format(y_test.shape))\n",
    "print(\"-\"*50)"
   ]
  },
  {
   "cell_type": "markdown",
   "metadata": {},
   "source": [
    "#### 2. 데이터 탐색:"
   ]
  },
  {
   "cell_type": "code",
   "execution_count": 4,
   "metadata": {},
   "outputs": [
    {
     "data": {
      "text/plain": [
       "46"
      ]
     },
     "execution_count": 4,
     "metadata": {},
     "output_type": "execute_result"
    }
   ],
   "source": [
    "# y의 고유한 유형의 수 = 뉴스의 카테고리 수.\n",
    "n_cat = pd.Series(y_train).nunique()\n",
    "n_cat"
   ]
  },
  {
   "cell_type": "code",
   "execution_count": 5,
   "metadata": {},
   "outputs": [
    {
     "data": {
      "image/png": "[encoded data removed]",
      "text/plain": [
       "<Figure size 432x288 with 1 Axes>"
      ]
     },
     "metadata": {
      "needs_background": "light"
     },
     "output_type": "display_data"
    }
   ],
   "source": [
    "# Top 10 카테고리의 도수 분포를 막대그래프로 출력해 본다.\n",
    "pd.Series(y_train).value_counts().sort_values(ascending=False)[:10].plot.bar(color= \"green\", alpha=0.7)\n",
    "plt.show()"
   ]
  },
  {
   "cell_type": "code",
   "execution_count": 6,
   "metadata": {},
   "outputs": [
    {
     "name": "stdout",
     "output_type": "stream",
     "text": [
      "[1, 2, 2, 8, 43, 10, 447, 5, 25, 207, 270, 5, 2, 111, 16, 369, 186, 90, 67, 7, 89, 5, 19, 102, 6, 19, 124, 15, 90, 67, 84, 22, 482, 26, 7, 48, 4, 49, 8, 864, 39, 209, 154, 6, 151, 6, 83, 11, 15, 22, 155, 11, 15, 7, 48, 9, 2, 2, 504, 6, 258, 6, 272, 11, 15, 22, 134, 44, 11, 15, 16, 8, 197, 2, 90, 67, 52, 29, 209, 30, 32, 132, 6, 109, 15, 17, 12]\n"
     ]
    }
   ],
   "source": [
    "# X에서 임의의 문서 한 개 출력.\n",
    "# Embedding 층에 입력하기 위해서 정수 (인덱스)로 인코딩 되어 있다!\n",
    "print(X_train[0])"
   ]
  },
  {
   "cell_type": "code",
   "execution_count": 7,
   "metadata": {},
   "outputs": [
    {
     "name": "stdout",
     "output_type": "stream",
     "text": [
      "[87, 56, 139, 224, 101, 116, 100, 100, 82, 106, 31, 59, 65, 316, 527, 76, 114, 17, 91, 77, 231, 108, 83, 29, 95, 110, 23, 373, 114, 354, 133, 222, 571, 155, 83, 208, 170, 269, 74, 19, 23, 78, 21, 377, 104, 299, 89, 56, 94, 139, 118, 36, 137, 107, 83, 66, 70, 112, 88, 51, 83, 123, 17, 185, 84, 52, 102, 73, 106, 486, 107, 82, 263, 172, 491, 190, 143, 62, 26, 88, 114, 38, 85, 112, 793, 104, 25, 21, 101, 28, 25, 81, 135, 73, 62, 18, 90, 266, 91, 64]\n"
     ]
    }
   ],
   "source": [
    "# 첫 100 개의 문서 길이를 확인해 본다.\n",
    "# 문서 길이가 일정하지 않음을 알 수 있다.\n",
    "print([len(a) for a in X_train[0:100]])"
   ]
  },
  {
   "cell_type": "code",
   "execution_count": 8,
   "metadata": {},
   "outputs": [],
   "source": [
    "# 딕셔너리를 가져온다. 인덱스로 인코딩된 문서를 단어의 조합으로 변환할 수 있게 된다.\n",
    "my_dict = get_word_index(path='reuters_word_index.json')"
   ]
  },
  {
   "cell_type": "code",
   "execution_count": 9,
   "metadata": {},
   "outputs": [],
   "source": [
    "# 딕셔너리 출력.\n",
    "#my_dict"
   ]
  },
  {
   "cell_type": "code",
   "execution_count": 10,
   "metadata": {},
   "outputs": [],
   "source": [
    "# 'key' 와 'value'의 역할을 반대로 바꾸어 준다.\n",
    "# 컴프리헨션 방법을 적용한다.\n",
    "my_dict_inv = {v:k for k,v in my_dict.items()}"
   ]
  },
  {
   "cell_type": "code",
   "execution_count": 11,
   "metadata": {},
   "outputs": [
    {
     "name": "stdout",
     "output_type": "stream",
     "text": [
      "the federal gain only growth lt they meeting year reuter company did year an they of of reuter company of of 1987 had of of reuter had profits of pct dlrs\n"
     ]
    }
   ],
   "source": [
    "# 문서를 변환해서 출력해 본다.\n",
    "i_news = 10                                        # 문서의 번호. 임의로 변경 가능하다.\n",
    "news = list(pd.Series(X_train[i_news]).apply(lambda x: my_dict_inv[x]))\n",
    "print(' '.join(news))"
   ]
  },
  {
   "cell_type": "markdown",
   "metadata": {},
   "source": [
    "#### 3. 데이터 전처리:"
   ]
  },
  {
   "cell_type": "code",
   "execution_count": 12,
   "metadata": {},
   "outputs": [],
   "source": [
    "# Padding: 문서의 길이는 일정하게 maxlen로 맞추어 진다.\n",
    "# maxlen 보다 더 길면 자르고, 더 짧으면 0으로 채워 넣는다. \n",
    "X_train = pad_sequences(X_train, maxlen = 100, padding = 'pre')    # 'pre'  앞에 0을 넣는다. 'post' 뒤에 0을 넣는다.\n",
    "X_test = pad_sequences(X_test, maxlen = 100, padding = 'pre')"
   ]
  },
  {
   "cell_type": "code",
   "execution_count": 13,
   "metadata": {},
   "outputs": [
    {
     "data": {
      "text/plain": [
       "array([[  0,   0,   0,   0,   0,   0,   0,   0,   0,   0,   0,   0,   0,\n",
       "          1,   2,   2,   8,  43,  10, 447,   5,  25, 207, 270,   5,   2,\n",
       "        111,  16, 369, 186,  90,  67,   7,  89,   5,  19, 102,   6,  19,\n",
       "        124,  15,  90,  67,  84,  22, 482,  26,   7,  48,   4,  49,   8,\n",
       "        864,  39, 209, 154,   6, 151,   6,  83,  11,  15,  22, 155,  11,\n",
       "         15,   7,  48,   9,   2,   2, 504,   6, 258,   6, 272,  11,  15,\n",
       "         22, 134,  44,  11,  15,  16,   8, 197,   2,  90,  67,  52,  29,\n",
       "        209,  30,  32, 132,   6, 109,  15,  17,  12],\n",
       "       [  0,   0,   0,   0,   0,   0,   0,   0,   0,   0,   0,   0,   0,\n",
       "          0,   0,   0,   0,   0,   0,   0,   0,   0,   0,   0,   0,   0,\n",
       "          0,   0,   0,   0,   0,   0,   0,   0,   0,   0,   0,   0,   0,\n",
       "          0,   0,   0,   0,   0,   1,   2, 699,   2,   2,  56,   2,   2,\n",
       "          9,  56,   2,   2,  81,   5,   2,  57, 366, 737, 132,  20,   2,\n",
       "          7,   2,  49,   2,   2,   2,   2, 699,   2,   8,   7,  10, 241,\n",
       "         16, 855, 129, 231, 783,   5,   4, 587,   2,   2,   2, 775,   7,\n",
       "         48,  34, 191,  44,  35,   2, 505,  17,  12],\n",
       "       [ 19, 758,  15,  53, 959,  47,   2,  15,  14,  19, 132,  15,  39,\n",
       "        965,  32,  11,  14, 147,  72,  11, 180, 183, 187,  44,  11,  14,\n",
       "        102,  19,  11, 123, 186,  90,  67, 960,   4,  78,  13,  68, 467,\n",
       "        511, 110,  59,  89,  90,  67,   2,  55,   2,  92, 617,  80,   2,\n",
       "         46, 905, 220,  13,   4, 346,  48, 235, 629,   5, 211,   5,   2,\n",
       "          7,   2,  81,   5, 187,  11,  15,   9,   2, 201,   5,  47,   2,\n",
       "         18, 478,   2,   5,   2,   7, 232,   2,  71,   5, 160,  63,  11,\n",
       "          9,   2,  81,   5, 102,  59,  11,  17,  12]])"
      ]
     },
     "execution_count": 13,
     "metadata": {},
     "output_type": "execute_result"
    }
   ],
   "source": [
    "# Padding된 결과를 본다.\n",
    "X_train[:3,:]"
   ]
  },
  {
   "cell_type": "code",
   "execution_count": 14,
   "metadata": {},
   "outputs": [],
   "source": [
    "# y 변수에 one-hot-encoding 변환 적용.\n",
    "y = np.concatenate([y_train,y_test],axis=0)\n",
    "y = to_categorical(y,46)\n",
    "y_train = y[:n_train_size,:]\n",
    "y_test = y[n_train_size:,:]"
   ]
  },
  {
   "cell_type": "markdown",
   "metadata": {},
   "source": [
    "#### 4. 딥러닝 모델 정의:"
   ]
  },
  {
   "cell_type": "code",
   "execution_count": 15,
   "metadata": {},
   "outputs": [],
   "source": [
    "n_hidden = 50                   # 개개 memory cell 안의 neuron 수.\n",
    "n_emb = 100                     # Embedding 공간의 차원수. "
   ]
  },
  {
   "cell_type": "code",
   "execution_count": 16,
   "metadata": {},
   "outputs": [],
   "source": [
    "# LSTM network model.\n",
    "my_model = Sequential(name=\"LSTM_network\")\n",
    "my_model.add(Embedding(n_words, n_emb, name=\"Embedding\"))           # n_words = vocabulary 크기, n_emb = embedding 공간의 차원수.\n",
    "my_model.add(LSTM(units=n_hidden, return_sequences=False, input_shape=(None, n_emb), activation='tanh',name=\"LSTM\"))\n",
    "my_model.add(Dense(n_cat, activation='softmax', name=\"Dense\"))"
   ]
  },
  {
   "cell_type": "code",
   "execution_count": 17,
   "metadata": {},
   "outputs": [
    {
     "name": "stdout",
     "output_type": "stream",
     "text": [
      "Model: \"LSTM_network\"\n",
      "_________________________________________________________________\n",
      "Layer (type)                 Output Shape              Param #   \n",
      "=================================================================\n",
      "Embedding (Embedding)        (None, None, 100)         100000    \n",
      "_________________________________________________________________\n",
      "LSTM (LSTM)                  (None, 50)                30200     \n",
      "_________________________________________________________________\n",
      "Dense (Dense)                (None, 46)                2346      \n",
      "=================================================================\n",
      "Total params: 132,546\n",
      "Trainable params: 132,546\n",
      "Non-trainable params: 0\n",
      "_________________________________________________________________\n"
     ]
    }
   ],
   "source": [
    "# 모델의 summary (내부 구조) 출력.\n",
    "# Embedding의 파라미터 수 = n_words * n_emb  = 1000 * 100 = 100000.  \n",
    "# Embedding층의 역할은 차원 축소이다! \n",
    "# Embedding층에 개개 단어의 정수 인덱스를 입력하면 차원 축소된 밀집 벡터를 학습하게 된다! \n",
    "my_model.summary()"
   ]
  },
  {
   "cell_type": "markdown",
   "metadata": {},
   "source": [
    "#### 5. Hyperparameter 와 Optimizer 정의:"
   ]
  },
  {
   "cell_type": "code",
   "execution_count": 18,
   "metadata": {},
   "outputs": [],
   "source": [
    "n_epochs = 30                      # Number of epochs.\n",
    "batch_size = 32                    # Size of each batch.\n",
    "learn_rate = 0.0005                 # learning rate.  "
   ]
  },
  {
   "cell_type": "code",
   "execution_count": 19,
   "metadata": {},
   "outputs": [],
   "source": [
    "# Optimizer 객체 생성 후 컴파일한다.\n",
    "my_optimizer=Adam(lr=learn_rate)\n",
    "my_model.compile(loss = \"categorical_crossentropy\", optimizer = my_optimizer, metrics=[\"accuracy\"])"
   ]
  },
  {
   "cell_type": "markdown",
   "metadata": {},
   "source": [
    "#### 6. 학습 & History 시각화:"
   ]
  },
  {
   "cell_type": "code",
   "execution_count": 20,
   "metadata": {},
   "outputs": [
    {
     "name": "stdout",
     "output_type": "stream",
     "text": [
      "Epoch 1/30\n",
      "197/197 [==============================] - 2s 11ms/step - loss: 2.6061 - accuracy: 0.3792 - val_loss: 2.1078 - val_accuracy: 0.4924\n",
      "Epoch 2/30\n",
      "197/197 [==============================] - 2s 11ms/step - loss: 2.0703 - accuracy: 0.4979 - val_loss: 1.9677 - val_accuracy: 0.5165\n",
      "Epoch 3/30\n",
      "197/197 [==============================] - 2s 9ms/step - loss: 2.0005 - accuracy: 0.5087 - val_loss: 1.9621 - val_accuracy: 0.5165\n",
      "Epoch 4/30\n",
      "197/197 [==============================] - 2s 10ms/step - loss: 1.9270 - accuracy: 0.5268 - val_loss: 1.8370 - val_accuracy: 0.5503\n",
      "Epoch 5/30\n",
      "197/197 [==============================] - 2s 11ms/step - loss: 1.8376 - accuracy: 0.5349 - val_loss: 1.6873 - val_accuracy: 0.5630\n",
      "Epoch 6/30\n",
      "197/197 [==============================] - 2s 11ms/step - loss: 1.7011 - accuracy: 0.5658 - val_loss: 1.6573 - val_accuracy: 0.5623\n",
      "Epoch 7/30\n",
      "197/197 [==============================] - 2s 11ms/step - loss: 1.6635 - accuracy: 0.5645 - val_loss: 1.6154 - val_accuracy: 0.5732\n",
      "Epoch 8/30\n",
      "197/197 [==============================] - 2s 10ms/step - loss: 1.6238 - accuracy: 0.5901 - val_loss: 1.6152 - val_accuracy: 0.5910\n",
      "Epoch 9/30\n",
      "197/197 [==============================] - 2s 9ms/step - loss: 1.5532 - accuracy: 0.6068 - val_loss: 1.5601 - val_accuracy: 0.6126\n",
      "Epoch 10/30\n",
      "197/197 [==============================] - 2s 10ms/step - loss: 1.4815 - accuracy: 0.6331 - val_loss: 1.5242 - val_accuracy: 0.6126\n",
      "Epoch 11/30\n",
      "197/197 [==============================] - 2s 11ms/step - loss: 1.4408 - accuracy: 0.6450 - val_loss: 1.5378 - val_accuracy: 0.6183\n",
      "Epoch 12/30\n",
      "197/197 [==============================] - 2s 11ms/step - loss: 1.3931 - accuracy: 0.6536 - val_loss: 1.4922 - val_accuracy: 0.6209\n",
      "Epoch 13/30\n",
      "197/197 [==============================] - 2s 11ms/step - loss: 1.3641 - accuracy: 0.6607 - val_loss: 1.4054 - val_accuracy: 0.6412\n",
      "Epoch 14/30\n",
      "197/197 [==============================] - 2s 10ms/step - loss: 1.2809 - accuracy: 0.6781 - val_loss: 1.4188 - val_accuracy: 0.6406\n",
      "Epoch 15/30\n",
      "197/197 [==============================] - 2s 9ms/step - loss: 1.2322 - accuracy: 0.6914 - val_loss: 1.3635 - val_accuracy: 0.6622\n",
      "Epoch 16/30\n",
      "197/197 [==============================] - 2s 9ms/step - loss: 1.1981 - accuracy: 0.6981 - val_loss: 1.3646 - val_accuracy: 0.6622\n",
      "Epoch 17/30\n",
      "197/197 [==============================] - 2s 8ms/step - loss: 1.1670 - accuracy: 0.7035 - val_loss: 1.3743 - val_accuracy: 0.6660\n",
      "Epoch 18/30\n",
      "197/197 [==============================] - 2s 8ms/step - loss: 1.1318 - accuracy: 0.7161 - val_loss: 1.3469 - val_accuracy: 0.6724\n",
      "Epoch 19/30\n",
      "197/197 [==============================] - 2s 8ms/step - loss: 1.0999 - accuracy: 0.7231 - val_loss: 1.4417 - val_accuracy: 0.6578\n",
      "Epoch 20/30\n",
      "197/197 [==============================] - 2s 8ms/step - loss: 1.0925 - accuracy: 0.7250 - val_loss: 1.4203 - val_accuracy: 0.6482\n",
      "Epoch 21/30\n",
      "197/197 [==============================] - 2s 8ms/step - loss: 1.0535 - accuracy: 0.7352 - val_loss: 1.3346 - val_accuracy: 0.6877\n",
      "Epoch 22/30\n",
      "197/197 [==============================] - 2s 8ms/step - loss: 1.0188 - accuracy: 0.7415 - val_loss: 1.3182 - val_accuracy: 0.6870\n",
      "Epoch 23/30\n",
      "197/197 [==============================] - 2s 8ms/step - loss: 0.9797 - accuracy: 0.7503 - val_loss: 1.3223 - val_accuracy: 0.6908\n",
      "Epoch 24/30\n",
      "197/197 [==============================] - 2s 8ms/step - loss: 0.9562 - accuracy: 0.7595 - val_loss: 1.3285 - val_accuracy: 0.6864\n",
      "Epoch 25/30\n",
      "197/197 [==============================] - 2s 8ms/step - loss: 0.9399 - accuracy: 0.7619 - val_loss: 1.3169 - val_accuracy: 0.6921\n",
      "Epoch 26/30\n",
      "197/197 [==============================] - 2s 8ms/step - loss: 0.9086 - accuracy: 0.7667 - val_loss: 1.3528 - val_accuracy: 0.6889\n",
      "Epoch 27/30\n",
      "197/197 [==============================] - 2s 8ms/step - loss: 0.8882 - accuracy: 0.7697 - val_loss: 1.3497 - val_accuracy: 0.6934\n",
      "Epoch 28/30\n",
      "197/197 [==============================] - 2s 10ms/step - loss: 0.8767 - accuracy: 0.7724 - val_loss: 1.3134 - val_accuracy: 0.6959\n",
      "Epoch 29/30\n",
      "197/197 [==============================] - 2s 9ms/step - loss: 0.8413 - accuracy: 0.7846 - val_loss: 1.3335 - val_accuracy: 0.7036\n",
      "Epoch 30/30\n",
      "197/197 [==============================] - 2s 9ms/step - loss: 0.8151 - accuracy: 0.7913 - val_loss: 1.3388 - val_accuracy: 0.6940\n"
     ]
    }
   ],
   "source": [
    "my_EarlyStop = EarlyStopping(monitor='val_loss', mode='min', verbose=1, patience=3)          # 조기 종료 허락!\n",
    "my_summary = my_model.fit(X_train, y_train, epochs=n_epochs, batch_size = batch_size, validation_split=0.2, verbose = 1, callbacks=[my_EarlyStop])"
   ]
  },
  {
   "cell_type": "code",
   "execution_count": 21,
   "metadata": {},
   "outputs": [
    {
     "data": {
      "image/png": "[encoded data removed]",
      "text/plain": [
       "<Figure size 432x288 with 1 Axes>"
      ]
     },
     "metadata": {
      "needs_background": "light"
     },
     "output_type": "display_data"
    }
   ],
   "source": [
    "# 학습 history 출력. \n",
    "plt.plot(my_summary.history['accuracy'], c=\"b\")\n",
    "plt.plot(my_summary.history['val_accuracy'], c=\"g\")\n",
    "plt.title('Training History')\n",
    "plt.ylabel('Accuracy')\n",
    "plt.xlabel('Epoch')\n",
    "plt.legend(['Train', 'Validation'], loc='lower right')\n",
    "plt.show()"
   ]
  },
  {
   "cell_type": "markdown",
   "metadata": {},
   "source": [
    "#### 7. 테스팅: "
   ]
  },
  {
   "cell_type": "code",
   "execution_count": 22,
   "metadata": {},
   "outputs": [
    {
     "name": "stdout",
     "output_type": "stream",
     "text": [
      "정답 : 20\n",
      "예측 : 11\n",
      "that of foreign after with from of reuter from profits have five bid that of foreign but with of reuter of have five 13 a but 18 with from of reuter from of have five 13 a exchange farm with from of reuter from of have five friday of of of german slightly bid of foreign after with of reuter of have five bid of foreign but with of reuter of have five 13 a but 18 spending with were 27 reuter were of have five 13 a exchange farm with were of reuter were of have five pct dlrs\n",
      "--------------------------------------------------\n",
      "정답 : 2\n",
      "예측 : 1\n",
      "of of profit mln at market company's of of of profit 41 in note 3 annual said still was of iranian up 3 at of of up 1 mln of of traders and of in still 88 in around germany prime nil oil 1986 73 a for us council of of mln 1 of not note was of up shr he qtr of for index seeking said of of 3 20 of in institute and nations for rose c 600 said prices and dlr is said of of a co it ended said of 58 and of disclosed pct dlrs\n",
      "--------------------------------------------------\n",
      "정답 : 3\n",
      "예측 : 4\n",
      "4 from s end of 52 this mln 1 of common 56 and nations 17 of japanese was sugar of quarter other of billion vs 000 nil said in 56 oil 1986 73 in 17 japanese or december 8 said of of was sugar said ahead dlrs vs 000 8 said of was sugar said ct trade vs 000 3 of 8 shr of of 8 said of of was sugar said product trade vs 000 3 of 8 said of of was sugar said addition dlrs vs 000 1 mln in 56 or must and of paris pct dlrs\n",
      "--------------------------------------------------\n",
      "정답 : 3\n",
      "예측 : 4\n",
      "the lt company corp year reuter company 17 year an company of of 000 reuter company of of 000 1987 from of of 000 reuter of of 000 rise down lt company revs year reuter company countries year an company of of 000 reuter company from of of 000 1987 dlrs also vs 000 reuter from of of 000 some in public rate gain price foreign pct dlrs\n",
      "--------------------------------------------------\n",
      "정답 : 4\n",
      "예측 : 4\n",
      "for corp 2 of and of june pressure 14 of mln at after much it one pressure share sales of production is of mln in of it after of that per 3 their of last was of one pressure 3 of june of 25 oil of it of last 1 fed that in of and south of take 80 deficit in news of first of 1 of 50 of and of are commission west four pressure cts with at of subsidiary it 90 should 3 four of one of of cts under and proposal of of of mln pct dlrs\n",
      "--------------------------------------------------\n",
      "정답 : 3\n",
      "예측 : 3\n",
      "the lt company private year reuter they union year an company billion new vs reuter they of on 2 lt company from product 000 reuter they london year an company also dlrs vs reuter they were new vs pct dlrs\n",
      "--------------------------------------------------\n",
      "정답 : 3\n",
      "예측 : 3\n",
      "k cts under and of in has would three since shares and of of figures takeover mln stock showed 1 and 60 in figures of be of for of good of corp s 000 7 quarter said of shipment 56 in decision march of in figures of of of ago of 100 86 shr of were of is that range of with were from trade is 3 of stg 25 3 were from because is 86 or month of pacific its of said too 75 corp 2 australian 3 its for short 12 3 our of that japanese pct dlrs\n",
      "--------------------------------------------------\n",
      "정답 : 4\n",
      "예측 : 4\n",
      "led production is of two mln of record they a in today five federal cts 35 with financial any s lower markets francs is its for 2 11 that may said remain s markets all is of cts of and of with deal exchange farm already said government an until 3 may a in market american 2 of price from after net six in this officials division also s lower government an they a in 2 gain unchanged growth but markets preferred were is its for 2 11 that may said from of s markets were had is pct dlrs\n",
      "--------------------------------------------------\n",
      "정답 : 19\n",
      "예측 : 19\n",
      "the of 45 profit mln 1 imports and gold in sugar said at of half of m company's of one of profit in first 3 of oil 1986 73 of mln of share for company its report said of on 000 that several said of on 000 a budget but 3 for company its report said tariffs on 000 that several said corp vs 000 a budget exchange pct dlrs\n",
      "--------------------------------------------------\n",
      "정답 : 4\n",
      "예측 : 3\n",
      "the of up mln 1 as 41 for of note and based 24 of of has would of of 3 of securities it not seek of in note of agriculture a dollar trading their of of 3 95 it of of of of 3 of of in note two of in institute and based of so of of 3 of securities of that for of of note of mln 1 he of in their of french a of of and not of of pct dlrs\n",
      "--------------------------------------------------\n"
     ]
    }
   ],
   "source": [
    "# 랜덤으로 테스트 문장을 추출해서 예측해 본다.\n",
    "for i_test in [ random.randint(0,n_test_size-1) for _ in range(10)]:\n",
    "    print(\"정답 :\" , np.argmax(y_test[i_test]))\n",
    "    print(\"예측 :\" , np.argmax(my_model.predict(X_test[i_test].reshape(1,-1))))       # 2 차원 배열로 reshaping 해준다!!!\n",
    "    y_pred_text = \" \".join([my_dict_inv[x] for x  in X_train[i_test] if x != 0 ])     # padding 을 의미하는 0을 제외하고 문자열로 변환.  \n",
    "    print(y_pred_text)\n",
    "    print(\"-\"*50)"
   ]
  },
  {
   "cell_type": "code",
   "execution_count": 23,
   "metadata": {},
   "outputs": [
    {
     "name": "stdout",
     "output_type": "stream",
     "text": [
      "Test Accuracy : 0.677\n"
     ]
    }
   ],
   "source": [
    "# 최종적으로 정확도 계산.\n",
    "ACC = my_model.evaluate(X_test, y_test, verbose=0)[1]    \n",
    "print(\"Test Accuracy : {}\".format(np.round(ACC,3)))"
   ]
  },
  {
   "cell_type": "code",
   "execution_count": null,
   "metadata": {},
   "outputs": [],
   "source": []
  }
 ],
 "metadata": {
  "kernelspec": {
   "display_name": "Python 3 (ipykernel)",
   "language": "python",
   "name": "python3"
  },
  "language_info": {
   "codemirror_mode": {
    "name": "ipython",
    "version": 3
   },
   "file_extension": ".py",
   "mimetype": "text/x-python",
   "name": "python",
   "nbconvert_exporter": "python",
   "pygments_lexer": "ipython3",
   "version": "3.7.13"
  }
 },
 "nbformat": 4,
 "nbformat_minor": 2
}
