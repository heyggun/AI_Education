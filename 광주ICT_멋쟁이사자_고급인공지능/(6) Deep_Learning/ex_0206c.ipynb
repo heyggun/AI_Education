{
 "cells": [
  {
   "cell_type": "markdown",
   "metadata": {},
   "source": [
    "### LSTM + CNN을 활용한 자연어 문서 분류 예측 (Binary)."
   ]
  },
  {
   "cell_type": "code",
   "execution_count": 1,
   "metadata": {},
   "outputs": [],
   "source": [
    "import pandas as pd\n",
    "import numpy as np\n",
    "import warnings    \n",
    "import random\n",
    "import matplotlib.pyplot as plt\n",
    "from sklearn.model_selection import train_test_split\n",
    "from tensorflow.keras.datasets.imdb import load_data, get_word_index       # Movie review data. \n",
    "from tensorflow.keras.models import Sequential\n",
    "from tensorflow.keras.layers import Dense, SimpleRNN, LSTM, Embedding, Conv1D, MaxPool1D, Dropout\n",
    "from tensorflow.keras.utils import to_categorical\n",
    "from tensorflow.keras.preprocessing.sequence import pad_sequences\n",
    "from tensorflow.keras.optimizers import Adam, RMSprop, SGD\n",
    "from tensorflow.keras.callbacks import EarlyStopping\n",
    "warnings.filterwarnings('ignore')                              # Turn the warnings off.\n",
    "%matplotlib inline"
   ]
  },
  {
   "cell_type": "markdown",
   "metadata": {},
   "source": [
    "#### 1. 데이터 불러오기:"
   ]
  },
  {
   "cell_type": "code",
   "execution_count": 2,
   "metadata": {},
   "outputs": [],
   "source": [
    "n_words = 3000                                        # Vocabulary의 크기.\n",
    "(X_train, y_train), (X_test, y_test) = load_data(num_words = n_words)\n",
    "n_train_size = X_train.shape[0]\n",
    "n_test_size = X_test.shape[0]"
   ]
  },
  {
   "cell_type": "code",
   "execution_count": 3,
   "metadata": {},
   "outputs": [
    {
     "name": "stdout",
     "output_type": "stream",
     "text": [
      "--------------------------------------------------\n",
      "Training data X shape: (25000,)\n",
      "Training data y shape: (25000,)\n",
      "--------------------------------------------------\n",
      "Test data X shape: (25000,)\n",
      "Test data y shape: (25000,)\n",
      "--------------------------------------------------\n",
      "--------------------------------------------------\n",
      "Training data X shape: (25000,)\n",
      "Training data y shape: (25000,)\n",
      "--------------------------------------------------\n",
      "Test data X shape: (25000,)\n",
      "Test data y shape: (25000,)\n",
      "--------------------------------------------------\n"
     ]
    }
   ],
   "source": [
    "# 데이터의 Shape확인.\n",
    "print(\"-\"*50)\n",
    "print(\"Training data X shape: {}\".format(X_train.shape))\n",
    "print(\"Training data y shape: {}\".format(y_train.shape))\n",
    "print(\"-\"*50)\n",
    "print(\"Test data X shape: {}\".format(X_test.shape))\n",
    "print(\"Test data y shape: {}\".format(y_test.shape))\n",
    "print(\"-\"*50)"
   ]
  },
  {
   "cell_type": "markdown",
   "metadata": {},
   "source": [
    "#### 2. 데이터 탐색:"
   ]
  },
  {
   "cell_type": "code",
   "execution_count": 4,
   "metadata": {},
   "outputs": [
    {
     "data": {
      "text/plain": [
       "2"
      ]
     },
     "execution_count": 4,
     "metadata": {},
     "output_type": "execute_result"
    },
    {
     "data": {
      "text/plain": [
       "2"
      ]
     },
     "execution_count": 4,
     "metadata": {},
     "output_type": "execute_result"
    }
   ],
   "source": [
    "# y의 고유한 유형의 수 = 리뷰의 유형 수 (2).\n",
    "n_cat = pd.Series(y_train).nunique()\n",
    "n_cat"
   ]
  },
  {
   "cell_type": "code",
   "execution_count": 5,
   "metadata": {},
   "outputs": [
    {
     "name": "stdout",
     "output_type": "stream",
     "text": [
      "[1, 14, 22, 16, 43, 530, 973, 1622, 1385, 65, 458, 2, 66, 2, 4, 173, 36, 256, 5, 25, 100, 43, 838, 112, 50, 670, 2, 9, 35, 480, 284, 5, 150, 4, 172, 112, 167, 2, 336, 385, 39, 4, 172, 2, 1111, 17, 546, 38, 13, 447, 4, 192, 50, 16, 6, 147, 2025, 19, 14, 22, 4, 1920, 2, 469, 4, 22, 71, 87, 12, 16, 43, 530, 38, 76, 15, 13, 1247, 4, 22, 17, 515, 17, 12, 16, 626, 18, 2, 5, 62, 386, 12, 8, 316, 8, 106, 5, 4, 2223, 2, 16, 480, 66, 2, 33, 4, 130, 12, 16, 38, 619, 5, 25, 124, 51, 36, 135, 48, 25, 1415, 33, 6, 22, 12, 215, 28, 77, 52, 5, 14, 407, 16, 82, 2, 8, 4, 107, 117, 2, 15, 256, 4, 2, 7, 2, 5, 723, 36, 71, 43, 530, 476, 26, 400, 317, 46, 7, 4, 2, 1029, 13, 104, 88, 4, 381, 15, 297, 98, 32, 2071, 56, 26, 141, 6, 194, 2, 18, 4, 226, 22, 21, 134, 476, 26, 480, 5, 144, 30, 2, 18, 51, 36, 28, 224, 92, 25, 104, 4, 226, 65, 16, 38, 1334, 88, 12, 16, 283, 5, 16, 2, 113, 103, 32, 15, 16, 2, 19, 178, 32]\n",
      "[1, 14, 22, 16, 43, 530, 973, 1622, 1385, 65, 458, 2, 66, 2, 4, 173, 36, 256, 5, 25, 100, 43, 838, 112, 50, 670, 2, 9, 35, 480, 284, 5, 150, 4, 172, 112, 167, 2, 336, 385, 39, 4, 172, 2, 1111, 17, 546, 38, 13, 447, 4, 192, 50, 16, 6, 147, 2025, 19, 14, 22, 4, 1920, 2, 469, 4, 22, 71, 87, 12, 16, 43, 530, 38, 76, 15, 13, 1247, 4, 22, 17, 515, 17, 12, 16, 626, 18, 2, 5, 62, 386, 12, 8, 316, 8, 106, 5, 4, 2223, 2, 16, 480, 66, 2, 33, 4, 130, 12, 16, 38, 619, 5, 25, 124, 51, 36, 135, 48, 25, 1415, 33, 6, 22, 12, 215, 28, 77, 52, 5, 14, 407, 16, 82, 2, 8, 4, 107, 117, 2, 15, 256, 4, 2, 7, 2, 5, 723, 36, 71, 43, 530, 476, 26, 400, 317, 46, 7, 4, 2, 1029, 13, 104, 88, 4, 381, 15, 297, 98, 32, 2071, 56, 26, 141, 6, 194, 2, 18, 4, 226, 22, 21, 134, 476, 26, 480, 5, 144, 30, 2, 18, 51, 36, 28, 224, 92, 25, 104, 4, 226, 65, 16, 38, 1334, 88, 12, 16, 283, 5, 16, 2, 113, 103, 32, 15, 16, 2, 19, 178, 32]\n"
     ]
    }
   ],
   "source": [
    "# X에서 임의의 문서 한 개 출력.\n",
    "# Embedding 층에 입력하기 위해서 정수 (인덱스)로 인코딩 되어 있다!\n",
    "print(X_train[0])"
   ]
  },
  {
   "cell_type": "code",
   "execution_count": 6,
   "metadata": {},
   "outputs": [
    {
     "name": "stdout",
     "output_type": "stream",
     "text": [
      "[218, 189, 141, 550, 147, 43, 123, 562, 233, 130, 450, 99, 117, 238, 109, 129, 163, 752, 212, 177, 129, 140, 256, 888, 93, 142, 220, 193, 171, 221, 174, 647, 233, 162, 597, 234, 51, 336, 139, 231, 704, 142, 861, 132, 122, 570, 55, 214, 103, 186, 113, 169, 469, 138, 302, 766, 351, 146, 59, 206, 107, 152, 186, 431, 147, 684, 383, 324, 252, 263, 787, 211, 314, 118, 390, 132, 710, 306, 167, 115, 95, 158, 156, 82, 502, 314, 190, 174, 60, 145, 214, 659, 408, 515, 461, 202, 238, 170, 107, 171]\n",
      "[218, 189, 141, 550, 147, 43, 123, 562, 233, 130, 450, 99, 117, 238, 109, 129, 163, 752, 212, 177, 129, 140, 256, 888, 93, 142, 220, 193, 171, 221, 174, 647, 233, 162, 597, 234, 51, 336, 139, 231, 704, 142, 861, 132, 122, 570, 55, 214, 103, 186, 113, 169, 469, 138, 302, 766, 351, 146, 59, 206, 107, 152, 186, 431, 147, 684, 383, 324, 252, 263, 787, 211, 314, 118, 390, 132, 710, 306, 167, 115, 95, 158, 156, 82, 502, 314, 190, 174, 60, 145, 214, 659, 408, 515, 461, 202, 238, 170, 107, 171]\n"
     ]
    }
   ],
   "source": [
    "# 첫 100 개의 문서 길이를 확인해 본다.\n",
    "# 문서 길이가 일정하지 않음을 알 수 있다.\n",
    "print([len(a) for a in X_train[0:100]])"
   ]
  },
  {
   "cell_type": "code",
   "execution_count": 7,
   "metadata": {},
   "outputs": [],
   "source": [
    "# 딕셔너리를 가져온다. 인덱스로 인코딩된 문서를 단어의 조합으로 변환할 수 있게 된다.\n",
    "my_dict = get_word_index(path='imdb_word_index.json')"
   ]
  },
  {
   "cell_type": "code",
   "execution_count": 8,
   "metadata": {},
   "outputs": [],
   "source": [
    "# 딕셔너리 출력.\n",
    "# my_dict"
   ]
  },
  {
   "cell_type": "code",
   "execution_count": 9,
   "metadata": {},
   "outputs": [],
   "source": [
    "# 'key' 와 'value'의 역할을 반대로 바꾸어 준다.\n",
    "# 컴프리헨션 방법을 적용한다.\n",
    "my_dict_inv = {v:k for k,v in my_dict.items()}"
   ]
  },
  {
   "cell_type": "code",
   "execution_count": 10,
   "metadata": {},
   "outputs": [
    {
     "name": "stdout",
     "output_type": "stream",
     "text": [
      "the clear fact entertaining there life back br is and show of performance stars br actors film him many should movie reasons to and reading and are in of scenes and and of and out compared not boss yes to and show its disappointed fact raw to it justice by br of where clear fact many your way and with city nice are is along wrong not as it way she but this anything up haven't been by who of choices br of you to as this i'd it and who of shot you'll to love for and of you it is sequels of little quest are seen watched front chemistry to simply alive of chris being it is say easy and cry in chemistry but and all it maybe this is wing film job live of and relief and level names and and to be and serial and watch is men go this of wing american from and moving is and put this of jerry for places so work and watch and lot br that from sometimes and make department introduced to and from action at turns in low that in gay i'm of chemistry and i i simply alive it is time done inspector to watching look world named for more tells up many fans are that movie music her get and but seems in people film that if explain in why for and find of where br if and movie throughout if and of you best look red and to recently in successfully much unfortunately going dan and stuck is him sequences but of you of enough for its br that beautiful put reasons of chris chemistry wing and for of you red time and to as and and of chris less br of and torture in low alive in gay some br of wing if time actual in also side any if name takes for of friendship it of 10 for had and great to as you students for movie of going and for bad well best had at woman br musical when it caused of and to as gem in and for and look end gene in at world aliens of you it meet but is quite br western ideas of chris little of films he an time done this were right too to of enough for of ending become family beautiful are make right being it time much bit especially and for of you parts bond who of here parts at due given movie of once give find actor to recently in at world and loved and it is video him fact you to by br of where br of grown fight culture leads\n",
      "the clear fact entertaining there life back br is and show of performance stars br actors film him many should movie reasons to and reading and are in of scenes and and of and out compared not boss yes to and show its disappointed fact raw to it justice by br of where clear fact many your way and with city nice are is along wrong not as it way she but this anything up haven't been by who of choices br of you to as this i'd it and who of shot you'll to love for and of you it is sequels of little quest are seen watched front chemistry to simply alive of chris being it is say easy and cry in chemistry but and all it maybe this is wing film job live of and relief and level names and and to be and serial and watch is men go this of wing american from and moving is and put this of jerry for places so work and watch and lot br that from sometimes and make department introduced to and from action at turns in low that in gay i'm of chemistry and i i simply alive it is time done inspector to watching look world named for more tells up many fans are that movie music her get and but seems in people film that if explain in why for and find of where br if and movie throughout if and of you best look red and to recently in successfully much unfortunately going dan and stuck is him sequences but of you of enough for its br that beautiful put reasons of chris chemistry wing and for of you red time and to as and and of chris less br of and torture in low alive in gay some br of wing if time actual in also side any if name takes for of friendship it of 10 for had and great to as you students for movie of going and for bad well best had at woman br musical when it caused of and to as gem in and for and look end gene in at world aliens of you it meet but is quite br western ideas of chris little of films he an time done this were right too to of enough for of ending become family beautiful are make right being it time much bit especially and for of you parts bond who of here parts at due given movie of once give find actor to recently in at world and loved and it is video him fact you to by br of where br of grown fight culture leads\n"
     ]
    }
   ],
   "source": [
    "# 문서를 변환해서 출력해 본다.\n",
    "i_review = 10                                        # 문서의 번호. 임의로 변경 가능하다.\n",
    "review = list(pd.Series(X_train[i_review]).apply(lambda x: my_dict_inv[x]))\n",
    "print(' '.join(review))"
   ]
  },
  {
   "cell_type": "markdown",
   "metadata": {},
   "source": [
    "#### 3. 데이터 전처리:"
   ]
  },
  {
   "cell_type": "code",
   "execution_count": 11,
   "metadata": {},
   "outputs": [],
   "source": [
    "# Padding: 문서의 길이는 일정하게 maxlen로 맞추어 진다.\n",
    "# maxlen 보다 더 길면 자르고, 더 짧으면 0으로 채워 넣는다. \n",
    "X_train = pad_sequences(X_train, maxlen = 100, padding = 'pre')    # 'pre'  앞에 0을 넣는다. 'post' 뒤에 0을 넣는다.\n",
    "X_test = pad_sequences(X_test, maxlen = 100, padding = 'pre')"
   ]
  },
  {
   "cell_type": "code",
   "execution_count": 12,
   "metadata": {},
   "outputs": [
    {
     "data": {
      "text/plain": [
       "array([[1415,   33,    6,   22,   12,  215,   28,   77,   52,    5,   14,\n",
       "         407,   16,   82,    2,    8,    4,  107,  117,    2,   15,  256,\n",
       "           4,    2,    7,    2,    5,  723,   36,   71,   43,  530,  476,\n",
       "          26,  400,  317,   46,    7,    4,    2, 1029,   13,  104,   88,\n",
       "           4,  381,   15,  297,   98,   32, 2071,   56,   26,  141,    6,\n",
       "         194,    2,   18,    4,  226,   22,   21,  134,  476,   26,  480,\n",
       "           5,  144,   30,    2,   18,   51,   36,   28,  224,   92,   25,\n",
       "         104,    4,  226,   65,   16,   38, 1334,   88,   12,   16,  283,\n",
       "           5,   16,    2,  113,  103,   32,   15,   16,    2,   19,  178,\n",
       "          32],\n",
       "       [ 163,   11,    2,    2,    4, 1153,    9,  194,  775,    7,    2,\n",
       "           2,  349, 2637,  148,  605,    2,    2,   15,  123,  125,   68,\n",
       "           2,    2,   15,  349,  165,    2,   98,    5,    4,  228,    9,\n",
       "          43,    2, 1157,   15,  299,  120,    5,  120,  174,   11,  220,\n",
       "         175,  136,   50,    9,    2,  228,    2,    5,    2,  656,  245,\n",
       "        2350,    5,    4,    2,  131,  152,  491,   18,    2,   32,    2,\n",
       "        1212,   14,    9,    6,  371,   78,   22,  625,   64, 1382,    9,\n",
       "           8,  168,  145,   23,    4, 1690,   15,   16,    4, 1355,    5,\n",
       "          28,    6,   52,  154,  462,   33,   89,   78,  285,   16,  145,\n",
       "          95],\n",
       "       [1301,    4, 1873,   33,   89,   78,   12,   66,   16,    4,  360,\n",
       "           7,    4,   58,  316,  334,   11,    4, 1716,   43,  645,  662,\n",
       "           8,  257,   85, 1200,   42, 1228, 2578,   83,   68,    2,   15,\n",
       "          36,  165, 1539,  278,   36,   69,    2,  780,    8,  106,   14,\n",
       "           2, 1338,   18,    6,   22,   12,  215,   28,  610,   40,    6,\n",
       "          87,  326,   23, 2300,   21,   23,   22,   12,  272,   40,   57,\n",
       "          31,   11,    4,   22,   47,    6, 2307,   51,    9,  170,   23,\n",
       "         595,  116,  595, 1352,   13,  191,   79,  638,   89,    2,   14,\n",
       "           9,    8,  106,  607,  624,   35,  534,    6,  227,    7,  129,\n",
       "         113]])"
      ]
     },
     "execution_count": 12,
     "metadata": {},
     "output_type": "execute_result"
    },
    {
     "data": {
      "text/plain": [
       "array([[1415,   33,    6,   22,   12,  215,   28,   77,   52,    5,   14,\n",
       "         407,   16,   82,    2,    8,    4,  107,  117,    2,   15,  256,\n",
       "           4,    2,    7,    2,    5,  723,   36,   71,   43,  530,  476,\n",
       "          26,  400,  317,   46,    7,    4,    2, 1029,   13,  104,   88,\n",
       "           4,  381,   15,  297,   98,   32, 2071,   56,   26,  141,    6,\n",
       "         194,    2,   18,    4,  226,   22,   21,  134,  476,   26,  480,\n",
       "           5,  144,   30,    2,   18,   51,   36,   28,  224,   92,   25,\n",
       "         104,    4,  226,   65,   16,   38, 1334,   88,   12,   16,  283,\n",
       "           5,   16,    2,  113,  103,   32,   15,   16,    2,   19,  178,\n",
       "          32],\n",
       "       [ 163,   11,    2,    2,    4, 1153,    9,  194,  775,    7,    2,\n",
       "           2,  349, 2637,  148,  605,    2,    2,   15,  123,  125,   68,\n",
       "           2,    2,   15,  349,  165,    2,   98,    5,    4,  228,    9,\n",
       "          43,    2, 1157,   15,  299,  120,    5,  120,  174,   11,  220,\n",
       "         175,  136,   50,    9,    2,  228,    2,    5,    2,  656,  245,\n",
       "        2350,    5,    4,    2,  131,  152,  491,   18,    2,   32,    2,\n",
       "        1212,   14,    9,    6,  371,   78,   22,  625,   64, 1382,    9,\n",
       "           8,  168,  145,   23,    4, 1690,   15,   16,    4, 1355,    5,\n",
       "          28,    6,   52,  154,  462,   33,   89,   78,  285,   16,  145,\n",
       "          95],\n",
       "       [1301,    4, 1873,   33,   89,   78,   12,   66,   16,    4,  360,\n",
       "           7,    4,   58,  316,  334,   11,    4, 1716,   43,  645,  662,\n",
       "           8,  257,   85, 1200,   42, 1228, 2578,   83,   68,    2,   15,\n",
       "          36,  165, 1539,  278,   36,   69,    2,  780,    8,  106,   14,\n",
       "           2, 1338,   18,    6,   22,   12,  215,   28,  610,   40,    6,\n",
       "          87,  326,   23, 2300,   21,   23,   22,   12,  272,   40,   57,\n",
       "          31,   11,    4,   22,   47,    6, 2307,   51,    9,  170,   23,\n",
       "         595,  116,  595, 1352,   13,  191,   79,  638,   89,    2,   14,\n",
       "           9,    8,  106,  607,  624,   35,  534,    6,  227,    7,  129,\n",
       "         113]])"
      ]
     },
     "execution_count": 12,
     "metadata": {},
     "output_type": "execute_result"
    }
   ],
   "source": [
    "# Padding된 결과를 본다.\n",
    "X_train[:3,:]"
   ]
  },
  {
   "cell_type": "code",
   "execution_count": 13,
   "metadata": {},
   "outputs": [],
   "source": [
    "# y는 이미 binary이기 때문에 one-hot-encoding 변환이 필요 없다."
   ]
  },
  {
   "cell_type": "markdown",
   "metadata": {},
   "source": [
    "#### 4. 딥러닝 모델 정의:"
   ]
  },
  {
   "cell_type": "code",
   "execution_count": 14,
   "metadata": {},
   "outputs": [],
   "source": [
    "drop_prob = 0.5                   # Dropout probability. \n",
    "n_filters = 64                    # Number of filters (kernels).\n",
    "k_size = 4                        # Kernel (filter) size.\n",
    "stride_size = 1                   # Stride.\n",
    "n_hidden = 50                   # 개개 memory cell 안의 neuron 수.\n",
    "n_emb = 100                     # Embedding 공간의 차원수. "
   ]
  },
  {
   "cell_type": "code",
   "execution_count": 15,
   "metadata": {},
   "outputs": [],
   "source": [
    "# LSTM + CNN model.\n",
    "my_model = Sequential(name=\"LSTM_CNN_network\")\n",
    "my_model.add(Embedding(n_words,n_emb, name=\"Embedding\"))           # n_words = vocabulary 크기, n_input = embedding 공간의 차원수.\n",
    "my_model.add(Dropout(rate=drop_prob, name=\"Dropout\"))\n",
    "my_model.add(Conv1D(filters=n_filters, kernel_size = k_size, strides=stride_size,padding='valid',activation='relu', name=\"Conv1D\"))\n",
    "my_model.add(MaxPool1D(pool_size = 2, name=\"Pooling\"))\n",
    "my_model.add(LSTM(units=n_hidden, return_sequences=False, input_shape=(None, n_emb), activation='tanh', name=\"LSTM\"))\n",
    "my_model.add(Dense(units=1, activation='sigmoid', name=\"Dense\"))"
   ]
  },
  {
   "cell_type": "code",
   "execution_count": 16,
   "metadata": {},
   "outputs": [
    {
     "name": "stdout",
     "output_type": "stream",
     "text": [
      "Model: \"LSTM_CNN_network\"\n",
      "Model: \"LSTM_CNN_network\"\n",
      "_________________________________________________________________\n",
      "_________________________________________________________________\n",
      " Layer (type)                Output Shape              Param #   \n",
      " Layer (type)                Output Shape              Param #   \n",
      "=================================================================\n",
      "=================================================================\n",
      " Embedding (Embedding)       (None, None, 100)         300000    \n",
      " Embedding (Embedding)       (None, None, 100)         300000    \n",
      "                                                                 \n",
      "                                                                 \n",
      " Dropout (Dropout)           (None, None, 100)         0         \n",
      " Dropout (Dropout)           (None, None, 100)         0         \n",
      "                                                                 \n",
      "                                                                 \n",
      " Conv1D (Conv1D)             (None, None, 64)          25664     \n",
      " Conv1D (Conv1D)             (None, None, 64)          25664     \n",
      "                                                                 \n",
      "                                                                 \n",
      " Pooling (MaxPooling1D)      (None, None, 64)          0         \n",
      " Pooling (MaxPooling1D)      (None, None, 64)          0         \n",
      "                                                                 \n",
      "                                                                 \n",
      " LSTM (LSTM)                 (None, 50)                23000     \n",
      " LSTM (LSTM)                 (None, 50)                23000     \n",
      "                                                                 \n",
      "                                                                 \n",
      " Dense (Dense)               (None, 1)                 51        \n",
      " Dense (Dense)               (None, 1)                 51        \n",
      "                                                                 \n",
      "                                                                 \n",
      "=================================================================\n",
      "=================================================================\n",
      "Total params: 348,715\n",
      "Total params: 348,715\n",
      "Trainable params: 348,715\n",
      "Trainable params: 348,715\n",
      "Non-trainable params: 0\n",
      "Non-trainable params: 0\n",
      "_________________________________________________________________\n",
      "_________________________________________________________________\n"
     ]
    }
   ],
   "source": [
    "# 모델의 summary (내부 구조) 출력.\n",
    "# 모델의 summary (내부 구조) 출력.\n",
    "# 모델의 summary (내부 구조) 출력.\n",
    "# Embedding의 파라미터 수 = n_words * n_emb  = 3000 * 100 = 300000.  \n",
    "# Embedding층의 역할은 차원 축소이다! \n",
    "# Embedding층에 개개 단어의 정수 인덱스를 입력하면 차원 축소된 밀집 벡터를 학습하게 된다! \n",
    "# Conv1D 층의 파라미터 수 = n_emb * n_filters * k_size + n_filters = 100 * 64 * 4 + 64 = 25664.\n",
    "my_model.summary()"
   ]
  },
  {
   "cell_type": "markdown",
   "metadata": {},
   "source": [
    "#### 5. Hyperparameter 와 Optimizer 정의:"
   ]
  },
  {
   "cell_type": "code",
   "execution_count": 17,
   "metadata": {},
   "outputs": [],
   "source": [
    "n_epochs = 5                      # Number of epochs.\n",
    "batch_size = 64                    # Size of each batch.\n",
    "learn_rate = 0.002                 # learning rate.  "
   ]
  },
  {
   "cell_type": "code",
   "execution_count": 18,
   "metadata": {},
   "outputs": [],
   "source": [
    "# Optimizer 객체 생성 후 컴파일한다.\n",
    "my_optimizer=Adam(lr=learn_rate)\n",
    "my_model.compile(loss = \"binary_crossentropy\", optimizer = my_optimizer, metrics=[\"accuracy\"])"
   ]
  },
  {
   "cell_type": "markdown",
   "metadata": {},
   "source": [
    "#### 6. 학습 & History 시각화:"
   ]
  },
  {
   "cell_type": "code",
   "execution_count": 19,
   "metadata": {},
   "outputs": [
    {
     "name": "stdout",
     "output_type": "stream",
     "text": [
      "Epoch 1/5\n",
      "Epoch 1/5\n",
      "313/313 [==============================] - 12s 32ms/step - loss: 0.4611 - accuracy: 0.7725 - val_loss: 0.3541 - val_accuracy: 0.8456\n",
      "313/313 [==============================] - 12s 32ms/step - loss: 0.4611 - accuracy: 0.7725 - val_loss: 0.3541 - val_accuracy: 0.8456\n",
      "Epoch 2/5\n",
      "Epoch 2/5\n",
      "313/313 [==============================] - 10s 31ms/step - loss: 0.3213 - accuracy: 0.8619 - val_loss: 0.3608 - val_accuracy: 0.8452\n",
      "313/313 [==============================] - 10s 31ms/step - loss: 0.3213 - accuracy: 0.8619 - val_loss: 0.3608 - val_accuracy: 0.8452\n",
      "Epoch 3/5\n",
      "Epoch 3/5\n",
      "313/313 [==============================] - 10s 31ms/step - loss: 0.2824 - accuracy: 0.8855 - val_loss: 0.3497 - val_accuracy: 0.8526\n",
      "313/313 [==============================] - 10s 31ms/step - loss: 0.2824 - accuracy: 0.8855 - val_loss: 0.3497 - val_accuracy: 0.8526\n",
      "Epoch 4/5\n",
      "Epoch 4/5\n",
      "313/313 [==============================] - 10s 32ms/step - loss: 0.2437 - accuracy: 0.9029 - val_loss: 0.3506 - val_accuracy: 0.8466\n",
      "Epoch 5/5\n",
      "313/313 [==============================] - 10s 32ms/step - loss: 0.2437 - accuracy: 0.9029 - val_loss: 0.3506 - val_accuracy: 0.8466\n",
      "Epoch 5/5\n",
      "313/313 [==============================] - 10s 31ms/step - loss: 0.2139 - accuracy: 0.9151 - val_loss: 0.4605 - val_accuracy: 0.8184\n",
      "313/313 [==============================] - 10s 31ms/step - loss: 0.2139 - accuracy: 0.9151 - val_loss: 0.4605 - val_accuracy: 0.8184\n"
     ]
    }
   ],
   "source": [
    "my_EarlyStop = EarlyStopping(monitor='val_loss', mode='min', verbose=1, patience=3)          # 조기 종료 허락!\n",
    "my_summary = my_model.fit(X_train, y_train, epochs=n_epochs, batch_size = batch_size, validation_split=0.2, verbose = 1, callbacks=[my_EarlyStop])"
   ]
  },
  {
   "cell_type": "code",
   "execution_count": 20,
   "metadata": {},
   "outputs": [
    {
     "data": {
      "image/png": "[encoded data removed]",
      "text/plain": [
       "<Figure size 432x288 with 1 Axes>"
      ]
     },
     "metadata": {
      "needs_background": "light"
     },
     "output_type": "display_data"
    },
    {
     "data": {
      "image/png": "[encoded data removed]",
      "text/plain": [
       "<Figure size 432x288 with 1 Axes>"
      ]
     },
     "metadata": {
      "needs_background": "light"
     },
     "output_type": "display_data"
    }
   ],
   "source": [
    "# 학습 history 출력. \n",
    "plt.plot(my_summary.history['accuracy'], c=\"b\")\n",
    "plt.plot(my_summary.history['val_accuracy'], c=\"g\")\n",
    "plt.title('Training History')\n",
    "plt.ylabel('Accuracy')\n",
    "plt.xlabel('Epoch')\n",
    "plt.legend(['Train', 'Validation'], loc='lower right')\n",
    "plt.show()"
   ]
  },
  {
   "cell_type": "markdown",
   "metadata": {},
   "source": [
    "#### 7. 테스팅: "
   ]
  },
  {
   "cell_type": "code",
   "execution_count": 21,
   "metadata": {},
   "outputs": [
    {
     "name": "stdout",
     "output_type": "stream",
     "text": [
      "정답 : 0\n",
      "정답 : 0\n",
      "1/1 [==============================] - 0s 335ms/step\n",
      "1/1 [==============================] - 0s 335ms/step\n",
      "예측 : 0\n",
      "the as there in at who anything of jean sure on was one life this of performance unless actors no was least for close and with this that was scares that against at movies do is on he's all there will this good around highly many to all with is around explain shows enjoy even by real hope were my are as you was future and i'm and and br that to was then might for was office is 10\n",
      "--------------------------------------------------\n",
      "정답 : 0\n",
      "1/1 [==============================] - 0s 14ms/step\n",
      "예측 : 0\n",
      "the as there in at who anything of jean sure on was one life this of performance unless actors no was least for close and with this that was scares that against at movies do is on he's all there will this good around highly many to all with is around explain shows enjoy even by real hope were my are as you was future and i'm and and br that to was then might for was office is 10\n",
      "--------------------------------------------------\n",
      "정답 : 0\n",
      "1/1 [==============================] - 0s 14ms/step\n",
      "예측 : 1\n",
      "the always life as you most was me people only together disaster wife characters br an friendly was against known girls like eyes sense in could should so tell you to other and that in and church that three see rest of before than tell movie much that with by br of sure characters always your life\n",
      "--------------------------------------------------\n",
      "정답 : 1\n",
      "1/1 [==============================] - 0s 13ms/step\n",
      "예측 : 1\n",
      "the always life as you most was me people only together disaster wife characters br an friendly was against known girls like eyes sense in could should so tell you to other and that in and church that three see rest of before than tell movie much that with by br of sure characters always your life\n",
      "--------------------------------------------------\n",
      "정답 : 1\n",
      "1/1 [==============================] - 0s 13ms/step\n",
      "예측 : 0\n",
      "and lee am that it i i reason of where 10 has as on it for if show around adds that beautiful follow or its br car masterpiece was and road likely to matter something and any she and any too things and she of period to and of script perfectly first has so stories br video tell mask remember i i smart where and is quite br back telling what have pretty in use as by to also as year those in of remember consider are my guys had tale cinematography what have one in political is etc and\n",
      "--------------------------------------------------\n",
      "정답 : 0\n",
      "1/1 [==============================] - 0s 14ms/step\n",
      "예측 : 0\n",
      "and lee am that it i i reason of where 10 has as on it for if show around adds that beautiful follow or its br car masterpiece was and road likely to matter something and any she and any too things and she of period to and of script perfectly first has so stories br video tell mask remember i i smart where and is quite br back telling what have pretty in use as by to also as year those in of remember consider are my guys had tale cinematography what have one in political is etc and\n",
      "--------------------------------------------------\n",
      "정답 : 0\n",
      "1/1 [==============================] - 0s 14ms/step\n",
      "예측 : 0\n",
      "is and failed and scenes just its falls beautifully that there is performances and this of husband know an of makers evil anna she film we blood involved not because been for that we've in at makes friends of here i i which old of little and however and worked of surprised and if his and film theaters have then one in at is completely in use as you i i br screen series actual but we in why always will is surprised and completely he's was with is worse movies i i supporting some br didn't i i and\n",
      "--------------------------------------------------\n",
      "정답 : 1\n",
      "1/1 [==============================] - 0s 14ms/step\n",
      "예측 : 0\n",
      "is and failed and scenes just its falls beautifully that there is performances and this of husband know an of makers evil anna she film we blood involved not because been for that we've in at makes friends of here i i which old of little and however and worked of surprised and if his and film theaters have then one in at is completely in use as you i i br screen series actual but we in why always will is surprised and completely he's was with is worse movies i i supporting some br didn't i i and\n",
      "--------------------------------------------------\n",
      "정답 : 1\n",
      "1/1 [==============================] - 0s 14ms/step\n",
      "예측 : 1\n",
      "kill role is felt br and her in died believe of difficult kid whom mistakes of you thing and and if bit this is skill therefore stunning of you other there good heart 80's good br of up makeup sent br of you for bunch some of its he of and and for and first now and to is stock and film is and this of lynch and it so heart you for which recently in double this quality as it itself is you for fairly is excellent year storyline movie and why this and and and and and and\n",
      "--------------------------------------------------\n",
      "정답 : 0\n",
      "1/1 [==============================] - 0s 14ms/step\n",
      "예측 : 1\n",
      "kill role is felt br and her in died believe of difficult kid whom mistakes of you thing and and if bit this is skill therefore stunning of you other there good heart 80's good br of up makeup sent br of you for bunch some of its he of and and for and first now and to is stock and film is and this of lynch and it so heart you for which recently in double this quality as it itself is you for fairly is excellent year storyline movie and why this and and and and and and\n",
      "--------------------------------------------------\n",
      "정답 : 0\n",
      "1/1 [==============================] - 0s 14ms/step\n",
      "예측 : 1\n",
      "his person just and to of tension and and one highly and to if each in saw light is lived film her again and to should over afternoon in at and this that and deal and city thing one is eight has die silly and to end that even and dealing it of see showed was well rain of scenes know of budget character is cost expecting but truth there will surface and or is you really occasionally get up and film of difficult br of and and and hoffman and really it and up superior psychological to worst serious\n",
      "--------------------------------------------------\n",
      "정답 : 0\n",
      "1/1 [==============================] - 0s 14ms/step\n",
      "예측 : 1\n",
      "his person just and to of tension and and one highly and to if each in saw light is lived film her again and to should over afternoon in at and this that and deal and city thing one is eight has die silly and to end that even and dealing it of see showed was well rain of scenes know of budget character is cost expecting but truth there will surface and or is you really occasionally get up and film of difficult br of and and and hoffman and really it and up superior psychological to worst serious\n",
      "--------------------------------------------------\n",
      "정답 : 0\n",
      "1/1 [==============================] - 0s 14ms/step\n",
      "예측 : 0\n",
      "quite br sense this that and to and he hidden believe about goes shouldn't after low is far up and to and she tried to ends he shot are of because act that it by br though had had somewhere characters know by hit 3 not brother similar of going high pathetic in who's and something to title by hit 3 not brother don't plot and into should is on and i i this hoffman therefore dreams that it is among not was had one in air except like while great he within were sense in dry should is on\n",
      "--------------------------------------------------\n",
      "정답 : 0\n",
      "1/1 [==============================] - 0s 13ms/step\n",
      "예측 : 0\n",
      "quite br sense this that and to and he hidden believe about goes shouldn't after low is far up and to and she tried to ends he shot are of because act that it by br though had had somewhere characters know by hit 3 not brother similar of going high pathetic in who's and something to title by hit 3 not brother don't plot and into should is on and i i this hoffman therefore dreams that it is among not was had one in air except like while great he within were sense in dry should is on\n",
      "--------------------------------------------------\n",
      "정답 : 0\n",
      "1/1 [==============================] - 0s 13ms/step\n",
      "예측 : 0\n",
      "several of personal short they of here to is over far they of 5 br of on know top and this of gives br of adventure and first something or of on that with is and too br and some and may trip this of on to of adventure but despite of something film of and and and than time lugosi br plot and was start or of adventure was between obnoxious with box down to buying and with is small and concept replaced br tiny rules out just of certainly br and and would features she film of gets\n",
      "--------------------------------------------------\n",
      "정답 : 0\n"
     ]
    },
    {
     "name": "stdout",
     "output_type": "stream",
     "text": [
      "예측 : 0\n",
      "several of personal short they of here to is over far they of 5 br of on know top and this of gives br of adventure and first something or of on that with is and too br and some and may trip this of on to of adventure but despite of something film of and and and than time lugosi br plot and was start or of adventure was between obnoxious with box down to buying and with is small and concept replaced br tiny rules out just of certainly br and and would features she film of gets\n",
      "--------------------------------------------------\n",
      "정답 : 0\n",
      "1/1 [==============================] - 0s 14ms/step\n",
      "1/1 [==============================] - 0s 14ms/step\n",
      "예측 : 1\n",
      "hollywood he and of direction three do not no all and that yet br gorgeous that was between much of numbers gary gratuitous nothing expected much film we funny and br of full really than and and or of ok tv tried some br put material to and and becomes and proud to with around and not while and and man's american in release good went br thomas upon in an br as and i i of flying and of wrong series but woman not clue as france studio three looks in at last fan wasted and series compared spend\n",
      "--------------------------------------------------\n",
      "정답 : 0\n",
      "1/1 [==============================] - 0s 14ms/step\n",
      "예측 : 1\n",
      "hollywood he and of direction three do not no all and that yet br gorgeous that was between much of numbers gary gratuitous nothing expected much film we funny and br of full really than and and or of ok tv tried some br put material to and and becomes and proud to with around and not while and and man's american in release good went br thomas upon in an br as and i i of flying and of wrong series but woman not clue as france studio three looks in at last fan wasted and series compared spend\n",
      "--------------------------------------------------\n",
      "정답 : 0\n",
      "1/1 [==============================] - 0s 14ms/step\n",
      "예측 : 1\n",
      "and as you no was least that they of took br has intelligent it's supporting movie was with is mostly completely br families accident to director all after people with do friends as as group follows portraying families but we but is both my watching see and cute film be makes not whose lot this and hard not them all cinema are in pay funny themes and say was two that with oh not of come it families real at often get still favorites who years to years all there and in and of and for and film as and\n",
      "--------------------------------------------------\n",
      "예측 : 1\n",
      "and as you no was least that they of took br has intelligent it's supporting movie was with is mostly completely br families accident to director all after people with do friends as as group follows portraying families but we but is both my watching see and cute film be makes not whose lot this and hard not them all cinema are in pay funny themes and say was two that with oh not of come it families real at often get still favorites who years to years all there and in and of and for and film as and\n",
      "--------------------------------------------------\n"
     ]
    }
   ],
   "source": [
    "# 랜덤으로 테스트 문장을 추출해서 예측해 본다.\n",
    "for i_test in [ random.randint(0,n_test_size-1) for _ in range(10)]:\n",
    "    print(\"정답 :\" , y_test[i_test])\n",
    "    print(\"예측 :\" , (my_model.predict(X_test[i_test].reshape(1,-1))[0][0] > 0.5)*1)       # 2 차원 배열로 reshaping 해준다!!!\n",
    "    y_pred_text = \" \".join([my_dict_inv[x] for x  in X_train[i_test] if x != 0 ])     # padding 을 의미하는 0을 제외하고 문자열로 변환.  \n",
    "    print(y_pred_text)\n",
    "    print(\"-\"*50)"
   ]
  },
  {
   "cell_type": "code",
   "execution_count": 22,
   "metadata": {},
   "outputs": [
    {
     "name": "stdout",
     "output_type": "stream",
     "text": [
      "Test Accuracy : 0.826\n",
      "Test Accuracy : 0.826\n"
     ]
    }
   ],
   "source": [
    "# 최종적으로 정확도 계산.\n",
    "ACC = my_model.evaluate(X_test, y_test, verbose=0)[1]    \n",
    "print(\"Test Accuracy : {}\".format(np.round(ACC,3)))"
   ]
  },
  {
   "cell_type": "code",
   "execution_count": null,
   "metadata": {},
   "outputs": [],
   "source": []
  }
 ],
 "metadata": {
  "kernelspec": {
   "display_name": "Python 3 (ipykernel)",
   "language": "python",
   "name": "python3"
  },
  "language_info": {
   "codemirror_mode": {
    "name": "ipython",
    "version": 3
   },
   "file_extension": ".py",
   "mimetype": "text/x-python",
   "name": "python",
   "nbconvert_exporter": "python",
   "pygments_lexer": "ipython3",
   "version": "3.7.13"
  }
 },
 "nbformat": 4,
 "nbformat_minor": 2
}
