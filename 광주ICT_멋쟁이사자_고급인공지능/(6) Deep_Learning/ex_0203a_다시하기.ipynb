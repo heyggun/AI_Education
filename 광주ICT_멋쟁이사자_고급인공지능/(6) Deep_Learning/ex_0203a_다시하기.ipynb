{
 "cells": [
  {
   "cell_type": "markdown",
   "metadata": {},
   "source": [
    "### 사전 학습된 CNN 모형 활용 예측."
   ]
  },
  {
   "cell_type": "code",
   "execution_count": 1,
   "metadata": {},
   "outputs": [],
   "source": [
    "import numpy as np\n",
    "import pandas as pd\n",
    "import matplotlib.pyplot as plt\n",
    "import warnings           \n",
    "import random\n",
    "import cv2\n",
    "import re\n",
    "import os\n",
    "from PIL import Image\n",
    "#from google.colab import drive\n",
    "import tensorflow as tf\n",
    "from tensorflow.keras.models import Model\n",
    "from tensorflow.keras.optimizers import Adam\n",
    "from tensorflow.keras.datasets.cifar10 import load_data                           \n",
    "from tensorflow.keras.applications import mobilenet   # 비교적 작은 크기의 모형.\n",
    "from tensorflow.keras.applications import vgg16\n",
    "from tensorflow.keras.applications.imagenet_utils import decode_predictions\n",
    "warnings.filterwarnings('ignore')                    # Turn the warnings off.\n",
    "%matplotlib inline"
   ]
  },
  {
   "cell_type": "code",
   "execution_count": 2,
   "metadata": {},
   "outputs": [],
   "source": [
    "# # GPU를 검출해서 메모리 확장을 허락할 필요가 있다.\n",
    "# my_gpus = tf.config.experimental.list_physical_devices(\"GPU\")\n",
    "# tf.config.experimental.set_memory_growth(my_gpus[0],True)"
   ]
  },
  {
   "cell_type": "markdown",
   "metadata": {},
   "source": [
    "#### 1. 데이터 불러오기:"
   ]
  },
  {
   "cell_type": "markdown",
   "metadata": {},
   "source": [
    "자세한 설명은 [이곳](https://www.cs.toronto.edu/~kriz/cifar.html)을 참고한다."
   ]
  },
  {
   "cell_type": "code",
   "execution_count": 3,
   "metadata": {},
   "outputs": [],
   "source": [
    "import ssl\n",
    "ssl._create_default_https_context = ssl._create_unverified_context"
   ]
  },
  {
   "cell_type": "code",
   "execution_count": 4,
   "metadata": {},
   "outputs": [
    {
     "name": "stdout",
     "output_type": "stream",
     "text": [
      "A local file was found, but it seems to be incomplete or outdated because the auto file hash does not match the original value of 6d958be074577803d12ecdefd02955f39262c83c16fe9348329d7fe0b5c001ce so we will re-download the data.\n",
      "Downloading data from https://www.cs.toronto.edu/~kriz/cifar-10-python.tar.gz\n",
      "170498071/170498071 [==============================] - 73s 0us/step\n"
     ]
    }
   ],
   "source": [
    "# 데이터 가져오기.\n",
    "(X_train, y_train), (X_test, y_test) = load_data()\n",
    "n_train_size = X_train.shape[0]\n",
    "n_test_size = X_test.shape[0]"
   ]
  },
  {
   "cell_type": "markdown",
   "metadata": {},
   "source": [
    "#### 2. 데이터 준비:"
   ]
  },
  {
   "cell_type": "code",
   "execution_count": 5,
   "metadata": {},
   "outputs": [],
   "source": [
    "# 주의: Scaling 해주지 않는다.\n",
    "# 아래 preprocess_input을 적용하기 위해서!"
   ]
  },
  {
   "cell_type": "code",
   "execution_count": 6,
   "metadata": {},
   "outputs": [],
   "source": [
    "# 4 차원 배열로 reshaping 해준다.\n",
    "X_train = X_train.reshape(-1,32,32,3)\n",
    "X_test = X_test.reshape(-1,32,32,3)"
   ]
  },
  {
   "cell_type": "markdown",
   "metadata": {},
   "source": [
    "#### 3. 사전 학습된 MobileNet 모델을 가져와서 예측에 활용해 본다:"
   ]
  },
  {
   "cell_type": "code",
   "execution_count": 7,
   "metadata": {},
   "outputs": [
    {
     "name": "stdout",
     "output_type": "stream",
     "text": [
      "Downloading data from https://storage.googleapis.com/tensorflow/keras-applications/mobilenet/mobilenet_1_0_128_tf.h5\n",
      "17225924/17225924 [==============================] - 1s 0us/step\n"
     ]
    }
   ],
   "source": [
    "# MobileNet을 가져와 본다.\n",
    "# 입력 크기는 128, 160, 192, 224 가 가능하다.\n",
    "my_mnet = mobilenet.MobileNet(include_top=True, weights='imagenet', input_shape=(128,128,3))      "
   ]
  },
  {
   "cell_type": "code",
   "execution_count": 8,
   "metadata": {},
   "outputs": [],
   "source": [
    "# 가져온 모델의 summary (내부 구조) 출력.\n",
    "# Y의 유형은 1000 가지이다!\n",
    "#my_mnet.summary()"
   ]
  },
  {
   "cell_type": "code",
   "execution_count": 9,
   "metadata": {},
   "outputs": [],
   "source": [
    "# 구글 드라이브 마운트.\n",
    "# 절차를 따라서 한다.\n",
    "# drive.mount('/content/drive')\n",
    "# 데이터 파일이 이미 \"Colab Notebooks\"에 올려져 있어야 한다.\n",
    "# os.chdir(\"/content/drive/My Drive/Colab Notebooks\")"
   ]
  },
  {
   "cell_type": "code",
   "execution_count": 10,
   "metadata": {},
   "outputs": [
    {
     "ename": "FileNotFoundError",
     "evalue": "[Errno 2] No such file or directory: '../data/ImageNet_labels.txt'",
     "output_type": "error",
     "traceback": [
      "\u001b[1;31m---------------------------------------------------------------------------\u001b[0m",
      "\u001b[1;31mFileNotFoundError\u001b[0m                         Traceback (most recent call last)",
      "\u001b[1;32m~\\AppData\\Local\\Temp\\ipykernel_38868\\3812580251.py\u001b[0m in \u001b[0;36m<module>\u001b[1;34m\u001b[0m\n\u001b[0;32m      1\u001b[0m \u001b[1;31m# 1000개의 ImageNet 레이블을 읽어와서 본다.\u001b[0m\u001b[1;33m\u001b[0m\u001b[1;33m\u001b[0m\u001b[1;33m\u001b[0m\u001b[0m\n\u001b[1;32m----> 2\u001b[1;33m \u001b[1;32mwith\u001b[0m \u001b[0mopen\u001b[0m\u001b[1;33m(\u001b[0m\u001b[1;34mr\"../data/ImageNet_labels.txt\"\u001b[0m\u001b[1;33m,\u001b[0m\u001b[1;34m\"r\"\u001b[0m\u001b[1;33m)\u001b[0m \u001b[1;32mas\u001b[0m \u001b[0mf\u001b[0m\u001b[1;33m:\u001b[0m\u001b[1;33m\u001b[0m\u001b[1;33m\u001b[0m\u001b[0m\n\u001b[0m\u001b[0;32m      3\u001b[0m     \u001b[0mres\u001b[0m \u001b[1;33m=\u001b[0m \u001b[0mf\u001b[0m\u001b[1;33m.\u001b[0m\u001b[0mreadlines\u001b[0m\u001b[1;33m(\u001b[0m\u001b[1;33m)\u001b[0m\u001b[1;33m\u001b[0m\u001b[1;33m\u001b[0m\u001b[0m\n\u001b[0;32m      4\u001b[0m \u001b[0mmy_imagenet_labels\u001b[0m\u001b[1;33m=\u001b[0m\u001b[1;33m[\u001b[0m\u001b[0mre\u001b[0m\u001b[1;33m.\u001b[0m\u001b[0msub\u001b[0m\u001b[1;33m(\u001b[0m\u001b[1;34m\"[0-9]|\\n\"\u001b[0m\u001b[1;33m,\u001b[0m\u001b[1;34m\"\"\u001b[0m\u001b[1;33m,\u001b[0m\u001b[0mx\u001b[0m \u001b[1;33m)\u001b[0m\u001b[1;33m.\u001b[0m\u001b[0msplit\u001b[0m\u001b[1;33m(\u001b[0m\u001b[1;34m','\u001b[0m\u001b[1;33m)\u001b[0m\u001b[1;33m[\u001b[0m\u001b[1;36m0\u001b[0m\u001b[1;33m]\u001b[0m\u001b[1;33m.\u001b[0m\u001b[0mstrip\u001b[0m\u001b[1;33m(\u001b[0m\u001b[1;33m)\u001b[0m \u001b[1;32mfor\u001b[0m \u001b[0mx\u001b[0m \u001b[1;32min\u001b[0m \u001b[0mres\u001b[0m\u001b[1;33m]\u001b[0m\u001b[1;33m\u001b[0m\u001b[1;33m\u001b[0m\u001b[0m\n\u001b[0;32m      5\u001b[0m \u001b[1;31m#print(\"Length : \", len(my_imagenet_labels))\u001b[0m\u001b[1;33m\u001b[0m\u001b[1;33m\u001b[0m\u001b[1;33m\u001b[0m\u001b[0m\n",
      "\u001b[1;31mFileNotFoundError\u001b[0m: [Errno 2] No such file or directory: '../data/ImageNet_labels.txt'"
     ]
    }
   ],
   "source": [
    "# 1000개의 ImageNet 레이블을 읽어와서 본다.\n",
    "with open(r\"../data/ImageNet_labels.txt\",\"r\") as f:\n",
    "    res = f.readlines()\n",
    "my_imagenet_labels=[re.sub(\"[0-9]|\\n\",\"\",x ).split(',')[0].strip() for x in res]\n",
    "#print(\"Length : \", len(my_imagenet_labels))\n",
    "#print(my_imagenet_labels)"
   ]
  },
  {
   "cell_type": "code",
   "execution_count": null,
   "metadata": {},
   "outputs": [],
   "source": [
    "# BGR 또는 RGB channel 순서의 차이와 무관하게 다음 리사이징이 가능하다.\n",
    "i_image = 1\n",
    "X_resized = cv2.resize(X_train[i_image,:,:,:],(128,128))                # 방법 #1.\n",
    "#X_resized = tf.image.resize(X_train[i_image,:,:,:],(128,128)).numpy()    # 방법 #2."
   ]
  },
  {
   "cell_type": "code",
   "execution_count": null,
   "metadata": {},
   "outputs": [],
   "source": [
    "# 리사이징 전 후 비교.\n",
    "fig, axes = plt.subplots(1, 2)\n",
    "axes[0].imshow(X_train[i_image])\n",
    "axes[0].axis('off')\n",
    "axes[1].imshow(X_resized)\n",
    "axes[1].axis('off')\n",
    "plt.show()"
   ]
  },
  {
   "cell_type": "code",
   "execution_count": null,
   "metadata": {},
   "outputs": [],
   "source": [
    "# 3차원 X_resized를 4차원으로 변환하고 예측한다.\n",
    "my_pred = my_mnet(mobilenet.preprocess_input(np.expand_dims(X_resized,axis=0)))        "
   ]
  },
  {
   "cell_type": "code",
   "execution_count": null,
   "metadata": {},
   "outputs": [],
   "source": [
    "# 예측 결과에 ImageNet 레이블을 붙여서 해석해 준다.\n",
    "# 불필요한 튜플의 첫 번째 원소를 제거하고 정리해서 보여준다.\n",
    "res = [(a_name, a_prob) for _, a_name, a_prob in decode_predictions(my_pred.numpy(),top=5)[0]]    "
   ]
  },
  {
   "cell_type": "code",
   "execution_count": null,
   "metadata": {},
   "outputs": [],
   "source": [
    "pd.Series(dict(res)).plot.bar()\n",
    "plt.show()"
   ]
  },
  {
   "cell_type": "markdown",
   "metadata": {},
   "source": [
    "#### 4. 사전 학습된 VGG16 모델을 가져와서 예측에 활용해 본다:"
   ]
  },
  {
   "cell_type": "code",
   "execution_count": null,
   "metadata": {},
   "outputs": [],
   "source": [
    "# VGG16을 가져와 본다.\n",
    "# 입력 크기는 224 이어야 한다.\n",
    "my_vgg = vgg16.VGG16(include_top=True, weights='imagenet', input_shape=(224,224,3))  "
   ]
  },
  {
   "cell_type": "code",
   "execution_count": null,
   "metadata": {},
   "outputs": [],
   "source": [
    "# 가져온 모델의 summary (내부 구조) 출력.\n",
    "# Y의 유형은 1000 가지이다!\n",
    "# my_vgg.summary()"
   ]
  },
  {
   "cell_type": "code",
   "execution_count": null,
   "metadata": {},
   "outputs": [],
   "source": [
    "# BGR 또는 RGB channel 순서의 차이와 무관하게 다음 리사이징이 가능하다.\n",
    "i_image = 1\n",
    "X_resized = cv2.resize(X_train[i_image,:,:,:],(224,224))                # 방법 #1.\n",
    "#X_resized = tf.image.resize(X_train[i_image,:,:,:],(224,224)).numpy()    # 방법 #2."
   ]
  },
  {
   "cell_type": "code",
   "execution_count": null,
   "metadata": {},
   "outputs": [],
   "source": [
    "# 리사이징 전 후 비교.\n",
    "fig, axes = plt.subplots(1, 2)\n",
    "axes[0].imshow(X_train[i_image])\n",
    "axes[0].axis('off')\n",
    "axes[1].imshow(X_resized)\n",
    "axes[1].axis('off')\n",
    "plt.show()"
   ]
  },
  {
   "cell_type": "code",
   "execution_count": null,
   "metadata": {},
   "outputs": [],
   "source": [
    "# 3차원 X_resized를 4차원으로 변환하고 예측한다.\n",
    "my_pred = my_vgg(vgg16.preprocess_input(np.expand_dims(X_resized,axis=0)))\n",
    "\n",
    "# 예측 결과에 ImageNet 레이블을 붙여서 해석해 준다.\n",
    "# 불필요한 튜플의 첫 번째 원소를 제거하고 정리해서 보여준다.\n",
    "res = [(a_name, a_prob) for _, a_name, a_prob in decode_predictions(my_pred.numpy(),top=5)[0]]   \n",
    "\n",
    "pd.Series(dict(res)).plot.bar()\n",
    "plt.show()"
   ]
  },
  {
   "cell_type": "markdown",
   "metadata": {},
   "source": [
    "외부에서 해상도 높은 이미지를 가져와 본다."
   ]
  },
  {
   "cell_type": "code",
   "execution_count": null,
   "metadata": {},
   "outputs": [],
   "source": [
    "img = Image.open(\"..\\data\\panda.jpg\")\n",
    "X = np.array(img)\n",
    "X_resized = cv2.resize(X,(224,224))        # BGR 또는 RGB channel 순서의 차이와 무관하게 리사이징이 가능하다."
   ]
  },
  {
   "cell_type": "code",
   "execution_count": null,
   "metadata": {},
   "outputs": [],
   "source": [
    "# 리사이징 전 후 비교.\n",
    "fig, axes = plt.subplots(1, 2)\n",
    "axes[0].imshow(X)\n",
    "axes[0].axis('off')\n",
    "axes[1].imshow(X_resized)\n",
    "axes[1].axis('off')\n",
    "plt.show()"
   ]
  },
  {
   "cell_type": "code",
   "execution_count": null,
   "metadata": {},
   "outputs": [],
   "source": [
    "# 3차원 X_resized를 4차원으로 변환하고 예측한다.\n",
    "my_pred = my_vgg(vgg16.preprocess_input(np.expand_dims(X_resized,axis=0)))\n",
    "\n",
    "# 예측 결과에 ImageNet 레이블을 붙여서 해석해 준다.\n",
    "# 불필요한 튜플의 첫 번째 원소를 제거하고 정리해서 보여준다.\n",
    "res = [(a_name, a_prob) for _, a_name, a_prob in decode_predictions(my_pred.numpy(),top=5)[0]]   \n",
    "\n",
    "pd.Series(dict(res)).plot.bar()\n",
    "plt.show()"
   ]
  },
  {
   "cell_type": "code",
   "execution_count": null,
   "metadata": {},
   "outputs": [],
   "source": [
    "# 레이블을 다시한번 확인해 본다.\n",
    "my_imagenet_labels[my_pred.numpy().argmax()]"
   ]
  },
  {
   "cell_type": "code",
   "execution_count": null,
   "metadata": {},
   "outputs": [],
   "source": []
  }
 ],
 "metadata": {
  "kernelspec": {
   "display_name": "Python 3 (ipykernel)",
   "language": "python",
   "name": "python3"
  },
  "language_info": {
   "codemirror_mode": {
    "name": "ipython",
    "version": 3
   },
   "file_extension": ".py",
   "mimetype": "text/x-python",
   "name": "python",
   "nbconvert_exporter": "python",
   "pygments_lexer": "ipython3",
   "version": "3.7.13"
  }
 },
 "nbformat": 4,
 "nbformat_minor": 2
}
