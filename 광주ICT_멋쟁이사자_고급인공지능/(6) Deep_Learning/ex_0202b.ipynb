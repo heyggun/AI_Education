{
 "cells": [
  {
   "cell_type": "markdown",
   "metadata": {},
   "source": [
    "### Convolutional Neural Network - 과적합 방지 #1 (컬러 이미지)."
   ]
  },
  {
   "cell_type": "code",
   "execution_count": 1,
   "metadata": {},
   "outputs": [],
   "source": [
    "import numpy as np\n",
    "import pandas as pd\n",
    "import matplotlib.pyplot as plt\n",
    "import warnings  \n",
    "import random\n",
    "from sklearn.model_selection import train_test_split\n",
    "from tensorflow.keras.datasets.cifar10 import load_data\n",
    "from tensorflow.keras.models import Sequential\n",
    "from tensorflow.keras.layers import Dense, Conv2D, Dropout, Flatten, MaxPooling2D, BatchNormalization\n",
    "from tensorflow.keras.regularizers import l2\n",
    "from tensorflow.keras.utils import to_categorical\n",
    "from tensorflow.keras.optimizers import Adam, RMSprop, SGD\n",
    "from tensorflow.keras.callbacks import EarlyStopping\n",
    "warnings.filterwarnings('ignore')                  # Turn the warnings off.\n",
    "%matplotlib inline"
   ]
  },
  {
   "cell_type": "markdown",
   "metadata": {},
   "source": [
    "#### 1. 데이터 불러오기:"
   ]
  },
  {
   "cell_type": "markdown",
   "metadata": {},
   "source": [
    "자세한 설명은 [이곳](https://www.cs.toronto.edu/~kriz/cifar.html)을 참고한다."
   ]
  },
  {
   "cell_type": "code",
   "execution_count": 2,
   "metadata": {},
   "outputs": [],
   "source": [
    "# 데이터 가져오기.\n",
    "(X_train, y_train), (X_test, y_test) = load_data()\n",
    "n_train_size = X_train.shape[0]\n",
    "n_test_size = X_test.shape[0]"
   ]
  },
  {
   "cell_type": "code",
   "execution_count": 3,
   "metadata": {},
   "outputs": [
    {
     "name": "stdout",
     "output_type": "stream",
     "text": [
      "--------------------------------------------------\n",
      "Training data X shape: (50000, 32, 32, 3)\n",
      "Training data y shape: (50000, 1)\n",
      "--------------------------------------------------\n",
      "Test data X shape: (10000, 32, 32, 3)\n",
      "Test data y shape: (10000, 1)\n",
      "--------------------------------------------------\n"
     ]
    }
   ],
   "source": [
    "# Shape 확인.\n",
    "print(\"-\"*50)\n",
    "print(\"Training data X shape: {}\".format(X_train.shape))\n",
    "print(\"Training data y shape: {}\".format(y_train.shape))\n",
    "print(\"-\"*50)\n",
    "print(\"Test data X shape: {}\".format(X_test.shape))\n",
    "print(\"Test data y shape: {}\".format(y_test.shape))\n",
    "print(\"-\"*50)"
   ]
  },
  {
   "cell_type": "markdown",
   "metadata": {},
   "source": [
    "#### 2. 데이터 시각화:"
   ]
  },
  {
   "cell_type": "code",
   "execution_count": 4,
   "metadata": {},
   "outputs": [],
   "source": [
    "name_dict = {0:\"Airplane\", 1:\"Automobile\", 2:\"Bird\", 3:\"Cat\", 4:\"Deer\", 5:\"Dog\", 6:\"Frog\", 7:\"Horse\", 8:\"Ship\", 9:\"Truck\"}"
   ]
  },
  {
   "cell_type": "code",
   "execution_count": 5,
   "metadata": {},
   "outputs": [
    {
     "name": "stdout",
     "output_type": "stream",
     "text": [
      "Y 레이블 : Cat\n"
     ]
    },
    {
     "data": {
      "image/png": "[encoded data removed]",
      "text/plain": [
       "<Figure size 144x144 with 1 Axes>"
      ]
     },
     "metadata": {
      "needs_background": "light"
     },
     "output_type": "display_data"
    },
    {
     "name": "stdout",
     "output_type": "stream",
     "text": [
      "Y 레이블 : Automobile\n"
     ]
    },
    {
     "data": {
      "image/png": "[encoded data removed]",
      "text/plain": [
       "<Figure size 144x144 with 1 Axes>"
      ]
     },
     "metadata": {
      "needs_background": "light"
     },
     "output_type": "display_data"
    },
    {
     "name": "stdout",
     "output_type": "stream",
     "text": [
      "Y 레이블 : Frog\n"
     ]
    },
    {
     "data": {
      "image/png": "[encoded data removed]",
      "text/plain": [
       "<Figure size 144x144 with 1 Axes>"
      ]
     },
     "metadata": {
      "needs_background": "light"
     },
     "output_type": "display_data"
    },
    {
     "name": "stdout",
     "output_type": "stream",
     "text": [
      "Y 레이블 : Deer\n"
     ]
    },
    {
     "data": {
      "image/png": "[encoded data removed]",
      "text/plain": [
       "<Figure size 144x144 with 1 Axes>"
      ]
     },
     "metadata": {
      "needs_background": "light"
     },
     "output_type": "display_data"
    },
    {
     "name": "stdout",
     "output_type": "stream",
     "text": [
      "Y 레이블 : Cat\n"
     ]
    },
    {
     "data": {
      "image/png": "[encoded data removed]",
      "text/plain": [
       "<Figure size 144x144 with 1 Axes>"
      ]
     },
     "metadata": {
      "needs_background": "light"
     },
     "output_type": "display_data"
    }
   ],
   "source": [
    "# 이미지 데이터 시각화 (5개).\n",
    "for i_image in [ random.randint(0,n_train_size-1) for _ in range(5)]:\n",
    "    print(\"Y 레이블 :\",name_dict[y_train[i_image][0]])\n",
    "    plt.figure(figsize=(2,2))\n",
    "    plt.imshow(X_train[i_image])\n",
    "    plt.axis(\"off\")\n",
    "    plt.show()"
   ]
  },
  {
   "cell_type": "markdown",
   "metadata": {},
   "source": [
    "#### 3. 데이터 준비:"
   ]
  },
  {
   "cell_type": "code",
   "execution_count": 6,
   "metadata": {},
   "outputs": [],
   "source": [
    "# Scaling.\n",
    "X_train = X_train/255                   \n",
    "X_test = X_test/255                        "
   ]
  },
  {
   "cell_type": "code",
   "execution_count": 7,
   "metadata": {},
   "outputs": [],
   "source": [
    "# 4 차원 배열로 reshaping 해준다.\n",
    "X_train = X_train.reshape(-1,32,32,3)\n",
    "X_test = X_test.reshape(-1,32,32,3)"
   ]
  },
  {
   "cell_type": "code",
   "execution_count": 8,
   "metadata": {},
   "outputs": [],
   "source": [
    "# One-hot-encoding.\n",
    "y = np.concatenate([y_train,y_test],axis=0)\n",
    "y = to_categorical(y,10)\n",
    "y_train = y[:n_train_size,:]\n",
    "y_test = y[n_train_size:,:]"
   ]
  },
  {
   "cell_type": "markdown",
   "metadata": {},
   "source": [
    "#### 4. CNN 모델 정의 (BatchNormalization, Regularization):"
   ]
  },
  {
   "cell_type": "code",
   "execution_count": 9,
   "metadata": {},
   "outputs": [],
   "source": [
    "# 과적합 방지 방법 적용!\n",
    "# 1. Dropoput.\n",
    "# 2. BatchNormalization (배치 정규화).\n",
    "# 3. L2 정규화 (regularization).\n",
    "\n",
    "drop_prob = 0.7\n",
    "gamma = 0.0001\n",
    "my_model = Sequential()\n",
    "# 1st convolution + pooling.\n",
    "my_model.add(Conv2D(input_shape=(32,32,3),filters=32,kernel_size=(5,5),padding='same',activation=\"relu\", name=\"Conv-1\"))        # 3 channels of color.\n",
    "my_model.add(MaxPooling2D(pool_size=2, name=\"Pooling-1\"))\n",
    "my_model.add(BatchNormalization(name=\"BatchNormazliation\"))                                            # 배치 정규화.\n",
    "# 2nd convolution + pooling.\n",
    "my_model.add(Conv2D(filters=64,kernel_size=(5,5), padding='same',activation=\"relu\", name=\"Conv-2\"))\n",
    "my_model.add(MaxPooling2D(pool_size=2, name=\"Pooling-2\"))\n",
    "# Flattened fully connected layer.\n",
    "my_model.add(Flatten(name=\"Flatten\"))\n",
    "my_model.add(Dense(units = 1024, activation=\"relu\", name=\"Dense-1\", kernel_regularizer=l2(gamma), bias_regularizer=l2(gamma)))  # L2 정규화 적용!\n",
    "# Apply dropout.\n",
    "my_model.add(Dropout(rate=drop_prob, name=\"Dropout\"))\n",
    "# Output layer.\n",
    "my_model.add(Dense(units = 10, activation=\"softmax\", name=\"Dense-2\"))"
   ]
  },
  {
   "cell_type": "code",
   "execution_count": 10,
   "metadata": {},
   "outputs": [
    {
     "name": "stdout",
     "output_type": "stream",
     "text": [
      "Model: \"sequential\"\n",
      "_________________________________________________________________\n",
      " Layer (type)                Output Shape              Param #   \n",
      "=================================================================\n",
      " Conv-1 (Conv2D)             (None, 32, 32, 32)        2432      \n",
      "                                                                 \n",
      " Pooling-1 (MaxPooling2D)    (None, 16, 16, 32)        0         \n",
      "                                                                 \n",
      " BatchNormazliation (BatchNo  (None, 16, 16, 32)       128       \n",
      " rmalization)                                                    \n",
      "                                                                 \n",
      " Conv-2 (Conv2D)             (None, 16, 16, 64)        51264     \n",
      "                                                                 \n",
      " Pooling-2 (MaxPooling2D)    (None, 8, 8, 64)          0         \n",
      "                                                                 \n",
      " Flatten (Flatten)           (None, 4096)              0         \n",
      "                                                                 \n",
      " Dense-1 (Dense)             (None, 1024)              4195328   \n",
      "                                                                 \n",
      " Dropout (Dropout)           (None, 1024)              0         \n",
      "                                                                 \n",
      " Dense-2 (Dense)             (None, 10)                10250     \n",
      "                                                                 \n",
      "=================================================================\n",
      "Total params: 4,259,402\n",
      "Trainable params: 4,259,338\n",
      "Non-trainable params: 64\n",
      "_________________________________________________________________\n"
     ]
    }
   ],
   "source": [
    "# 모델의 summary (내부 구조) 출력.\n",
    "# Conv-1의 파라미터 수 = n_channels * n_filters1 * n_kernel_elements1 + n_filters1 = 3 * 32 * (5*5) + 32 = 2432\n",
    "# Conv-2의 파라미터 수 = n_filters1 * n_filters2 * n_kernel_elements2 + n_filters2 = 32 * 64 * (5*5) + 64 = 51264.\n",
    "# Dense-1의 파라미터 수 = 이전층의 출력 * n_nodes + n_nodes = 4096 * 1024 + 1024 = 4195328.\n",
    "# Dense-2의 파라미터 수 = 이전층의 출력 * n_output + n_output = 1024 * 10 + 10 = 10250.\n",
    "my_model.summary()"
   ]
  },
  {
   "cell_type": "markdown",
   "metadata": {},
   "source": [
    "#### 5. Hyperparameter 와 Optimizer 정의:"
   ]
  },
  {
   "cell_type": "code",
   "execution_count": 11,
   "metadata": {},
   "outputs": [],
   "source": [
    "# Hyperparameters.\n",
    "n_epochs = 30\n",
    "batch_size = 32\n",
    "learn_rate = 0.0001"
   ]
  },
  {
   "cell_type": "code",
   "execution_count": 12,
   "metadata": {},
   "outputs": [],
   "source": [
    "# Optimizer 객체 생성 후 컴파일한다.\n",
    "my_optimizer=Adam(lr=learn_rate)\n",
    "my_model.compile(loss = \"categorical_crossentropy\", optimizer = my_optimizer, metrics=[\"accuracy\"])"
   ]
  },
  {
   "cell_type": "markdown",
   "metadata": {},
   "source": [
    "#### 6. 학습 & History 시각화:"
   ]
  },
  {
   "cell_type": "code",
   "execution_count": 13,
   "metadata": {},
   "outputs": [
    {
     "name": "stdout",
     "output_type": "stream",
     "text": [
      "Epoch 1/30\n",
      "1094/1094 [==============================] - 57s 52ms/step - loss: 1.8709 - accuracy: 0.3864 - val_loss: 1.6159 - val_accuracy: 0.4846\n",
      "Epoch 2/30\n",
      "1094/1094 [==============================] - 57s 52ms/step - loss: 1.5368 - accuracy: 0.5027 - val_loss: 1.5487 - val_accuracy: 0.5147\n",
      "Epoch 3/30\n",
      "1094/1094 [==============================] - 57s 52ms/step - loss: 1.3709 - accuracy: 0.5635 - val_loss: 1.2677 - val_accuracy: 0.5961\n",
      "Epoch 4/30\n",
      "1094/1094 [==============================] - 58s 53ms/step - loss: 1.2407 - accuracy: 0.6064 - val_loss: 1.1477 - val_accuracy: 0.6421\n",
      "Epoch 5/30\n",
      "1094/1094 [==============================] - 57s 52ms/step - loss: 1.1327 - accuracy: 0.6409 - val_loss: 1.1351 - val_accuracy: 0.6417\n",
      "Epoch 6/30\n",
      "1094/1094 [==============================] - 58s 53ms/step - loss: 1.0504 - accuracy: 0.6708 - val_loss: 1.2261 - val_accuracy: 0.6189\n",
      "Epoch 7/30\n",
      "1094/1094 [==============================] - 58s 53ms/step - loss: 0.9781 - accuracy: 0.6919 - val_loss: 1.0115 - val_accuracy: 0.6853\n",
      "Epoch 8/30\n",
      "1094/1094 [==============================] - 55s 50ms/step - loss: 0.9185 - accuracy: 0.7129 - val_loss: 0.9809 - val_accuracy: 0.6885\n",
      "Epoch 9/30\n",
      "1094/1094 [==============================] - 54s 50ms/step - loss: 0.8649 - accuracy: 0.7337 - val_loss: 0.9433 - val_accuracy: 0.7077\n",
      "Epoch 10/30\n",
      "1094/1094 [==============================] - 58s 53ms/step - loss: 0.8135 - accuracy: 0.7536 - val_loss: 0.9258 - val_accuracy: 0.7143\n",
      "Epoch 11/30\n",
      "1094/1094 [==============================] - 59s 54ms/step - loss: 0.7619 - accuracy: 0.7727 - val_loss: 0.9073 - val_accuracy: 0.7242\n",
      "Epoch 12/30\n",
      "1094/1094 [==============================] - 57s 52ms/step - loss: 0.7234 - accuracy: 0.7839 - val_loss: 0.9678 - val_accuracy: 0.7065\n",
      "Epoch 13/30\n",
      "1094/1094 [==============================] - 58s 53ms/step - loss: 0.6839 - accuracy: 0.7997 - val_loss: 0.9197 - val_accuracy: 0.7251\n",
      "Epoch 14/30\n",
      "1094/1094 [==============================] - 59s 54ms/step - loss: 0.6453 - accuracy: 0.8117 - val_loss: 0.9028 - val_accuracy: 0.7305\n",
      "Epoch 15/30\n",
      "1094/1094 [==============================] - 57s 52ms/step - loss: 0.6093 - accuracy: 0.8266 - val_loss: 1.0374 - val_accuracy: 0.6991\n",
      "Epoch 16/30\n",
      "1094/1094 [==============================] - 58s 53ms/step - loss: 0.5758 - accuracy: 0.8393 - val_loss: 0.8888 - val_accuracy: 0.7389\n",
      "Epoch 17/30\n",
      "1094/1094 [==============================] - 58s 53ms/step - loss: 0.5436 - accuracy: 0.8495 - val_loss: 0.9086 - val_accuracy: 0.7395\n",
      "Epoch 18/30\n",
      "1094/1094 [==============================] - 57s 52ms/step - loss: 0.5093 - accuracy: 0.8645 - val_loss: 0.9302 - val_accuracy: 0.7343\n",
      "Epoch 19/30\n",
      "1094/1094 [==============================] - 57s 53ms/step - loss: 0.4839 - accuracy: 0.8742 - val_loss: 0.9184 - val_accuracy: 0.7400\n",
      "Epoch 20/30\n",
      "1094/1094 [==============================] - 58s 53ms/step - loss: 0.4558 - accuracy: 0.8848 - val_loss: 0.9791 - val_accuracy: 0.7333\n",
      "Epoch 21/30\n",
      "1094/1094 [==============================] - 55s 51ms/step - loss: 0.4312 - accuracy: 0.8937 - val_loss: 0.9208 - val_accuracy: 0.7452\n",
      "Epoch 21: early stopping\n"
     ]
    }
   ],
   "source": [
    "# 학습.\n",
    "# verbose = 0 : 출력 없음. verbose = 1 : 출력 함.\n",
    "my_EarlyStop = EarlyStopping(monitor='val_loss', mode='min', verbose=1, patience=5)          # 조기 종료 허락!\n",
    "my_summary = my_model.fit(X_train, y_train, epochs=n_epochs, batch_size = batch_size, validation_split = 0.3, verbose = 1,callbacks=[my_EarlyStop])"
   ]
  },
  {
   "cell_type": "code",
   "execution_count": 14,
   "metadata": {},
   "outputs": [
    {
     "data": {
      "image/png": "[encoded data removed]",
      "text/plain": [
       "<Figure size 432x288 with 1 Axes>"
      ]
     },
     "metadata": {
      "needs_background": "light"
     },
     "output_type": "display_data"
    }
   ],
   "source": [
    "# 학습 history 출력. \n",
    "n_skip = 0                 # Skip the first few steps.\n",
    "plt.plot(my_summary.history['accuracy'][n_skip:], c=\"b\")\n",
    "plt.plot(my_summary.history['val_accuracy'][n_skip:], c=\"g\")\n",
    "plt.title('Training History')\n",
    "plt.ylabel('Accuracy')\n",
    "plt.xlabel('Epoch')\n",
    "plt.legend(['Train', 'Validation'], loc='lower right')\n",
    "plt.show()"
   ]
  },
  {
   "cell_type": "markdown",
   "metadata": {},
   "source": [
    "#### 7.  테스팅: "
   ]
  },
  {
   "cell_type": "code",
   "execution_count": 15,
   "metadata": {},
   "outputs": [
    {
     "name": "stdout",
     "output_type": "stream",
     "text": [
      "정답 : Bird\n",
      "1/1 [==============================] - 0s 80ms/step\n",
      "예측 : Frog\n"
     ]
    },
    {
     "data": {
      "image/png": "[encoded data removed]",
      "text/plain": [
       "<Figure size 72x72 with 1 Axes>"
      ]
     },
     "metadata": {
      "needs_background": "light"
     },
     "output_type": "display_data"
    },
    {
     "name": "stdout",
     "output_type": "stream",
     "text": [
      "정답 : Bird\n",
      "1/1 [==============================] - 0s 13ms/step\n",
      "예측 : Bird\n"
     ]
    },
    {
     "data": {
      "image/png": "[encoded data removed]",
      "text/plain": [
       "<Figure size 72x72 with 1 Axes>"
      ]
     },
     "metadata": {
      "needs_background": "light"
     },
     "output_type": "display_data"
    },
    {
     "name": "stdout",
     "output_type": "stream",
     "text": [
      "정답 : Deer\n",
      "1/1 [==============================] - 0s 14ms/step\n",
      "예측 : Horse\n"
     ]
    },
    {
     "data": {
      "image/png": "[encoded data removed]",
      "text/plain": [
       "<Figure size 72x72 with 1 Axes>"
      ]
     },
     "metadata": {
      "needs_background": "light"
     },
     "output_type": "display_data"
    },
    {
     "name": "stdout",
     "output_type": "stream",
     "text": [
      "정답 : Deer\n",
      "1/1 [==============================] - 0s 15ms/step\n",
      "예측 : Cat\n"
     ]
    },
    {
     "data": {
      "image/png": "[encoded data removed]",
      "text/plain": [
       "<Figure size 72x72 with 1 Axes>"
      ]
     },
     "metadata": {
      "needs_background": "light"
     },
     "output_type": "display_data"
    },
    {
     "name": "stdout",
     "output_type": "stream",
     "text": [
      "정답 : Truck\n",
      "1/1 [==============================] - 0s 13ms/step\n",
      "예측 : Truck\n"
     ]
    },
    {
     "data": {
      "image/png": "[encoded data removed]",
      "text/plain": [
       "<Figure size 72x72 with 1 Axes>"
      ]
     },
     "metadata": {
      "needs_background": "light"
     },
     "output_type": "display_data"
    }
   ],
   "source": [
    "# 랜덤으로 테스트 이미지를 추출해서 예측해 본다.\n",
    "for i_image in [ random.randint(0,n_test_size-1) for _ in range(5)]:\n",
    "    print(\"정답 :\" , name_dict[np.argmax(y_test[i_image])])\n",
    "    print(\"예측 :\" , name_dict[np.argmax(my_model.predict(X_test[i_image].reshape(1,32,32,3)))])     # 4 차원 배열로 reshaping 해준다!!!\n",
    "    plt.figure(figsize=(1,1))\n",
    "    plt.imshow(X_test[i_image])\n",
    "    plt.axis(\"off\")\n",
    "    plt.show()"
   ]
  },
  {
   "cell_type": "code",
   "execution_count": 16,
   "metadata": {},
   "outputs": [
    {
     "name": "stdout",
     "output_type": "stream",
     "text": [
      "Test Accuracy : 0.748\n"
     ]
    }
   ],
   "source": [
    "# 최종적으로 정확도 계산.\n",
    "ACC = my_model.evaluate(X_test, y_test, verbose=0)[1]    \n",
    "print(\"Test Accuracy : {}\".format(np.round(ACC,3)))"
   ]
  },
  {
   "cell_type": "code",
   "execution_count": null,
   "metadata": {},
   "outputs": [],
   "source": []
  }
 ],
 "metadata": {
  "kernelspec": {
   "display_name": "Python 3 (ipykernel)",
   "language": "python",
   "name": "python3"
  },
  "language_info": {
   "codemirror_mode": {
    "name": "ipython",
    "version": 3
   },
   "file_extension": ".py",
   "mimetype": "text/x-python",
   "name": "python",
   "nbconvert_exporter": "python",
   "pygments_lexer": "ipython3",
   "version": "3.7.13"
  }
 },
 "nbformat": 4,
 "nbformat_minor": 2
}
