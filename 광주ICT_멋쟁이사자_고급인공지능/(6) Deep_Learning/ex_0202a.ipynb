{
 "cells": [
  {
   "cell_type": "markdown",
   "metadata": {},
   "source": [
    "### Convolutional Neural Network - 기본형 (컬러 이미지)."
   ]
  },
  {
   "cell_type": "code",
   "execution_count": 1,
   "metadata": {},
   "outputs": [],
   "source": [
    "import numpy as np\n",
    "import pandas as pd\n",
    "import matplotlib.pyplot as plt\n",
    "import warnings  \n",
    "import random\n",
    "from sklearn.model_selection import train_test_split\n",
    "from tensorflow.keras.datasets.cifar10 import load_data\n",
    "from tensorflow.keras.models import Sequential\n",
    "from tensorflow.keras.layers import Dense, Conv2D, Dropout, Flatten, MaxPooling2D\n",
    "from tensorflow.keras.utils import to_categorical\n",
    "from tensorflow.keras.optimizers import Adam, RMSprop, SGD\n",
    "from tensorflow.keras.callbacks import EarlyStopping\n",
    "warnings.filterwarnings('ignore')                  # Turn the warnings off.\n",
    "%matplotlib inline"
   ]
  },
  {
   "cell_type": "code",
   "execution_count": 2,
   "metadata": {},
   "outputs": [],
   "source": [
    "import ssl\n",
    "ssl._create_default_https_context = ssl._create_unverified_context"
   ]
  },
  {
   "cell_type": "markdown",
   "metadata": {},
   "source": [
    "#### 1. 데이터 불러오기:"
   ]
  },
  {
   "cell_type": "markdown",
   "metadata": {},
   "source": [
    "자세한 설명은 [이곳](https://www.cs.toronto.edu/~kriz/cifar.html)을 참고한다."
   ]
  },
  {
   "cell_type": "code",
   "execution_count": 3,
   "metadata": {},
   "outputs": [],
   "source": [
    "# 데이터 가져오기.\n",
    "(X_train, y_train), (X_test, y_test) = load_data()\n",
    "n_train_size = X_train.shape[0]\n",
    "n_test_size = X_test.shape[0]"
   ]
  },
  {
   "cell_type": "code",
   "execution_count": 4,
   "metadata": {},
   "outputs": [
    {
     "name": "stdout",
     "output_type": "stream",
     "text": [
      "--------------------------------------------------\n",
      "Training data X shape: (50000, 32, 32, 3)\n",
      "Training data y shape: (50000, 1)\n",
      "--------------------------------------------------\n",
      "Test data X shape: (10000, 32, 32, 3)\n",
      "Test data y shape: (10000, 1)\n",
      "--------------------------------------------------\n"
     ]
    }
   ],
   "source": [
    "# Shape 확인.\n",
    "print(\"-\"*50)\n",
    "print(\"Training data X shape: {}\".format(X_train.shape))\n",
    "print(\"Training data y shape: {}\".format(y_train.shape))\n",
    "print(\"-\"*50)\n",
    "print(\"Test data X shape: {}\".format(X_test.shape))\n",
    "print(\"Test data y shape: {}\".format(y_test.shape))\n",
    "print(\"-\"*50)"
   ]
  },
  {
   "cell_type": "markdown",
   "metadata": {},
   "source": [
    "#### 2. 데이터 시각화:"
   ]
  },
  {
   "cell_type": "code",
   "execution_count": 5,
   "metadata": {},
   "outputs": [],
   "source": [
    "name_dict = {0:\"Airplane\", 1:\"Automobile\", 2:\"Bird\", 3:\"Cat\", 4:\"Deer\", 5:\"Dog\", 6:\"Frog\", 7:\"Horse\", 8:\"Ship\", 9:\"Truck\"}"
   ]
  },
  {
   "cell_type": "code",
   "execution_count": 6,
   "metadata": {},
   "outputs": [
    {
     "name": "stdout",
     "output_type": "stream",
     "text": [
      "Y 레이블 : Airplane\n"
     ]
    },
    {
     "data": {
      "image/png": "[encoded data removed]",
      "text/plain": [
       "<Figure size 144x144 with 1 Axes>"
      ]
     },
     "metadata": {
      "needs_background": "light"
     },
     "output_type": "display_data"
    },
    {
     "name": "stdout",
     "output_type": "stream",
     "text": [
      "Y 레이블 : Automobile\n"
     ]
    },
    {
     "data": {
      "image/png": "[encoded data removed]",
      "text/plain": [
       "<Figure size 144x144 with 1 Axes>"
      ]
     },
     "metadata": {
      "needs_background": "light"
     },
     "output_type": "display_data"
    },
    {
     "name": "stdout",
     "output_type": "stream",
     "text": [
      "Y 레이블 : Airplane\n"
     ]
    },
    {
     "data": {
      "image/png": "[encoded data removed]",
      "text/plain": [
       "<Figure size 144x144 with 1 Axes>"
      ]
     },
     "metadata": {
      "needs_background": "light"
     },
     "output_type": "display_data"
    },
    {
     "name": "stdout",
     "output_type": "stream",
     "text": [
      "Y 레이블 : Cat\n"
     ]
    },
    {
     "data": {
      "image/png": "[encoded data removed]",
      "text/plain": [
       "<Figure size 144x144 with 1 Axes>"
      ]
     },
     "metadata": {
      "needs_background": "light"
     },
     "output_type": "display_data"
    },
    {
     "name": "stdout",
     "output_type": "stream",
     "text": [
      "Y 레이블 : Horse\n"
     ]
    },
    {
     "data": {
      "image/png": "[encoded data removed]",
      "text/plain": [
       "<Figure size 144x144 with 1 Axes>"
      ]
     },
     "metadata": {
      "needs_background": "light"
     },
     "output_type": "display_data"
    }
   ],
   "source": [
    "# 이미지 데이터 시각화 (5개).\n",
    "for i_image in [ random.randint(0,n_train_size-1) for _ in range(5)]:\n",
    "    print(\"Y 레이블 :\",name_dict[y_train[i_image][0]])\n",
    "    plt.figure(figsize=(2,2))\n",
    "    plt.imshow(X_train[i_image])\n",
    "    plt.axis(\"off\")\n",
    "    plt.show()"
   ]
  },
  {
   "cell_type": "markdown",
   "metadata": {},
   "source": [
    "#### 3. 데이터 준비:"
   ]
  },
  {
   "cell_type": "code",
   "execution_count": 7,
   "metadata": {},
   "outputs": [],
   "source": [
    "# Scaling.\n",
    "X_train = X_train/255                   \n",
    "X_test = X_test/255                        "
   ]
  },
  {
   "cell_type": "code",
   "execution_count": 8,
   "metadata": {},
   "outputs": [],
   "source": [
    "# 4 차원 배열로 reshaping 해준다.\n",
    "X_train = X_train.reshape(-1,32,32,3)\n",
    "X_test = X_test.reshape(-1,32,32,3)"
   ]
  },
  {
   "cell_type": "code",
   "execution_count": 9,
   "metadata": {},
   "outputs": [],
   "source": [
    "# One-hot-encoding.\n",
    "y = np.concatenate([y_train,y_test],axis=0)\n",
    "y = to_categorical(y,10)\n",
    "y_train = y[:n_train_size,:]\n",
    "y_test = y[n_train_size:,:]"
   ]
  },
  {
   "cell_type": "markdown",
   "metadata": {},
   "source": [
    "#### 4. CNN 모델 정의:"
   ]
  },
  {
   "cell_type": "code",
   "execution_count": 10,
   "metadata": {},
   "outputs": [],
   "source": [
    "# 과적합 방지 방법 적용!\n",
    "# 1. Dropoput.\n",
    "\n",
    "drop_prob = 0.7\n",
    "my_model = Sequential()\n",
    "# 1st convolution + pooling.\n",
    "my_model.add(Conv2D(input_shape=(32,32,3),filters=32,kernel_size=(5,5),padding='same',activation=\"relu\", name=\"Conv-1\"))        # 3 channels of color.\n",
    "my_model.add(MaxPooling2D(pool_size=2, name=\"Pooling-1\"))\n",
    "# 2nd convolution + pooling.\n",
    "my_model.add(Conv2D(filters=64,kernel_size=(5,5), padding='same',activation=\"relu\", name=\"Conv-2\"))\n",
    "my_model.add(MaxPooling2D(pool_size=2, name=\"Pooling-2\"))\n",
    "# Flattened fully connected layer.\n",
    "my_model.add(Flatten(name=\"Flatten\"))\n",
    "my_model.add(Dense(units = 1024, activation=\"relu\", name=\"Dense-1\"))\n",
    "# Apply dropout.\n",
    "my_model.add(Dropout(rate=drop_prob, name=\"Dropout\"))\n",
    "# Output layer.\n",
    "my_model.add(Dense(units = 10, activation=\"softmax\", name=\"Dense-2\"))"
   ]
  },
  {
   "cell_type": "code",
   "execution_count": 11,
   "metadata": {},
   "outputs": [
    {
     "name": "stdout",
     "output_type": "stream",
     "text": [
      "Model: \"sequential\"\n",
      "_________________________________________________________________\n",
      " Layer (type)                Output Shape              Param #   \n",
      "=================================================================\n",
      " Conv-1 (Conv2D)             (None, 32, 32, 32)        2432      \n",
      "                                                                 \n",
      " Pooling-1 (MaxPooling2D)    (None, 16, 16, 32)        0         \n",
      "                                                                 \n",
      " Conv-2 (Conv2D)             (None, 16, 16, 64)        51264     \n",
      "                                                                 \n",
      " Pooling-2 (MaxPooling2D)    (None, 8, 8, 64)          0         \n",
      "                                                                 \n",
      " Flatten (Flatten)           (None, 4096)              0         \n",
      "                                                                 \n",
      " Dense-1 (Dense)             (None, 1024)              4195328   \n",
      "                                                                 \n",
      " Dropout (Dropout)           (None, 1024)              0         \n",
      "                                                                 \n",
      " Dense-2 (Dense)             (None, 10)                10250     \n",
      "                                                                 \n",
      "=================================================================\n",
      "Total params: 4,259,274\n",
      "Trainable params: 4,259,274\n",
      "Non-trainable params: 0\n",
      "_________________________________________________________________\n"
     ]
    }
   ],
   "source": [
    "# 모델의 summary (내부 구조) 출력.\n",
    "# Conv-1의 파라미터 수 = n_channels * n_filters1 * n_kernel_elements1 + n_filters1 = 3 * 32 * (5*5) + 32 = 2432\n",
    "# Conv-2의 파라미터 수 = n_filters1 * n_filters2 * n_kernel_elements2 + n_filters2 = 32 * 64 * (5*5) + 64 = 51264.\n",
    "# Dense-1의 파라미터 수 = 이전층의 출력 * n_nodes + n_nodes = 4096 * 1024 + 1024 = 4195328.\n",
    "# Dense-2의 파라미터 수 = 이전층의 출력 * n_output + n_output = 1024 * 10 + 10 = 10250.\n",
    "my_model.summary()"
   ]
  },
  {
   "cell_type": "markdown",
   "metadata": {},
   "source": [
    "#### 5. Hyperparameter 와 Optimizer 정의:"
   ]
  },
  {
   "cell_type": "code",
   "execution_count": 12,
   "metadata": {},
   "outputs": [],
   "source": [
    "# Hyperparameters.\n",
    "n_epochs = 30\n",
    "batch_size = 32\n",
    "learn_rate = 0.0001"
   ]
  },
  {
   "cell_type": "code",
   "execution_count": 13,
   "metadata": {},
   "outputs": [],
   "source": [
    "# Optimizer 객체 생성 후 컴파일한다.\n",
    "my_optimizer=Adam(lr=learn_rate)\n",
    "my_model.compile(loss = \"categorical_crossentropy\", optimizer = my_optimizer, metrics=[\"accuracy\"])"
   ]
  },
  {
   "cell_type": "markdown",
   "metadata": {},
   "source": [
    "#### 6. 학습 & History 시각화:"
   ]
  },
  {
   "cell_type": "code",
   "execution_count": 14,
   "metadata": {},
   "outputs": [
    {
     "name": "stdout",
     "output_type": "stream",
     "text": [
      "Epoch 1/30\n",
      "1094/1094 [==============================] - 43s 39ms/step - loss: 1.7618 - accuracy: 0.3625 - val_loss: 1.4894 - val_accuracy: 0.4702\n",
      "Epoch 2/30\n",
      "1094/1094 [==============================] - 42s 39ms/step - loss: 1.4561 - accuracy: 0.4748 - val_loss: 1.3714 - val_accuracy: 0.5083\n",
      "Epoch 3/30\n",
      "1094/1094 [==============================] - 41s 38ms/step - loss: 1.3310 - accuracy: 0.5235 - val_loss: 1.2527 - val_accuracy: 0.5631\n",
      "Epoch 4/30\n",
      "1094/1094 [==============================] - 41s 38ms/step - loss: 1.2341 - accuracy: 0.5619 - val_loss: 1.1793 - val_accuracy: 0.5817\n",
      "Epoch 5/30\n",
      "1094/1094 [==============================] - 41s 38ms/step - loss: 1.1580 - accuracy: 0.5898 - val_loss: 1.1208 - val_accuracy: 0.6023\n",
      "Epoch 6/30\n",
      "1094/1094 [==============================] - 41s 38ms/step - loss: 1.0915 - accuracy: 0.6168 - val_loss: 1.0906 - val_accuracy: 0.6201\n",
      "Epoch 7/30\n",
      "1094/1094 [==============================] - 41s 37ms/step - loss: 1.0401 - accuracy: 0.6339 - val_loss: 1.0439 - val_accuracy: 0.6362\n",
      "Epoch 8/30\n",
      "1094/1094 [==============================] - 42s 38ms/step - loss: 0.9918 - accuracy: 0.6500 - val_loss: 0.9979 - val_accuracy: 0.6539\n",
      "Epoch 9/30\n",
      "1094/1094 [==============================] - 42s 39ms/step - loss: 0.9508 - accuracy: 0.6663 - val_loss: 0.9574 - val_accuracy: 0.6705\n",
      "Epoch 10/30\n",
      "1094/1094 [==============================] - 44s 40ms/step - loss: 0.9125 - accuracy: 0.6806 - val_loss: 0.9476 - val_accuracy: 0.6699\n",
      "Epoch 11/30\n",
      "1094/1094 [==============================] - 43s 39ms/step - loss: 0.8735 - accuracy: 0.6948 - val_loss: 0.9308 - val_accuracy: 0.6758\n",
      "Epoch 12/30\n",
      "1094/1094 [==============================] - 45s 42ms/step - loss: 0.8397 - accuracy: 0.7069 - val_loss: 0.8914 - val_accuracy: 0.6940\n",
      "Epoch 13/30\n",
      "1094/1094 [==============================] - 44s 40ms/step - loss: 0.8073 - accuracy: 0.7174 - val_loss: 0.8891 - val_accuracy: 0.6933\n",
      "Epoch 14/30\n",
      "1094/1094 [==============================] - 45s 42ms/step - loss: 0.7760 - accuracy: 0.7305 - val_loss: 0.8819 - val_accuracy: 0.6929\n",
      "Epoch 15/30\n",
      "1094/1094 [==============================] - 45s 41ms/step - loss: 0.7485 - accuracy: 0.7385 - val_loss: 0.8789 - val_accuracy: 0.6965\n",
      "Epoch 16/30\n",
      "1094/1094 [==============================] - 44s 40ms/step - loss: 0.7177 - accuracy: 0.7521 - val_loss: 0.8860 - val_accuracy: 0.6947\n",
      "Epoch 17/30\n",
      "1094/1094 [==============================] - 44s 41ms/step - loss: 0.6838 - accuracy: 0.7609 - val_loss: 0.8590 - val_accuracy: 0.7035\n",
      "Epoch 18/30\n",
      "1094/1094 [==============================] - 45s 41ms/step - loss: 0.6606 - accuracy: 0.7685 - val_loss: 0.8642 - val_accuracy: 0.7044\n",
      "Epoch 19/30\n",
      "1094/1094 [==============================] - 44s 40ms/step - loss: 0.6289 - accuracy: 0.7824 - val_loss: 0.8319 - val_accuracy: 0.7138\n",
      "Epoch 20/30\n",
      "1094/1094 [==============================] - 44s 40ms/step - loss: 0.6077 - accuracy: 0.7889 - val_loss: 0.8330 - val_accuracy: 0.7139\n",
      "Epoch 21/30\n",
      "1094/1094 [==============================] - 43s 40ms/step - loss: 0.5814 - accuracy: 0.7987 - val_loss: 0.8438 - val_accuracy: 0.7107\n",
      "Epoch 22/30\n",
      "1094/1094 [==============================] - 46s 42ms/step - loss: 0.5553 - accuracy: 0.8074 - val_loss: 0.8387 - val_accuracy: 0.7177\n",
      "Epoch 23/30\n",
      "1094/1094 [==============================] - 44s 41ms/step - loss: 0.5282 - accuracy: 0.8168 - val_loss: 0.8510 - val_accuracy: 0.7110\n",
      "Epoch 24/30\n",
      "1094/1094 [==============================] - 43s 39ms/step - loss: 0.5033 - accuracy: 0.8269 - val_loss: 0.8294 - val_accuracy: 0.7199\n",
      "Epoch 25/30\n",
      "1094/1094 [==============================] - 45s 41ms/step - loss: 0.4841 - accuracy: 0.8310 - val_loss: 0.8364 - val_accuracy: 0.7193\n",
      "Epoch 26/30\n",
      "1094/1094 [==============================] - 45s 41ms/step - loss: 0.4555 - accuracy: 0.8408 - val_loss: 0.8203 - val_accuracy: 0.7250\n",
      "Epoch 27/30\n",
      "1094/1094 [==============================] - 44s 41ms/step - loss: 0.4330 - accuracy: 0.8521 - val_loss: 0.8225 - val_accuracy: 0.7268\n",
      "Epoch 28/30\n",
      "1094/1094 [==============================] - 45s 41ms/step - loss: 0.4137 - accuracy: 0.8575 - val_loss: 0.8152 - val_accuracy: 0.7323\n",
      "Epoch 29/30\n",
      "1094/1094 [==============================] - 46s 42ms/step - loss: 0.3950 - accuracy: 0.8654 - val_loss: 0.8200 - val_accuracy: 0.7305\n",
      "Epoch 30/30\n",
      "1094/1094 [==============================] - 44s 41ms/step - loss: 0.3745 - accuracy: 0.8711 - val_loss: 0.8278 - val_accuracy: 0.7327\n"
     ]
    }
   ],
   "source": [
    "# 학습.\n",
    "# verbose = 0 : 출력 없음. verbose = 1 : 출력 함.\n",
    "my_EarlyStop = EarlyStopping(monitor='val_loss', mode='min', verbose=1, patience=5)          # 조기 종료 허락!\n",
    "my_summary = my_model.fit(X_train, y_train, epochs=n_epochs, batch_size = batch_size, validation_split = 0.3, verbose = 1,callbacks=[my_EarlyStop])"
   ]
  },
  {
   "cell_type": "code",
   "execution_count": 15,
   "metadata": {},
   "outputs": [
    {
     "data": {
      "image/png": "[encoded data removed]",
      "text/plain": [
       "<Figure size 432x288 with 1 Axes>"
      ]
     },
     "metadata": {
      "needs_background": "light"
     },
     "output_type": "display_data"
    }
   ],
   "source": [
    "# 학습 history 출력. \n",
    "n_skip = 0                 # Skip the first few steps.\n",
    "plt.plot(my_summary.history['accuracy'][n_skip:], c=\"b\")\n",
    "plt.plot(my_summary.history['val_accuracy'][n_skip:], c=\"g\")\n",
    "plt.title('Training History')\n",
    "plt.ylabel('Accuracy')\n",
    "plt.xlabel('Epoch')\n",
    "plt.legend(['Train', 'Validation'], loc='lower right')\n",
    "plt.show()"
   ]
  },
  {
   "cell_type": "markdown",
   "metadata": {},
   "source": [
    "#### 7.  테스팅: "
   ]
  },
  {
   "cell_type": "code",
   "execution_count": 16,
   "metadata": {},
   "outputs": [
    {
     "name": "stdout",
     "output_type": "stream",
     "text": [
      "정답 : Frog\n",
      "1/1 [==============================] - 0s 72ms/step\n",
      "예측 : Frog\n"
     ]
    },
    {
     "data": {
      "image/png": "[encoded data removed]",
      "text/plain": [
       "<Figure size 72x72 with 1 Axes>"
      ]
     },
     "metadata": {
      "needs_background": "light"
     },
     "output_type": "display_data"
    },
    {
     "name": "stdout",
     "output_type": "stream",
     "text": [
      "정답 : Truck\n",
      "1/1 [==============================] - 0s 14ms/step\n",
      "예측 : Truck\n"
     ]
    },
    {
     "data": {
      "image/png": "[encoded data removed]",
      "text/plain": [
       "<Figure size 72x72 with 1 Axes>"
      ]
     },
     "metadata": {
      "needs_background": "light"
     },
     "output_type": "display_data"
    },
    {
     "name": "stdout",
     "output_type": "stream",
     "text": [
      "정답 : Horse\n",
      "1/1 [==============================] - 0s 16ms/step\n",
      "예측 : Horse\n"
     ]
    },
    {
     "data": {
      "image/png": "[encoded data removed]",
      "text/plain": [
       "<Figure size 72x72 with 1 Axes>"
      ]
     },
     "metadata": {
      "needs_background": "light"
     },
     "output_type": "display_data"
    },
    {
     "name": "stdout",
     "output_type": "stream",
     "text": [
      "정답 : Ship\n",
      "1/1 [==============================] - 0s 14ms/step\n",
      "예측 : Airplane\n"
     ]
    },
    {
     "data": {
      "image/png": "[encoded data removed]",
      "text/plain": [
       "<Figure size 72x72 with 1 Axes>"
      ]
     },
     "metadata": {
      "needs_background": "light"
     },
     "output_type": "display_data"
    },
    {
     "name": "stdout",
     "output_type": "stream",
     "text": [
      "정답 : Bird\n",
      "1/1 [==============================] - 0s 14ms/step\n",
      "예측 : Bird\n"
     ]
    },
    {
     "data": {
      "image/png": "[encoded data removed]",
      "text/plain": [
       "<Figure size 72x72 with 1 Axes>"
      ]
     },
     "metadata": {
      "needs_background": "light"
     },
     "output_type": "display_data"
    }
   ],
   "source": [
    "# 랜덤으로 테스트 이미지를 추출해서 예측해 본다.\n",
    "for i_image in [ random.randint(0,n_test_size-1) for _ in range(5)]:\n",
    "    print(\"정답 :\" , name_dict[np.argmax(y_test[i_image])])\n",
    "    print(\"예측 :\" , name_dict[np.argmax(my_model.predict(X_test[i_image].reshape(1,32,32,3)))])     # 4 차원 배열로 reshaping 해준다!!!\n",
    "    plt.figure(figsize=(1,1))\n",
    "    plt.imshow(X_test[i_image])\n",
    "    plt.axis(\"off\")\n",
    "    plt.show()"
   ]
  },
  {
   "cell_type": "code",
   "execution_count": 17,
   "metadata": {},
   "outputs": [
    {
     "name": "stdout",
     "output_type": "stream",
     "text": [
      "Test Accuracy : 0.731\n"
     ]
    }
   ],
   "source": [
    "# 최종적으로 정확도 계산.\n",
    "ACC = my_model.evaluate(X_test, y_test, verbose=0)[1]    \n",
    "print(\"Test Accuracy : {}\".format(np.round(ACC,3)))"
   ]
  },
  {
   "cell_type": "code",
   "execution_count": null,
   "metadata": {},
   "outputs": [],
   "source": []
  }
 ],
 "metadata": {
  "kernelspec": {
   "display_name": "Python 3 (ipykernel)",
   "language": "python",
   "name": "python3"
  },
  "language_info": {
   "codemirror_mode": {
    "name": "ipython",
    "version": 3
   },
   "file_extension": ".py",
   "mimetype": "text/x-python",
   "name": "python",
   "nbconvert_exporter": "python",
   "pygments_lexer": "ipython3",
   "version": "3.7.13"
  }
 },
 "nbformat": 4,
 "nbformat_minor": 2
}
