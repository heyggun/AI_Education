{
 "cells": [
  {
   "cell_type": "markdown",
   "metadata": {},
   "source": [
    "### 사전 학습된 CNN 모형 사용 (Transfer Learning)."
   ]
  },
  {
   "cell_type": "code",
   "execution_count": 1,
   "metadata": {},
   "outputs": [],
   "source": [
    "# !pip install opencv-python"
   ]
  },
  {
   "cell_type": "code",
   "execution_count": 2,
   "metadata": {},
   "outputs": [],
   "source": [
    "import numpy as np\n",
    "import pandas as pd\n",
    "import matplotlib.pyplot as plt\n",
    "import warnings           \n",
    "import random\n",
    "import cv2\n",
    "import tensorflow as tf\n",
    "from tensorflow.keras.datasets.cifar10 import load_data                           \n",
    "from tensorflow.keras.models import Model                       # Functional API 사용 예정.\n",
    "from tensorflow.keras.layers import Dense, Dropout, Flatten, Input\n",
    "from tensorflow.keras.datasets.cifar10 import load_data                           \n",
    "from tensorflow.keras.applications import mobilenet             # 비교적 작은 크기의 모형.\n",
    "from tensorflow.keras.applications import vgg16\n",
    "from tensorflow.keras.utils import to_categorical\n",
    "from tensorflow.keras.optimizers import Adam, RMSprop, SGD\n",
    "from tensorflow.keras.callbacks import EarlyStopping\n",
    "warnings.filterwarnings('ignore')                               # Turn the warnings off.\n",
    "%matplotlib inline"
   ]
  },
  {
   "cell_type": "code",
   "execution_count": 3,
   "metadata": {},
   "outputs": [],
   "source": [
    "# # GPU를 검출해서 메모리 확장을 허락할 필요가 있다.\n",
    "# my_gpus = tf.config.experimental.list_physical_devices(\"GPU\")\n",
    "# tf.config.experimental.set_memory_growth(my_gpus[0],True)"
   ]
  },
  {
   "cell_type": "markdown",
   "metadata": {},
   "source": [
    "#### 1. 데이터 불러오기:"
   ]
  },
  {
   "cell_type": "markdown",
   "metadata": {},
   "source": [
    "자세한 설명은 [이곳](https://www.cs.toronto.edu/~kriz/cifar.html)을 참고한다."
   ]
  },
  {
   "cell_type": "code",
   "execution_count": 4,
   "metadata": {},
   "outputs": [],
   "source": [
    "import ssl\n",
    "ssl._create_default_https_context = ssl._create_unverified_context"
   ]
  },
  {
   "cell_type": "code",
   "execution_count": 5,
   "metadata": {},
   "outputs": [
    {
     "name": "stdout",
     "output_type": "stream",
     "text": [
      "최대 픽셀값: 255\n",
      "최소 픽셀값: 0\n"
     ]
    }
   ],
   "source": [
    "# 데이터 가져오기.\n",
    "(X_train_raw, y_train), (X_test_raw, y_test) = load_data()\n",
    "print(\"최대 픽셀값:\",X_train_raw.max())\n",
    "print(\"최소 픽셀값:\",X_train_raw.min())"
   ]
  },
  {
   "cell_type": "code",
   "execution_count": 6,
   "metadata": {},
   "outputs": [],
   "source": [
    "# 유형별 이름 사전.\n",
    "name_dict = {0:\"Airplane\", 1:\"Automobile\", 2:\"Bird\", 3:\"Cat\", 4:\"Deer\", 5:\"Dog\", 6:\"Frog\", 7:\"Horse\", 8:\"Ship\", 9:\"Truck\"}"
   ]
  },
  {
   "cell_type": "markdown",
   "metadata": {},
   "source": [
    "#### 2. 데이터 전처리:"
   ]
  },
  {
   "cell_type": "markdown",
   "metadata": {},
   "source": [
    "#### 2.1. 리사이징:"
   ]
  },
  {
   "cell_type": "code",
   "execution_count": 7,
   "metadata": {},
   "outputs": [
    {
     "name": "stdout",
     "output_type": "stream",
     "text": [
      "--------------------\n",
      "X_train 리사이징.\n",
      "Step : 1000\n",
      "Step : 2000\n",
      "Step : 3000\n",
      "Step : 4000\n",
      "Step : 5000\n",
      "\n",
      "--------------------\n",
      "X_test 리사이징.\n",
      "Step : 1000\n",
      "--------------------\n"
     ]
    }
   ],
   "source": [
    "# 원본의 1/10 가량만 사용하도록 한다.\n",
    "n_train_size = 5000\n",
    "n_test_size  = 1000\n",
    "\n",
    "# X_train 리사이징.\n",
    "print(\"-\"*20)\n",
    "print(\"X_train 리사이징.\")\n",
    "for i in range(n_train_size):\n",
    "    if ( (i + 1) % 1000) == 0:\n",
    "        print(f\"Step : {i+1}\")\n",
    "    if i == 0:\n",
    "        X_train = np.expand_dims(cv2.resize(X_train_raw[i,:,:,:],dsize=(128,128)),axis=0)\n",
    "    else:\n",
    "        X_train = np.concatenate([X_train,np.expand_dims(cv2.resize(X_train_raw[i,:,:,:],dsize=(128,128)),axis=0)], axis=0)\n",
    "\n",
    "# X_test 리사이징.\n",
    "print()\n",
    "print(\"-\"*20)\n",
    "print(\"X_test 리사이징.\")\n",
    "for i in range(n_test_size):\n",
    "    if ( (i + 1) % 1000) == 0:\n",
    "        print(f\"Step : {i+1}\")\n",
    "    if i == 0:\n",
    "        X_test = np.expand_dims(cv2.resize(X_test_raw[i,:,:,:],dsize=(128,128)),axis=0)\n",
    "    else:\n",
    "        X_test = np.concatenate([X_test,np.expand_dims(cv2.resize(X_test_raw[i,:,:,:],dsize=(128,128)),axis=0)], axis=0)\n",
    "print(\"-\"*20)"
   ]
  },
  {
   "cell_type": "code",
   "execution_count": 8,
   "metadata": {},
   "outputs": [
    {
     "name": "stdout",
     "output_type": "stream",
     "text": [
      "최대 픽셀값: 255\n",
      "최소 픽셀값: 0\n"
     ]
    }
   ],
   "source": [
    "print(\"최대 픽셀값:\",X_train.max())\n",
    "print(\"최소 픽셀값:\",X_train.min())"
   ]
  },
  {
   "cell_type": "markdown",
   "metadata": {},
   "source": [
    "#### 2.2. One-Hot-Encoding:"
   ]
  },
  {
   "cell_type": "code",
   "execution_count": 9,
   "metadata": {},
   "outputs": [],
   "source": [
    "# y 변수 간추리기와 one-hot-encoding.\n",
    "y = np.concatenate([y_train[:n_train_size],y_test[:n_test_size]],axis=0)   # 간추리고 이어 붙이기.\n",
    "y = to_categorical(y,10)\n",
    "y_train = y[:n_train_size,:]\n",
    "y_test = y[n_train_size:,:]"
   ]
  },
  {
   "cell_type": "code",
   "execution_count": 10,
   "metadata": {},
   "outputs": [
    {
     "name": "stdout",
     "output_type": "stream",
     "text": [
      "--------------------------------------------------\n",
      "Training data X shape: (5000, 128, 128, 3)\n",
      "Training data y shape: (5000, 10)\n",
      "--------------------------------------------------\n",
      "Test data X shape: (1000, 128, 128, 3)\n",
      "Test data y shape: (1000, 10)\n",
      "--------------------------------------------------\n"
     ]
    }
   ],
   "source": [
    "# Shape 확인.\n",
    "print(\"-\"*50)\n",
    "print(\"Training data X shape: {}\".format(X_train.shape))\n",
    "print(\"Training data y shape: {}\".format(y_train.shape))\n",
    "print(\"-\"*50)\n",
    "print(\"Test data X shape: {}\".format(X_test.shape))\n",
    "print(\"Test data y shape: {}\".format(y_test.shape))\n",
    "print(\"-\"*50)"
   ]
  },
  {
   "cell_type": "markdown",
   "metadata": {},
   "source": [
    "#### 3. 사전 학습된 CNN 모델을 가져와서 살펴본다."
   ]
  },
  {
   "cell_type": "code",
   "execution_count": 11,
   "metadata": {},
   "outputs": [
    {
     "name": "stdout",
     "output_type": "stream",
     "text": [
      "Downloading data from https://storage.googleapis.com/tensorflow/keras-applications/mobilenet/mobilenet_1_0_128_tf_no_top.h5\n",
      "17225924/17225924 [==============================] - 1s 0us/step\n"
     ]
    }
   ],
   "source": [
    "# MobileNet을 가져와 본다.\n",
    "# 입력 크기는 128, 160, 192, 224 가 가능하다.\n",
    "my_mnet = mobilenet.MobileNet(include_top=False, weights='imagenet', input_shape=(128,128,3))       # include_top = False에 주목한다!"
   ]
  },
  {
   "cell_type": "code",
   "execution_count": 12,
   "metadata": {},
   "outputs": [],
   "source": [
    "# 중요: trainable  = False 이면 사전 학습된 가중치는 \"동결\" 상태로 유지된다!!!\n",
    "my_mnet.trainable = False"
   ]
  },
  {
   "cell_type": "code",
   "execution_count": 13,
   "metadata": {},
   "outputs": [
    {
     "name": "stdout",
     "output_type": "stream",
     "text": [
      "Model: \"mobilenet_1.00_128\"\n",
      "_________________________________________________________________\n",
      " Layer (type)                Output Shape              Param #   \n",
      "=================================================================\n",
      " input_1 (InputLayer)        [(None, 128, 128, 3)]     0         \n",
      "                                                                 \n",
      " conv1 (Conv2D)              (None, 64, 64, 32)        864       \n",
      "                                                                 \n",
      " conv1_bn (BatchNormalizatio  (None, 64, 64, 32)       128       \n",
      " n)                                                              \n",
      "                                                                 \n",
      " conv1_relu (ReLU)           (None, 64, 64, 32)        0         \n",
      "                                                                 \n",
      " conv_dw_1 (DepthwiseConv2D)  (None, 64, 64, 32)       288       \n",
      "                                                                 \n",
      " conv_dw_1_bn (BatchNormaliz  (None, 64, 64, 32)       128       \n",
      " ation)                                                          \n",
      "                                                                 \n",
      " conv_dw_1_relu (ReLU)       (None, 64, 64, 32)        0         \n",
      "                                                                 \n",
      " conv_pw_1 (Conv2D)          (None, 64, 64, 64)        2048      \n",
      "                                                                 \n",
      " conv_pw_1_bn (BatchNormaliz  (None, 64, 64, 64)       256       \n",
      " ation)                                                          \n",
      "                                                                 \n",
      " conv_pw_1_relu (ReLU)       (None, 64, 64, 64)        0         \n",
      "                                                                 \n",
      " conv_pad_2 (ZeroPadding2D)  (None, 65, 65, 64)        0         \n",
      "                                                                 \n",
      " conv_dw_2 (DepthwiseConv2D)  (None, 32, 32, 64)       576       \n",
      "                                                                 \n",
      " conv_dw_2_bn (BatchNormaliz  (None, 32, 32, 64)       256       \n",
      " ation)                                                          \n",
      "                                                                 \n",
      " conv_dw_2_relu (ReLU)       (None, 32, 32, 64)        0         \n",
      "                                                                 \n",
      " conv_pw_2 (Conv2D)          (None, 32, 32, 128)       8192      \n",
      "                                                                 \n",
      " conv_pw_2_bn (BatchNormaliz  (None, 32, 32, 128)      512       \n",
      " ation)                                                          \n",
      "                                                                 \n",
      " conv_pw_2_relu (ReLU)       (None, 32, 32, 128)       0         \n",
      "                                                                 \n",
      " conv_dw_3 (DepthwiseConv2D)  (None, 32, 32, 128)      1152      \n",
      "                                                                 \n",
      " conv_dw_3_bn (BatchNormaliz  (None, 32, 32, 128)      512       \n",
      " ation)                                                          \n",
      "                                                                 \n",
      " conv_dw_3_relu (ReLU)       (None, 32, 32, 128)       0         \n",
      "                                                                 \n",
      " conv_pw_3 (Conv2D)          (None, 32, 32, 128)       16384     \n",
      "                                                                 \n",
      " conv_pw_3_bn (BatchNormaliz  (None, 32, 32, 128)      512       \n",
      " ation)                                                          \n",
      "                                                                 \n",
      " conv_pw_3_relu (ReLU)       (None, 32, 32, 128)       0         \n",
      "                                                                 \n",
      " conv_pad_4 (ZeroPadding2D)  (None, 33, 33, 128)       0         \n",
      "                                                                 \n",
      " conv_dw_4 (DepthwiseConv2D)  (None, 16, 16, 128)      1152      \n",
      "                                                                 \n",
      " conv_dw_4_bn (BatchNormaliz  (None, 16, 16, 128)      512       \n",
      " ation)                                                          \n",
      "                                                                 \n",
      " conv_dw_4_relu (ReLU)       (None, 16, 16, 128)       0         \n",
      "                                                                 \n",
      " conv_pw_4 (Conv2D)          (None, 16, 16, 256)       32768     \n",
      "                                                                 \n",
      " conv_pw_4_bn (BatchNormaliz  (None, 16, 16, 256)      1024      \n",
      " ation)                                                          \n",
      "                                                                 \n",
      " conv_pw_4_relu (ReLU)       (None, 16, 16, 256)       0         \n",
      "                                                                 \n",
      " conv_dw_5 (DepthwiseConv2D)  (None, 16, 16, 256)      2304      \n",
      "                                                                 \n",
      " conv_dw_5_bn (BatchNormaliz  (None, 16, 16, 256)      1024      \n",
      " ation)                                                          \n",
      "                                                                 \n",
      " conv_dw_5_relu (ReLU)       (None, 16, 16, 256)       0         \n",
      "                                                                 \n",
      " conv_pw_5 (Conv2D)          (None, 16, 16, 256)       65536     \n",
      "                                                                 \n",
      " conv_pw_5_bn (BatchNormaliz  (None, 16, 16, 256)      1024      \n",
      " ation)                                                          \n",
      "                                                                 \n",
      " conv_pw_5_relu (ReLU)       (None, 16, 16, 256)       0         \n",
      "                                                                 \n",
      " conv_pad_6 (ZeroPadding2D)  (None, 17, 17, 256)       0         \n",
      "                                                                 \n",
      " conv_dw_6 (DepthwiseConv2D)  (None, 8, 8, 256)        2304      \n",
      "                                                                 \n",
      " conv_dw_6_bn (BatchNormaliz  (None, 8, 8, 256)        1024      \n",
      " ation)                                                          \n",
      "                                                                 \n",
      " conv_dw_6_relu (ReLU)       (None, 8, 8, 256)         0         \n",
      "                                                                 \n",
      " conv_pw_6 (Conv2D)          (None, 8, 8, 512)         131072    \n",
      "                                                                 \n",
      " conv_pw_6_bn (BatchNormaliz  (None, 8, 8, 512)        2048      \n",
      " ation)                                                          \n",
      "                                                                 \n",
      " conv_pw_6_relu (ReLU)       (None, 8, 8, 512)         0         \n",
      "                                                                 \n",
      " conv_dw_7 (DepthwiseConv2D)  (None, 8, 8, 512)        4608      \n",
      "                                                                 \n",
      " conv_dw_7_bn (BatchNormaliz  (None, 8, 8, 512)        2048      \n",
      " ation)                                                          \n",
      "                                                                 \n",
      " conv_dw_7_relu (ReLU)       (None, 8, 8, 512)         0         \n",
      "                                                                 \n",
      " conv_pw_7 (Conv2D)          (None, 8, 8, 512)         262144    \n",
      "                                                                 \n",
      " conv_pw_7_bn (BatchNormaliz  (None, 8, 8, 512)        2048      \n",
      " ation)                                                          \n",
      "                                                                 \n",
      " conv_pw_7_relu (ReLU)       (None, 8, 8, 512)         0         \n",
      "                                                                 \n",
      " conv_dw_8 (DepthwiseConv2D)  (None, 8, 8, 512)        4608      \n",
      "                                                                 \n",
      " conv_dw_8_bn (BatchNormaliz  (None, 8, 8, 512)        2048      \n",
      " ation)                                                          \n",
      "                                                                 \n",
      " conv_dw_8_relu (ReLU)       (None, 8, 8, 512)         0         \n",
      "                                                                 \n",
      " conv_pw_8 (Conv2D)          (None, 8, 8, 512)         262144    \n"
     ]
    },
    {
     "name": "stdout",
     "output_type": "stream",
     "text": [
      "                                                                 \n",
      " conv_pw_8_bn (BatchNormaliz  (None, 8, 8, 512)        2048      \n",
      " ation)                                                          \n",
      "                                                                 \n",
      " conv_pw_8_relu (ReLU)       (None, 8, 8, 512)         0         \n",
      "                                                                 \n",
      " conv_dw_9 (DepthwiseConv2D)  (None, 8, 8, 512)        4608      \n",
      "                                                                 \n",
      " conv_dw_9_bn (BatchNormaliz  (None, 8, 8, 512)        2048      \n",
      " ation)                                                          \n",
      "                                                                 \n",
      " conv_dw_9_relu (ReLU)       (None, 8, 8, 512)         0         \n",
      "                                                                 \n",
      " conv_pw_9 (Conv2D)          (None, 8, 8, 512)         262144    \n",
      "                                                                 \n",
      " conv_pw_9_bn (BatchNormaliz  (None, 8, 8, 512)        2048      \n",
      " ation)                                                          \n",
      "                                                                 \n",
      " conv_pw_9_relu (ReLU)       (None, 8, 8, 512)         0         \n",
      "                                                                 \n",
      " conv_dw_10 (DepthwiseConv2D  (None, 8, 8, 512)        4608      \n",
      " )                                                               \n",
      "                                                                 \n",
      " conv_dw_10_bn (BatchNormali  (None, 8, 8, 512)        2048      \n",
      " zation)                                                         \n",
      "                                                                 \n",
      " conv_dw_10_relu (ReLU)      (None, 8, 8, 512)         0         \n",
      "                                                                 \n",
      " conv_pw_10 (Conv2D)         (None, 8, 8, 512)         262144    \n",
      "                                                                 \n",
      " conv_pw_10_bn (BatchNormali  (None, 8, 8, 512)        2048      \n",
      " zation)                                                         \n",
      "                                                                 \n",
      " conv_pw_10_relu (ReLU)      (None, 8, 8, 512)         0         \n",
      "                                                                 \n",
      " conv_dw_11 (DepthwiseConv2D  (None, 8, 8, 512)        4608      \n",
      " )                                                               \n",
      "                                                                 \n",
      " conv_dw_11_bn (BatchNormali  (None, 8, 8, 512)        2048      \n",
      " zation)                                                         \n",
      "                                                                 \n",
      " conv_dw_11_relu (ReLU)      (None, 8, 8, 512)         0         \n",
      "                                                                 \n",
      " conv_pw_11 (Conv2D)         (None, 8, 8, 512)         262144    \n",
      "                                                                 \n",
      " conv_pw_11_bn (BatchNormali  (None, 8, 8, 512)        2048      \n",
      " zation)                                                         \n",
      "                                                                 \n",
      " conv_pw_11_relu (ReLU)      (None, 8, 8, 512)         0         \n",
      "                                                                 \n",
      " conv_pad_12 (ZeroPadding2D)  (None, 9, 9, 512)        0         \n",
      "                                                                 \n",
      " conv_dw_12 (DepthwiseConv2D  (None, 4, 4, 512)        4608      \n",
      " )                                                               \n",
      "                                                                 \n",
      " conv_dw_12_bn (BatchNormali  (None, 4, 4, 512)        2048      \n",
      " zation)                                                         \n",
      "                                                                 \n",
      " conv_dw_12_relu (ReLU)      (None, 4, 4, 512)         0         \n",
      "                                                                 \n",
      " conv_pw_12 (Conv2D)         (None, 4, 4, 1024)        524288    \n",
      "                                                                 \n",
      " conv_pw_12_bn (BatchNormali  (None, 4, 4, 1024)       4096      \n",
      " zation)                                                         \n",
      "                                                                 \n",
      " conv_pw_12_relu (ReLU)      (None, 4, 4, 1024)        0         \n",
      "                                                                 \n",
      " conv_dw_13 (DepthwiseConv2D  (None, 4, 4, 1024)       9216      \n",
      " )                                                               \n",
      "                                                                 \n",
      " conv_dw_13_bn (BatchNormali  (None, 4, 4, 1024)       4096      \n",
      " zation)                                                         \n",
      "                                                                 \n",
      " conv_dw_13_relu (ReLU)      (None, 4, 4, 1024)        0         \n",
      "                                                                 \n",
      " conv_pw_13 (Conv2D)         (None, 4, 4, 1024)        1048576   \n",
      "                                                                 \n",
      " conv_pw_13_bn (BatchNormali  (None, 4, 4, 1024)       4096      \n",
      " zation)                                                         \n",
      "                                                                 \n",
      " conv_pw_13_relu (ReLU)      (None, 4, 4, 1024)        0         \n",
      "                                                                 \n",
      "=================================================================\n",
      "Total params: 3,228,864\n",
      "Trainable params: 0\n",
      "Non-trainable params: 3,228,864\n",
      "_________________________________________________________________\n"
     ]
    }
   ],
   "source": [
    "# 가져온 모델의 summary (내부 구조) 출력.\n",
    "my_mnet.summary()"
   ]
  },
  {
   "cell_type": "markdown",
   "metadata": {},
   "source": [
    "#### 4. 최종 모델을 만든다."
   ]
  },
  {
   "cell_type": "code",
   "execution_count": 14,
   "metadata": {},
   "outputs": [],
   "source": [
    "drop_prob = 0.5\n",
    "# PART 1: 입력 부분에 전처리 layer를 삽입한다.\n",
    "my_input = Input([128, 128, 3], dtype = tf.float32, name=\"Input\")       \n",
    "x = mobilenet.preprocess_input(my_input)\n",
    "# PART 2: Convolution 파트를 추가한다. \n",
    "x = my_mnet(x)      \n",
    "# PART #: Classification을 위한 나머지 layer구조를 추가한다.\n",
    "x = Flatten(name=\"Flatten\")(x)\n",
    "x = Dense(units = 1024, activation=\"relu\", name=\"Dense1\")(x)  \n",
    "# Dropout 적용.\n",
    "x = Dropout(rate=drop_prob, name=\"Dropout\")(x)\n",
    "# Fully connected layer 추가.\n",
    "x = Dense(units = 256, activation=\"relu\", name=\"Dense2\")(x)            \n",
    "# 출력층. \n",
    "x = Dense(units = 10, activation=\"softmax\", name=\"Dense3-Output\")(x)             # 10가지 유형이 있다.\n",
    "# Functional API를 사용하여 최종 모델을 만든다.\n",
    "my_model = Model(inputs=my_input, outputs=x)   "
   ]
  },
  {
   "cell_type": "code",
   "execution_count": 15,
   "metadata": {},
   "outputs": [
    {
     "name": "stdout",
     "output_type": "stream",
     "text": [
      "Model: \"model\"\n",
      "_________________________________________________________________\n",
      " Layer (type)                Output Shape              Param #   \n",
      "=================================================================\n",
      " Input (InputLayer)          [(None, 128, 128, 3)]     0         \n",
      "                                                                 \n",
      " tf.math.truediv (TFOpLambda  (None, 128, 128, 3)      0         \n",
      " )                                                               \n",
      "                                                                 \n",
      " tf.math.subtract (TFOpLambd  (None, 128, 128, 3)      0         \n",
      " a)                                                              \n",
      "                                                                 \n",
      " mobilenet_1.00_128 (Functio  (None, 4, 4, 1024)       3228864   \n",
      " nal)                                                            \n",
      "                                                                 \n",
      " Flatten (Flatten)           (None, 16384)             0         \n",
      "                                                                 \n",
      " Dense1 (Dense)              (None, 1024)              16778240  \n",
      "                                                                 \n",
      " Dropout (Dropout)           (None, 1024)              0         \n",
      "                                                                 \n",
      " Dense2 (Dense)              (None, 256)               262400    \n",
      "                                                                 \n",
      " Dense3-Output (Dense)       (None, 10)                2570      \n",
      "                                                                 \n",
      "=================================================================\n",
      "Total params: 20,272,074\n",
      "Trainable params: 17,043,210\n",
      "Non-trainable params: 3,228,864\n",
      "_________________________________________________________________\n"
     ]
    }
   ],
   "source": [
    "# 전체 모델의 summary (내부 구조) 출력.\n",
    "my_model.summary()"
   ]
  },
  {
   "cell_type": "markdown",
   "metadata": {},
   "source": [
    "#### 5. Hyperparameter 와 Optimizer 정의:"
   ]
  },
  {
   "cell_type": "code",
   "execution_count": 16,
   "metadata": {},
   "outputs": [],
   "source": [
    "# Hyperparameters.\n",
    "n_epochs = 20\n",
    "batch_size = 36\n",
    "learn_rate = 0.00002"
   ]
  },
  {
   "cell_type": "code",
   "execution_count": 17,
   "metadata": {},
   "outputs": [],
   "source": [
    "# Optimizer 객체 생성 후 컴파일한다.\n",
    "my_optimizer=Adam(lr=learn_rate)\n",
    "my_model.compile(loss = \"categorical_crossentropy\", optimizer = my_optimizer, metrics=[\"accuracy\"])"
   ]
  },
  {
   "cell_type": "markdown",
   "metadata": {},
   "source": [
    "#### 6. 학습 & History 시각화:"
   ]
  },
  {
   "cell_type": "code",
   "execution_count": 18,
   "metadata": {},
   "outputs": [
    {
     "name": "stdout",
     "output_type": "stream",
     "text": [
      "Epoch 1/20\n",
      "98/98 [==============================] - 25s 237ms/step - loss: 2.0305 - accuracy: 0.3849 - val_loss: 0.9116 - val_accuracy: 0.6867\n",
      "Epoch 2/20\n",
      "98/98 [==============================] - 22s 226ms/step - loss: 0.9457 - accuracy: 0.6823 - val_loss: 0.7074 - val_accuracy: 0.7547\n",
      "Epoch 3/20\n",
      "98/98 [==============================] - 21s 215ms/step - loss: 0.6268 - accuracy: 0.7831 - val_loss: 0.6267 - val_accuracy: 0.7833\n",
      "Epoch 4/20\n",
      "98/98 [==============================] - 22s 222ms/step - loss: 0.4638 - accuracy: 0.8420 - val_loss: 0.5937 - val_accuracy: 0.7887\n",
      "Epoch 5/20\n",
      "98/98 [==============================] - 21s 219ms/step - loss: 0.3270 - accuracy: 0.8903 - val_loss: 0.5735 - val_accuracy: 0.8000\n",
      "Epoch 6/20\n",
      "98/98 [==============================] - 21s 214ms/step - loss: 0.2571 - accuracy: 0.9191 - val_loss: 0.5417 - val_accuracy: 0.8100\n",
      "Epoch 7/20\n",
      "98/98 [==============================] - 21s 213ms/step - loss: 0.1832 - accuracy: 0.9443 - val_loss: 0.5386 - val_accuracy: 0.8153\n",
      "Epoch 8/20\n",
      "98/98 [==============================] - 21s 215ms/step - loss: 0.1523 - accuracy: 0.9569 - val_loss: 0.5311 - val_accuracy: 0.8193\n",
      "Epoch 9/20\n",
      "98/98 [==============================] - 22s 223ms/step - loss: 0.1212 - accuracy: 0.9674 - val_loss: 0.5222 - val_accuracy: 0.8193\n",
      "Epoch 10/20\n",
      "98/98 [==============================] - 22s 224ms/step - loss: 0.0866 - accuracy: 0.9757 - val_loss: 0.5182 - val_accuracy: 0.8287\n",
      "Epoch 11/20\n",
      "98/98 [==============================] - 21s 211ms/step - loss: 0.0786 - accuracy: 0.9809 - val_loss: 0.5250 - val_accuracy: 0.8280\n",
      "Epoch 12/20\n",
      "98/98 [==============================] - 21s 211ms/step - loss: 0.0631 - accuracy: 0.9863 - val_loss: 0.5104 - val_accuracy: 0.8367\n",
      "Epoch 13/20\n",
      "98/98 [==============================] - 22s 222ms/step - loss: 0.0549 - accuracy: 0.9900 - val_loss: 0.5152 - val_accuracy: 0.8373\n",
      "Epoch 14/20\n",
      "98/98 [==============================] - 22s 228ms/step - loss: 0.0449 - accuracy: 0.9923 - val_loss: 0.5275 - val_accuracy: 0.8300\n",
      "Epoch 15/20\n",
      "98/98 [==============================] - 21s 219ms/step - loss: 0.0348 - accuracy: 0.9929 - val_loss: 0.5303 - val_accuracy: 0.8333\n",
      "Epoch 15: early stopping\n"
     ]
    }
   ],
   "source": [
    "# 학습.\n",
    "# verbose = 0 : 출력 없음. verbose = 1 : 출력 함.\n",
    "my_EarlyStop = EarlyStopping(monitor='val_loss', mode='min', verbose=1, patience=3)          # 조기 종료 허락!\n",
    "my_summary = my_model.fit(X_train, y_train, epochs=n_epochs, batch_size = batch_size, validation_split = 0.3, verbose = 1,callbacks=[my_EarlyStop])"
   ]
  },
  {
   "cell_type": "code",
   "execution_count": 19,
   "metadata": {},
   "outputs": [
    {
     "data": {
      "image/png": "[encoded data removed]",
      "text/plain": [
       "<Figure size 432x288 with 1 Axes>"
      ]
     },
     "metadata": {
      "needs_background": "light"
     },
     "output_type": "display_data"
    }
   ],
   "source": [
    "# Visualize the training history. \n",
    "n_skip = 0                 # Skip the first few steps.\n",
    "plt.plot(my_summary.history['accuracy'][n_skip:], c=\"b\")\n",
    "plt.plot(my_summary.history['val_accuracy'][n_skip:], c=\"g\")\n",
    "plt.title('Training History')\n",
    "plt.ylabel('Accuracy')\n",
    "plt.xlabel('Epoch')\n",
    "plt.legend(['Train', 'Validation'], loc='lower right')\n",
    "plt.show()"
   ]
  },
  {
   "cell_type": "markdown",
   "metadata": {},
   "source": [
    "#### 7. 테스팅: "
   ]
  },
  {
   "cell_type": "code",
   "execution_count": 20,
   "metadata": {},
   "outputs": [
    {
     "name": "stdout",
     "output_type": "stream",
     "text": [
      "정답 : Deer\n",
      "1/1 [==============================] - 0s 358ms/step\n",
      "예측 : Deer\n"
     ]
    },
    {
     "data": {
      "image/png": "[encoded data removed]",
      "text/plain": [
       "<Figure size 108x108 with 1 Axes>"
      ]
     },
     "metadata": {
      "needs_background": "light"
     },
     "output_type": "display_data"
    },
    {
     "name": "stdout",
     "output_type": "stream",
     "text": [
      "정답 : Ship\n",
      "1/1 [==============================] - 0s 24ms/step\n",
      "예측 : Ship\n"
     ]
    },
    {
     "data": {
      "image/png": "[encoded data removed]",
      "text/plain": [
       "<Figure size 108x108 with 1 Axes>"
      ]
     },
     "metadata": {
      "needs_background": "light"
     },
     "output_type": "display_data"
    },
    {
     "name": "stdout",
     "output_type": "stream",
     "text": [
      "정답 : Cat\n",
      "1/1 [==============================] - 0s 23ms/step\n",
      "예측 : Cat\n"
     ]
    },
    {
     "data": {
      "image/png": "[encoded data removed]",
      "text/plain": [
       "<Figure size 108x108 with 1 Axes>"
      ]
     },
     "metadata": {
      "needs_background": "light"
     },
     "output_type": "display_data"
    },
    {
     "name": "stdout",
     "output_type": "stream",
     "text": [
      "정답 : Frog\n",
      "1/1 [==============================] - 0s 24ms/step\n",
      "예측 : Frog\n"
     ]
    },
    {
     "data": {
      "image/png": "[encoded data removed]",
      "text/plain": [
       "<Figure size 108x108 with 1 Axes>"
      ]
     },
     "metadata": {
      "needs_background": "light"
     },
     "output_type": "display_data"
    },
    {
     "name": "stdout",
     "output_type": "stream",
     "text": [
      "정답 : Horse\n",
      "1/1 [==============================] - 0s 23ms/step\n",
      "예측 : Horse\n"
     ]
    },
    {
     "data": {
      "image/png": "[encoded data removed]",
      "text/plain": [
       "<Figure size 108x108 with 1 Axes>"
      ]
     },
     "metadata": {
      "needs_background": "light"
     },
     "output_type": "display_data"
    }
   ],
   "source": [
    "# 랜덤으로 테스트 이미지를 추출해서 예측해 본다.\n",
    "for i_image in [ random.randint(0,n_test_size-1) for _ in range(5)]:\n",
    "    print(\"정답 :\" , name_dict[np.argmax(y_test[i_image])])\n",
    "    print(\"예측 :\" , name_dict[np.argmax(my_model.predict(X_test[i_image].reshape(1,128,128,3)))])  # 먼저 4 차원 배열로 reshaping 해준다!!!\n",
    "    plt.figure(figsize=(1.5,1.5))\n",
    "    plt.imshow(X_test[i_image])\n",
    "    plt.axis(\"off\")\n",
    "    plt.show()"
   ]
  },
  {
   "cell_type": "code",
   "execution_count": 21,
   "metadata": {},
   "outputs": [
    {
     "name": "stdout",
     "output_type": "stream",
     "text": [
      "Test Accuracy : 0.828\n"
     ]
    }
   ],
   "source": [
    "# 최종적으로 정확도 계산.\n",
    "ACC = my_model.evaluate(X_test, y_test, verbose=0)[1]    \n",
    "print(\"Test Accuracy : {}\".format(np.round(ACC,3)))"
   ]
  },
  {
   "cell_type": "markdown",
   "metadata": {},
   "source": [
    "**NOTE**: 이전에 직접 만든 모델보다 성능이 월등히 좋다!"
   ]
  },
  {
   "cell_type": "code",
   "execution_count": null,
   "metadata": {},
   "outputs": [],
   "source": []
  }
 ],
 "metadata": {
  "kernelspec": {
   "display_name": "Python 3 (ipykernel)",
   "language": "python",
   "name": "python3"
  },
  "language_info": {
   "codemirror_mode": {
    "name": "ipython",
    "version": 3
   },
   "file_extension": ".py",
   "mimetype": "text/x-python",
   "name": "python",
   "nbconvert_exporter": "python",
   "pygments_lexer": "ipython3",
   "version": "3.7.13"
  }
 },
 "nbformat": 4,
 "nbformat_minor": 2
}
