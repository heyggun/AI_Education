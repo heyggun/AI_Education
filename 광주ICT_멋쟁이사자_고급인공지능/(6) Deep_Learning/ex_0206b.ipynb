{
 "cells": [
  {
   "cell_type": "markdown",
   "metadata": {},
   "source": [
    "### LSTM을 활용한 자연어 문서 분류 예측 (Binary)."
   ]
  },
  {
   "cell_type": "code",
   "execution_count": 1,
   "metadata": {},
   "outputs": [],
   "source": [
    "import pandas as pd\n",
    "import numpy as np\n",
    "import warnings    \n",
    "import random\n",
    "import matplotlib.pyplot as plt\n",
    "from sklearn.model_selection import train_test_split\n",
    "from tensorflow.keras.datasets.imdb import load_data, get_word_index       # Movie review data. \n",
    "from tensorflow.keras.models import Sequential\n",
    "from tensorflow.keras.layers import Dense, SimpleRNN, LSTM, Embedding\n",
    "from tensorflow.keras.utils import to_categorical\n",
    "from tensorflow.keras.preprocessing.sequence import pad_sequences\n",
    "from tensorflow.keras.optimizers import Adam, RMSprop, SGD\n",
    "from tensorflow.keras.callbacks import EarlyStopping\n",
    "warnings.filterwarnings('ignore')                              # Turn the warnings off.\n",
    "%matplotlib inline"
   ]
  },
  {
   "cell_type": "markdown",
   "metadata": {},
   "source": [
    "#### 1. 데이터 불러오기:"
   ]
  },
  {
   "cell_type": "code",
   "execution_count": 2,
   "metadata": {},
   "outputs": [],
   "source": [
    "n_words = 3000                                        # Vocabulary의 크기.\n",
    "(X_train, y_train), (X_test, y_test) = load_data(num_words = n_words)\n",
    "n_train_size = X_train.shape[0]\n",
    "n_test_size = X_test.shape[0]"
   ]
  },
  {
   "cell_type": "code",
   "execution_count": 3,
   "metadata": {},
   "outputs": [
    {
     "name": "stdout",
     "output_type": "stream",
     "text": [
      "--------------------------------------------------\n",
      "Training data X shape: (25000,)\n",
      "Training data y shape: (25000,)\n",
      "--------------------------------------------------\n",
      "Test data X shape: (25000,)\n",
      "Test data y shape: (25000,)\n",
      "--------------------------------------------------\n"
     ]
    }
   ],
   "source": [
    "# 데이터의 Shape확인.\n",
    "print(\"-\"*50)\n",
    "print(\"Training data X shape: {}\".format(X_train.shape))\n",
    "print(\"Training data y shape: {}\".format(y_train.shape))\n",
    "print(\"-\"*50)\n",
    "print(\"Test data X shape: {}\".format(X_test.shape))\n",
    "print(\"Test data y shape: {}\".format(y_test.shape))\n",
    "print(\"-\"*50)"
   ]
  },
  {
   "cell_type": "markdown",
   "metadata": {},
   "source": [
    "#### 2. 데이터 탐색:"
   ]
  },
  {
   "cell_type": "code",
   "execution_count": 4,
   "metadata": {},
   "outputs": [
    {
     "data": {
      "text/plain": [
       "2"
      ]
     },
     "execution_count": 4,
     "metadata": {},
     "output_type": "execute_result"
    }
   ],
   "source": [
    "# y의 고유한 유형의 수 = 리뷰의 유형 수 (2).\n",
    "n_cat = pd.Series(y_train).nunique()\n",
    "n_cat"
   ]
  },
  {
   "cell_type": "code",
   "execution_count": 5,
   "metadata": {},
   "outputs": [
    {
     "name": "stdout",
     "output_type": "stream",
     "text": [
      "[1, 14, 22, 16, 43, 530, 973, 1622, 1385, 65, 458, 2, 66, 2, 4, 173, 36, 256, 5, 25, 100, 43, 838, 112, 50, 670, 2, 9, 35, 480, 284, 5, 150, 4, 172, 112, 167, 2, 336, 385, 39, 4, 172, 2, 1111, 17, 546, 38, 13, 447, 4, 192, 50, 16, 6, 147, 2025, 19, 14, 22, 4, 1920, 2, 469, 4, 22, 71, 87, 12, 16, 43, 530, 38, 76, 15, 13, 1247, 4, 22, 17, 515, 17, 12, 16, 626, 18, 2, 5, 62, 386, 12, 8, 316, 8, 106, 5, 4, 2223, 2, 16, 480, 66, 2, 33, 4, 130, 12, 16, 38, 619, 5, 25, 124, 51, 36, 135, 48, 25, 1415, 33, 6, 22, 12, 215, 28, 77, 52, 5, 14, 407, 16, 82, 2, 8, 4, 107, 117, 2, 15, 256, 4, 2, 7, 2, 5, 723, 36, 71, 43, 530, 476, 26, 400, 317, 46, 7, 4, 2, 1029, 13, 104, 88, 4, 381, 15, 297, 98, 32, 2071, 56, 26, 141, 6, 194, 2, 18, 4, 226, 22, 21, 134, 476, 26, 480, 5, 144, 30, 2, 18, 51, 36, 28, 224, 92, 25, 104, 4, 226, 65, 16, 38, 1334, 88, 12, 16, 283, 5, 16, 2, 113, 103, 32, 15, 16, 2, 19, 178, 32]\n"
     ]
    }
   ],
   "source": [
    "# X에서 임의의 문서 한 개 출력.\n",
    "# Embedding 층에 입력하기 위해서 정수 (인덱스)로 인코딩 되어 있다!\n",
    "print(X_train[0])"
   ]
  },
  {
   "cell_type": "code",
   "execution_count": 6,
   "metadata": {},
   "outputs": [
    {
     "name": "stdout",
     "output_type": "stream",
     "text": [
      "[218, 189, 141, 550, 147, 43, 123, 562, 233, 130, 450, 99, 117, 238, 109, 129, 163, 752, 212, 177, 129, 140, 256, 888, 93, 142, 220, 193, 171, 221, 174, 647, 233, 162, 597, 234, 51, 336, 139, 231, 704, 142, 861, 132, 122, 570, 55, 214, 103, 186, 113, 169, 469, 138, 302, 766, 351, 146, 59, 206, 107, 152, 186, 431, 147, 684, 383, 324, 252, 263, 787, 211, 314, 118, 390, 132, 710, 306, 167, 115, 95, 158, 156, 82, 502, 314, 190, 174, 60, 145, 214, 659, 408, 515, 461, 202, 238, 170, 107, 171]\n"
     ]
    }
   ],
   "source": [
    "# 첫 100 개의 문서 길이를 확인해 본다.\n",
    "# 문서 길이가 일정하지 않음을 알 수 있다.\n",
    "print([len(a) for a in X_train[0:100]])"
   ]
  },
  {
   "cell_type": "code",
   "execution_count": 7,
   "metadata": {},
   "outputs": [],
   "source": [
    "# 딕셔너리를 가져온다. 인덱스로 인코딩된 문서를 단어의 조합으로 변환할 수 있게 된다.\n",
    "my_dict = get_word_index(path='imdb_word_index.json')"
   ]
  },
  {
   "cell_type": "code",
   "execution_count": 8,
   "metadata": {},
   "outputs": [],
   "source": [
    "# 딕셔너리 출력.\n",
    "# my_dict"
   ]
  },
  {
   "cell_type": "code",
   "execution_count": 9,
   "metadata": {},
   "outputs": [],
   "source": [
    "# 'key' 와 'value'의 역할을 반대로 바꾸어 준다.\n",
    "# 컴프리헨션 방법을 적용한다.\n",
    "my_dict_inv = {v:k for k,v in my_dict.items()}"
   ]
  },
  {
   "cell_type": "code",
   "execution_count": 10,
   "metadata": {},
   "outputs": [
    {
     "name": "stdout",
     "output_type": "stream",
     "text": [
      "the clear fact entertaining there life back br is and show of performance stars br actors film him many should movie reasons to and reading and are in of scenes and and of and out compared not boss yes to and show its disappointed fact raw to it justice by br of where clear fact many your way and with city nice are is along wrong not as it way she but this anything up haven't been by who of choices br of you to as this i'd it and who of shot you'll to love for and of you it is sequels of little quest are seen watched front chemistry to simply alive of chris being it is say easy and cry in chemistry but and all it maybe this is wing film job live of and relief and level names and and to be and serial and watch is men go this of wing american from and moving is and put this of jerry for places so work and watch and lot br that from sometimes and make department introduced to and from action at turns in low that in gay i'm of chemistry and i i simply alive it is time done inspector to watching look world named for more tells up many fans are that movie music her get and but seems in people film that if explain in why for and find of where br if and movie throughout if and of you best look red and to recently in successfully much unfortunately going dan and stuck is him sequences but of you of enough for its br that beautiful put reasons of chris chemistry wing and for of you red time and to as and and of chris less br of and torture in low alive in gay some br of wing if time actual in also side any if name takes for of friendship it of 10 for had and great to as you students for movie of going and for bad well best had at woman br musical when it caused of and to as gem in and for and look end gene in at world aliens of you it meet but is quite br western ideas of chris little of films he an time done this were right too to of enough for of ending become family beautiful are make right being it time much bit especially and for of you parts bond who of here parts at due given movie of once give find actor to recently in at world and loved and it is video him fact you to by br of where br of grown fight culture leads\n"
     ]
    }
   ],
   "source": [
    "# 문서를 변환해서 출력해 본다.\n",
    "i_review = 10                                        # 문서의 번호. 임의로 변경 가능하다.\n",
    "review = list(pd.Series(X_train[i_review]).apply(lambda x: my_dict_inv[x]))\n",
    "print(' '.join(review))"
   ]
  },
  {
   "cell_type": "markdown",
   "metadata": {},
   "source": [
    "#### 3. 데이터 전처리:"
   ]
  },
  {
   "cell_type": "code",
   "execution_count": 11,
   "metadata": {},
   "outputs": [],
   "source": [
    "# Padding: 문서의 길이는 일정하게 maxlen로 맞추어 진다.\n",
    "# maxlen 보다 더 길면 자르고, 더 짧으면 0으로 채워 넣는다. \n",
    "X_train = pad_sequences(X_train, maxlen = 100, padding = 'pre')    # 'pre'  앞에 0을 넣는다. 'post' 뒤에 0을 넣는다.\n",
    "X_test = pad_sequences(X_test, maxlen = 100, padding = 'pre')"
   ]
  },
  {
   "cell_type": "code",
   "execution_count": 12,
   "metadata": {},
   "outputs": [
    {
     "data": {
      "text/plain": [
       "array([[1415,   33,    6,   22,   12,  215,   28,   77,   52,    5,   14,\n",
       "         407,   16,   82,    2,    8,    4,  107,  117,    2,   15,  256,\n",
       "           4,    2,    7,    2,    5,  723,   36,   71,   43,  530,  476,\n",
       "          26,  400,  317,   46,    7,    4,    2, 1029,   13,  104,   88,\n",
       "           4,  381,   15,  297,   98,   32, 2071,   56,   26,  141,    6,\n",
       "         194,    2,   18,    4,  226,   22,   21,  134,  476,   26,  480,\n",
       "           5,  144,   30,    2,   18,   51,   36,   28,  224,   92,   25,\n",
       "         104,    4,  226,   65,   16,   38, 1334,   88,   12,   16,  283,\n",
       "           5,   16,    2,  113,  103,   32,   15,   16,    2,   19,  178,\n",
       "          32],\n",
       "       [ 163,   11,    2,    2,    4, 1153,    9,  194,  775,    7,    2,\n",
       "           2,  349, 2637,  148,  605,    2,    2,   15,  123,  125,   68,\n",
       "           2,    2,   15,  349,  165,    2,   98,    5,    4,  228,    9,\n",
       "          43,    2, 1157,   15,  299,  120,    5,  120,  174,   11,  220,\n",
       "         175,  136,   50,    9,    2,  228,    2,    5,    2,  656,  245,\n",
       "        2350,    5,    4,    2,  131,  152,  491,   18,    2,   32,    2,\n",
       "        1212,   14,    9,    6,  371,   78,   22,  625,   64, 1382,    9,\n",
       "           8,  168,  145,   23,    4, 1690,   15,   16,    4, 1355,    5,\n",
       "          28,    6,   52,  154,  462,   33,   89,   78,  285,   16,  145,\n",
       "          95],\n",
       "       [1301,    4, 1873,   33,   89,   78,   12,   66,   16,    4,  360,\n",
       "           7,    4,   58,  316,  334,   11,    4, 1716,   43,  645,  662,\n",
       "           8,  257,   85, 1200,   42, 1228, 2578,   83,   68,    2,   15,\n",
       "          36,  165, 1539,  278,   36,   69,    2,  780,    8,  106,   14,\n",
       "           2, 1338,   18,    6,   22,   12,  215,   28,  610,   40,    6,\n",
       "          87,  326,   23, 2300,   21,   23,   22,   12,  272,   40,   57,\n",
       "          31,   11,    4,   22,   47,    6, 2307,   51,    9,  170,   23,\n",
       "         595,  116,  595, 1352,   13,  191,   79,  638,   89,    2,   14,\n",
       "           9,    8,  106,  607,  624,   35,  534,    6,  227,    7,  129,\n",
       "         113]])"
      ]
     },
     "execution_count": 12,
     "metadata": {},
     "output_type": "execute_result"
    }
   ],
   "source": [
    "# Padding된 결과를 본다.\n",
    "X_train[:3,:]"
   ]
  },
  {
   "cell_type": "code",
   "execution_count": 13,
   "metadata": {},
   "outputs": [],
   "source": [
    "# y는 이미 binary이기 때문에 one-hot-encoding 변환이 필요 없다."
   ]
  },
  {
   "cell_type": "markdown",
   "metadata": {},
   "source": [
    "#### 4. 딥러닝 모델 정의:"
   ]
  },
  {
   "cell_type": "code",
   "execution_count": 14,
   "metadata": {},
   "outputs": [],
   "source": [
    "n_hidden = 50                   # 개개 memory cell 안의 neuron 수.\n",
    "n_emb = 100                     # Embedding 공간의 차원수. "
   ]
  },
  {
   "cell_type": "code",
   "execution_count": 15,
   "metadata": {},
   "outputs": [],
   "source": [
    "# LSTM network model.\n",
    "my_model = Sequential(name = \"LSTM_network\")\n",
    "my_model.add(Embedding(n_words, n_emb, name=\"Embedding\"))           # n_words = vocabulary 크기, n_emb = embedding 공간의 차원수.\n",
    "my_model.add(LSTM(units=n_hidden, return_sequences=False, input_shape=(None, n_emb), activation='tanh', name=\"LSTM\"))\n",
    "my_model.add(Dense(1, activation='sigmoid', name=\"Dense\"))    # Binary output!!!"
   ]
  },
  {
   "cell_type": "code",
   "execution_count": 16,
   "metadata": {},
   "outputs": [
    {
     "name": "stdout",
     "output_type": "stream",
     "text": [
      "Model: \"LSTM_network\"\n",
      "_________________________________________________________________\n",
      " Layer (type)                Output Shape              Param #   \n",
      "=================================================================\n",
      " Embedding (Embedding)       (None, None, 100)         300000    \n",
      "                                                                 \n",
      " LSTM (LSTM)                 (None, 50)                30200     \n",
      "                                                                 \n",
      " Dense (Dense)               (None, 1)                 51        \n",
      "                                                                 \n",
      "=================================================================\n",
      "Total params: 330,251\n",
      "Trainable params: 330,251\n",
      "Non-trainable params: 0\n",
      "_________________________________________________________________\n"
     ]
    }
   ],
   "source": [
    "# 모델의 summary (내부 구조) 출력.\n",
    "# 모델의 summary (내부 구조) 출력.\n",
    "# Embedding의 파라미터 수 = n_words * n_emb  = 3000 * 100 = 300000.  \n",
    "# Embedding층의 역할은 차원 축소이다! \n",
    "# Embedding층에 개개 단어의 정수 인덱스를 입력하면 차원 축소된 밀집 벡터를 학습하게 된다! \n",
    "my_model.summary()"
   ]
  },
  {
   "cell_type": "markdown",
   "metadata": {},
   "source": [
    "#### 5. Hyperparameter 와 Optimizer 정의:"
   ]
  },
  {
   "cell_type": "code",
   "execution_count": 17,
   "metadata": {},
   "outputs": [],
   "source": [
    "n_epochs = 20                      # Number of epochs.\n",
    "batch_size = 64                    # Size of each batch.\n",
    "learn_rate = 0.0001                 # learning rate.  "
   ]
  },
  {
   "cell_type": "code",
   "execution_count": 18,
   "metadata": {},
   "outputs": [],
   "source": [
    "# Optimizer 객체 생성 후 컴파일한다.\n",
    "my_optimizer=Adam(lr=learn_rate)\n",
    "my_model.compile(loss = \"binary_crossentropy\", optimizer = my_optimizer, metrics=[\"accuracy\"])"
   ]
  },
  {
   "cell_type": "markdown",
   "metadata": {},
   "source": [
    "#### 6. 학습 & History 시각화:"
   ]
  },
  {
   "cell_type": "code",
   "execution_count": 19,
   "metadata": {},
   "outputs": [
    {
     "name": "stdout",
     "output_type": "stream",
     "text": [
      "Epoch 1/20\n",
      "313/313 [==============================] - 22s 62ms/step - loss: 0.6446 - accuracy: 0.6291 - val_loss: 0.5006 - val_accuracy: 0.7572\n",
      "Epoch 2/20\n",
      "313/313 [==============================] - 15s 47ms/step - loss: 0.4254 - accuracy: 0.8127 - val_loss: 0.3996 - val_accuracy: 0.8220\n",
      "Epoch 3/20\n",
      "313/313 [==============================] - 19s 61ms/step - loss: 0.3528 - accuracy: 0.8526 - val_loss: 0.3800 - val_accuracy: 0.8314\n",
      "Epoch 4/20\n",
      "313/313 [==============================] - 19s 61ms/step - loss: 0.3233 - accuracy: 0.8644 - val_loss: 0.3688 - val_accuracy: 0.8340\n",
      "Epoch 5/20\n",
      "313/313 [==============================] - 17s 54ms/step - loss: 0.3061 - accuracy: 0.8750 - val_loss: 0.3669 - val_accuracy: 0.8372\n",
      "Epoch 6/20\n",
      "313/313 [==============================] - 14s 44ms/step - loss: 0.2926 - accuracy: 0.8802 - val_loss: 0.3756 - val_accuracy: 0.8352\n",
      "Epoch 7/20\n",
      "313/313 [==============================] - 13s 42ms/step - loss: 0.2820 - accuracy: 0.8863 - val_loss: 0.3794 - val_accuracy: 0.8370\n",
      "Epoch 8/20\n",
      "313/313 [==============================] - 13s 43ms/step - loss: 0.2757 - accuracy: 0.8892 - val_loss: 0.3685 - val_accuracy: 0.8370\n",
      "Epoch 8: early stopping\n"
     ]
    }
   ],
   "source": [
    "my_EarlyStop = EarlyStopping(monitor='val_loss', mode='min', verbose=1, patience=3)          # 조기 종료 허락!\n",
    "my_summary = my_model.fit(X_train, y_train, epochs=n_epochs, batch_size = batch_size, validation_split=0.2, verbose=1, callbacks=[my_EarlyStop])"
   ]
  },
  {
   "cell_type": "code",
   "execution_count": 20,
   "metadata": {},
   "outputs": [
    {
     "data": {
      "image/png": "[encoded data removed]",
      "text/plain": [
       "<Figure size 432x288 with 1 Axes>"
      ]
     },
     "metadata": {
      "needs_background": "light"
     },
     "output_type": "display_data"
    }
   ],
   "source": [
    "# 학습 history 출력. \n",
    "plt.plot(my_summary.history['accuracy'], c=\"b\")\n",
    "plt.plot(my_summary.history['val_accuracy'], c=\"g\")\n",
    "plt.title('Training History')\n",
    "plt.ylabel('Accuracy')\n",
    "plt.xlabel('Epoch')\n",
    "plt.legend(['Train', 'Validation'], loc='lower right')\n",
    "plt.show()"
   ]
  },
  {
   "cell_type": "markdown",
   "metadata": {},
   "source": [
    "#### 7. 테스팅: "
   ]
  },
  {
   "cell_type": "code",
   "execution_count": 21,
   "metadata": {},
   "outputs": [
    {
     "name": "stdout",
     "output_type": "stream",
     "text": [
      "정답 : 1\n",
      "1/1 [==============================] - 0s 319ms/step\n",
      "예측 : 1\n",
      "is script quite br older to is script quite br played was couldn't of lot know no though seen non and for died in give and to watch needs and some and all role african to care film any no all and in one and film any of left open if has my for and street in and she was lead an and and and in and she from well at and worst from real at and movie much is time played on to is and need and and of flat stars it is isn't can need on already mean\n",
      "--------------------------------------------------\n",
      "정답 : 0\n",
      "1/1 [==============================] - 0s 15ms/step\n",
      "예측 : 0\n",
      "or by br were over and i i her make just didn't actors seem to of save br women like gorgeous and sex often during doing and and not from he of see huge and any her from fighting those in of work doing to by who by also and better who dad have away does when involved i i of see lot for due we with of time here that after one will half better it's between some still i i was two have real own that is classic to classic his in at in reminiscent i i and\n",
      "--------------------------------------------------\n",
      "정답 : 0\n",
      "1/1 [==============================] - 0s 14ms/step\n",
      "예측 : 0\n",
      "the overall yeah and treatment is disappointed and house br if is small acting close he'd effects is went br convinced like games and can when acting story one will just what all me way that thought yeah it they be where film is very their to television down horror just now recommended may made to and his so needs and not very marry involves played\n",
      "--------------------------------------------------\n",
      "정답 : 0\n",
      "1/1 [==============================] - 0s 14ms/step\n",
      "예측 : 0\n",
      "and and to and and what as than so face br of original comedy of purpose that story away at by br only asks bunch including obviously br of original i i sexy always point and and in impact believe weeks and nothing situation about movie much but get br of original to would off one in and of and and little what have long some of and purpose has of and to of and before this though something them as on it impressive blood away only particular asks br of attention characters not this even somehow do they an\n",
      "--------------------------------------------------\n",
      "정답 : 1\n",
      "1/1 [==============================] - 0s 15ms/step\n",
      "예측 : 1\n",
      "is my as with so she to things murder by scenes story normal we who of humor to second film and to of couple story could we and to air such they up been military since as after one will 4 impressed to will is still you i i hero on beginning real just as that these boss movie is still you been its br sing studio absolute reason that with is still you this if my not our out life that cute was well why was use that to that it main doesn't but only job starts something including\n",
      "--------------------------------------------------\n",
      "정답 : 1\n",
      "1/1 [==============================] - 0s 15ms/step\n",
      "예측 : 1\n",
      "and being care this of famous wish until once and being story one effective are of visual to about both unexpected and and order story one will truth in case and things film is very highly found is found like story at of required v br be and war to from give person and your watch not this as told shakespeare showed would it and to true up as death changes br is order it true cast and film be faithful br is war to be acting into true cast lost is alone number i i scene and of social\n",
      "--------------------------------------------------\n",
      "정답 : 1\n",
      "1/1 [==============================] - 0s 16ms/step\n",
      "예측 : 1\n",
      "to my cast in also of 8 dark not out nothing another only works family point leave in we for all tries of year watch bad can so speak on not his are as by only chance affair robot star too i'm other of production between of being near song laughs was fantastic says for or any he's wife of and figured really eyes only chance and i i includes we watching his of roles like different but of latter this dvd not son it son to just her plot speak characters from double some more that there time over\n",
      "--------------------------------------------------\n",
      "정답 : 0\n",
      "1/1 [==============================] - 0s 15ms/step\n",
      "예측 : 0\n",
      "of adult by and in eventually not film and for then and regarding it and film be things in cheap and in dubbed appreciate actor to and flying thats and to kid br enough finest and dancing time and this artists br be seemed and i i of and and and quickly it returns not that it is effect br routine attacked whether and let's and and lonely this of main br us being to having it and first and and and but heads it is chose most all and be arts and deal and to and in be drinking\n",
      "--------------------------------------------------\n",
      "정답 : 0\n",
      "1/1 [==============================] - 0s 16ms/step\n",
      "예측 : 0\n",
      "tries in normal she are work gets bad can movie this dozen say and michelle and other role fi to and this and trip and making george in at is and to received and but made in and are i i depiction different but this and for soundtrack x to and deserves this be whole all other red and to and this be together this of every heads all other tries in could woman be under end his form i'm of remake and was moments tv or as on film is money and to up ruined and but and attitude\n",
      "--------------------------------------------------\n",
      "정답 : 0\n",
      "1/1 [==============================] - 0s 14ms/step\n",
      "예측 : 0\n",
      "the best can as on i i that game in at is raised are and king many br of and to and not an that and they it minutes have saying had weird for have than doesn't by br any to his that i i that it time imagine is raised there in one good utterly really there good sequel matters son in that as on end his one think should utterly i i looked cinematography if movies etc but we not out then character that\n",
      "--------------------------------------------------\n"
     ]
    }
   ],
   "source": [
    "# 랜덤으로 테스트 문장을 추출해서 예측해 본다.\n",
    "for i_test in [ random.randint(0,n_test_size-1) for _ in range(10)]:\n",
    "    print(\"정답 :\" , y_test[i_test])\n",
    "    print(\"예측 :\" , (my_model.predict(X_test[i_test].reshape(1,-1))[0][0] > 0.5)*1)       # 2 차원 배열로 reshaping 해준다!!!\n",
    "    y_pred_text = \" \".join([my_dict_inv[x] for x  in X_train[i_test] if x != 0 ])     # padding 을 의미하는 0을 제외하고 문자열로 변환.  \n",
    "    print(y_pred_text)\n",
    "    print(\"-\"*50)"
   ]
  },
  {
   "cell_type": "code",
   "execution_count": 22,
   "metadata": {},
   "outputs": [
    {
     "name": "stdout",
     "output_type": "stream",
     "text": [
      "Test Accuracy : 0.837\n"
     ]
    }
   ],
   "source": [
    "# 최종적으로 정확도 계산.\n",
    "ACC = my_model.evaluate(X_test, y_test, verbose=0)[1]    \n",
    "print(\"Test Accuracy : {}\".format(np.round(ACC,3)))"
   ]
  },
  {
   "cell_type": "code",
   "execution_count": null,
   "metadata": {},
   "outputs": [],
   "source": []
  }
 ],
 "metadata": {
  "kernelspec": {
   "display_name": "Python 3 (ipykernel)",
   "language": "python",
   "name": "python3"
  },
  "language_info": {
   "codemirror_mode": {
    "name": "ipython",
    "version": 3
   },
   "file_extension": ".py",
   "mimetype": "text/x-python",
   "name": "python",
   "nbconvert_exporter": "python",
   "pygments_lexer": "ipython3",
   "version": "3.7.13"
  }
 },
 "nbformat": 4,
 "nbformat_minor": 2
}
