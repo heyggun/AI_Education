{
 "cells": [
  {
   "cell_type": "markdown",
   "metadata": {},
   "source": [
    "### Convolutional Neural Network  (흑백 이미지)."
   ]
  },
  {
   "cell_type": "code",
   "execution_count": 1,
   "metadata": {},
   "outputs": [],
   "source": [
    "import numpy as np\n",
    "import matplotlib.pyplot as plt\n",
    "import warnings     \n",
    "import random\n",
    "from sklearn.model_selection import train_test_split\n",
    "from tensorflow.keras.datasets.mnist import load_data\n",
    "from tensorflow.keras.models import Sequential\n",
    "from tensorflow.keras.layers import Dense, Conv2D, Dropout, Flatten, MaxPooling2D\n",
    "from tensorflow.keras.utils import to_categorical\n",
    "from tensorflow.keras.optimizers import Adam, RMSprop, SGD\n",
    "from tensorflow.keras.callbacks import EarlyStopping\n",
    "warnings.filterwarnings('ignore')                  # Turn the warnings off.\n",
    "%matplotlib inline"
   ]
  },
  {
   "cell_type": "markdown",
   "metadata": {},
   "source": [
    "#### 1. 데이터 불러오기:"
   ]
  },
  {
   "cell_type": "code",
   "execution_count": 2,
   "metadata": {},
   "outputs": [],
   "source": [
    "# 데이터 가져오기.\n",
    "(X_train, y_train), (X_test, y_test) = load_data()\n",
    "n_train_size = X_train.shape[0]\n",
    "n_test_size = X_test.shape[0]"
   ]
  },
  {
   "cell_type": "code",
   "execution_count": 3,
   "metadata": {},
   "outputs": [
    {
     "name": "stdout",
     "output_type": "stream",
     "text": [
      "--------------------------------------------------\n",
      "Training data X shape: (60000, 28, 28)\n",
      "Training data y shape: (60000,)\n",
      "--------------------------------------------------\n",
      "Test data X shape: (10000, 28, 28)\n",
      "Test data y shape: (10000,)\n",
      "--------------------------------------------------\n"
     ]
    }
   ],
   "source": [
    "# Shape 확인.\n",
    "print(\"-\"*50)\n",
    "print(\"Training data X shape: {}\".format(X_train.shape))\n",
    "print(\"Training data y shape: {}\".format(y_train.shape))\n",
    "print(\"-\"*50)\n",
    "print(\"Test data X shape: {}\".format(X_test.shape))\n",
    "print(\"Test data y shape: {}\".format(y_test.shape))\n",
    "print(\"-\"*50)"
   ]
  },
  {
   "cell_type": "markdown",
   "metadata": {},
   "source": [
    "#### 2. 데이터 시각화:"
   ]
  },
  {
   "cell_type": "code",
   "execution_count": 4,
   "metadata": {},
   "outputs": [
    {
     "name": "stdout",
     "output_type": "stream",
     "text": [
      "Y 레이블 : 2\n"
     ]
    },
    {
     "data": {
      "image/png": "[encoded data removed]",
      "text/plain": [
       "<Figure size 72x72 with 1 Axes>"
      ]
     },
     "metadata": {
      "needs_background": "light"
     },
     "output_type": "display_data"
    },
    {
     "name": "stdout",
     "output_type": "stream",
     "text": [
      "Y 레이블 : 0\n"
     ]
    },
    {
     "data": {
      "image/png": "[encoded data removed]",
      "text/plain": [
       "<Figure size 72x72 with 1 Axes>"
      ]
     },
     "metadata": {
      "needs_background": "light"
     },
     "output_type": "display_data"
    },
    {
     "name": "stdout",
     "output_type": "stream",
     "text": [
      "Y 레이블 : 6\n"
     ]
    },
    {
     "data": {
      "image/png": "[encoded data removed]",
      "text/plain": [
       "<Figure size 72x72 with 1 Axes>"
      ]
     },
     "metadata": {
      "needs_background": "light"
     },
     "output_type": "display_data"
    },
    {
     "name": "stdout",
     "output_type": "stream",
     "text": [
      "Y 레이블 : 5\n"
     ]
    },
    {
     "data": {
      "image/png": "[encoded data removed]",
      "text/plain": [
       "<Figure size 72x72 with 1 Axes>"
      ]
     },
     "metadata": {
      "needs_background": "light"
     },
     "output_type": "display_data"
    },
    {
     "name": "stdout",
     "output_type": "stream",
     "text": [
      "Y 레이블 : 2\n"
     ]
    },
    {
     "data": {
      "image/png": "[encoded data removed]",
      "text/plain": [
       "<Figure size 72x72 with 1 Axes>"
      ]
     },
     "metadata": {
      "needs_background": "light"
     },
     "output_type": "display_data"
    }
   ],
   "source": [
    "# 이미지 데이터 시각화 (5개).\n",
    "for i_image in [ random.randint(0,n_train_size-1) for _ in range(5)]:\n",
    "    print(\"Y 레이블 :\", y_train[i_image])\n",
    "    plt.figure(figsize=(1,1))\n",
    "    plt.imshow(X_train[i_image,:,:],cmap=\"Greys\")\n",
    "    plt.axis(\"off\")\n",
    "    plt.show()"
   ]
  },
  {
   "cell_type": "markdown",
   "metadata": {},
   "source": [
    "#### 3. 데이터 준비:"
   ]
  },
  {
   "cell_type": "code",
   "execution_count": 5,
   "metadata": {},
   "outputs": [],
   "source": [
    "# Scaling.\n",
    "X_train = X_train/255                   \n",
    "X_test = X_test/255                        "
   ]
  },
  {
   "cell_type": "code",
   "execution_count": 6,
   "metadata": {},
   "outputs": [],
   "source": [
    "# 4 차원 배열로 reshaping 해준다.\n",
    "X_train = X_train.reshape(-1,28,28,1)\n",
    "X_test = X_test.reshape(-1,28,28,1)"
   ]
  },
  {
   "cell_type": "code",
   "execution_count": 7,
   "metadata": {},
   "outputs": [],
   "source": [
    "# One-hot-encoding.\n",
    "y = np.concatenate([y_train,y_test],axis=0)\n",
    "y = to_categorical(y,10)\n",
    "y_train = y[:n_train_size,:]\n",
    "y_test = y[n_train_size:,:]"
   ]
  },
  {
   "cell_type": "markdown",
   "metadata": {},
   "source": [
    "#### 4. CNN 모델 정의:"
   ]
  },
  {
   "cell_type": "code",
   "execution_count": 8,
   "metadata": {},
   "outputs": [],
   "source": [
    "drop_prob = 0.5\n",
    "my_model = Sequential()\n",
    "# 1st convolution + pooling.\n",
    "my_model.add(Conv2D(input_shape=(28,28,1),filters=32,kernel_size=(5,5),padding='same',activation=\"relu\", name=\"Conv-1\"))        # 1 channel of grayscale.\n",
    "my_model.add(MaxPooling2D(pool_size=2, name=\"Pooling-1\"))\n",
    "# 2nd convolution + pooling.\n",
    "my_model.add(Conv2D(filters=64,kernel_size=(5,5), padding='same',activation=\"relu\",name=\"Conv-2\"))\n",
    "my_model.add(MaxPooling2D(pool_size=2, name=\"Pooling-2\"))\n",
    "# Flattened fully connected layer.\n",
    "my_model.add(Flatten(name=\"Flatten\"))\n",
    "my_model.add(Dense(units = 1024, activation=\"relu\", name=\"Dense-1\"))\n",
    "# Apply dropout.\n",
    "my_model.add(Dropout(rate=drop_prob, name=\"Dropout\"))\n",
    "# Output layer.\n",
    "my_model.add(Dense(units = 10, activation=\"softmax\", name=\"Dense-2\"))"
   ]
  },
  {
   "cell_type": "code",
   "execution_count": 9,
   "metadata": {},
   "outputs": [
    {
     "name": "stdout",
     "output_type": "stream",
     "text": [
      "Model: \"sequential\"\n",
      "_________________________________________________________________\n",
      "Layer (type)                 Output Shape              Param #   \n",
      "=================================================================\n",
      "Conv-1 (Conv2D)              (None, 28, 28, 32)        832       \n",
      "_________________________________________________________________\n",
      "Pooling-1 (MaxPooling2D)     (None, 14, 14, 32)        0         \n",
      "_________________________________________________________________\n",
      "Conv-2 (Conv2D)              (None, 14, 14, 64)        51264     \n",
      "_________________________________________________________________\n",
      "Pooling-2 (MaxPooling2D)     (None, 7, 7, 64)          0         \n",
      "_________________________________________________________________\n",
      "Flatten (Flatten)            (None, 3136)              0         \n",
      "_________________________________________________________________\n",
      "Dense-1 (Dense)              (None, 1024)              3212288   \n",
      "_________________________________________________________________\n",
      "Dropout (Dropout)            (None, 1024)              0         \n",
      "_________________________________________________________________\n",
      "Dense-2 (Dense)              (None, 10)                10250     \n",
      "=================================================================\n",
      "Total params: 3,274,634\n",
      "Trainable params: 3,274,634\n",
      "Non-trainable params: 0\n",
      "_________________________________________________________________\n"
     ]
    }
   ],
   "source": [
    "# 모델의 summary (내부 구조) 출력.\n",
    "# Conv-1의 파라미터 수 = n_filters1 * n_kernel_elements1 + n_filters1 = 32 * (5*5) + 32 = 832.\n",
    "# Conv-2의 파라미터 수 = n_filters1 * n_filters2 * n_kernel_elements2 + n_filters2 = 32 * 64 * (5*5) + 64 = 51264.\n",
    "# Dense-1의 파라미터 수 = 이전층의 출력 * n_nodes + n_nodes = 3136 * 1024 + 1024 = 3212288.\n",
    "# Dense-2의 파라미터 수 = 이전층의 출력 * n_output + n_output = 1024 * 10 + 10 = 10250.\n",
    "my_model.summary()"
   ]
  },
  {
   "cell_type": "markdown",
   "metadata": {},
   "source": [
    "#### 5. Hyperparameter 와 Optimizer 정의:"
   ]
  },
  {
   "cell_type": "code",
   "execution_count": 10,
   "metadata": {},
   "outputs": [],
   "source": [
    "# Hyperparameters.\n",
    "n_epochs = 20\n",
    "batch_size = 128\n",
    "learn_rate = 0.001"
   ]
  },
  {
   "cell_type": "code",
   "execution_count": 11,
   "metadata": {},
   "outputs": [],
   "source": [
    "# Optimizer 객체 생성 후 컴파일한다.\n",
    "my_optimizer=Adam(lr=learn_rate)\n",
    "my_model.compile(loss = \"categorical_crossentropy\", optimizer = my_optimizer, metrics=[\"accuracy\"])"
   ]
  },
  {
   "cell_type": "markdown",
   "metadata": {},
   "source": [
    "#### 6. 학습 & History 시각화:"
   ]
  },
  {
   "cell_type": "code",
   "execution_count": 12,
   "metadata": {},
   "outputs": [
    {
     "name": "stdout",
     "output_type": "stream",
     "text": [
      "Epoch 1/20\n",
      "375/375 [==============================] - 3s 8ms/step - loss: 0.1766 - accuracy: 0.9447 - val_loss: 0.0523 - val_accuracy: 0.9834\n",
      "Epoch 2/20\n",
      "375/375 [==============================] - 3s 7ms/step - loss: 0.0504 - accuracy: 0.9837 - val_loss: 0.0422 - val_accuracy: 0.9874\n",
      "Epoch 3/20\n",
      "375/375 [==============================] - 3s 8ms/step - loss: 0.0351 - accuracy: 0.9893 - val_loss: 0.0411 - val_accuracy: 0.9885\n",
      "Epoch 4/20\n",
      "375/375 [==============================] - 3s 8ms/step - loss: 0.0256 - accuracy: 0.9918 - val_loss: 0.0347 - val_accuracy: 0.9908\n",
      "Epoch 5/20\n",
      "375/375 [==============================] - 3s 8ms/step - loss: 0.0203 - accuracy: 0.9930 - val_loss: 0.0291 - val_accuracy: 0.9913\n",
      "Epoch 6/20\n",
      "375/375 [==============================] - 3s 8ms/step - loss: 0.0165 - accuracy: 0.9946 - val_loss: 0.0294 - val_accuracy: 0.9919\n",
      "Epoch 7/20\n",
      "375/375 [==============================] - 3s 8ms/step - loss: 0.0131 - accuracy: 0.9956 - val_loss: 0.0328 - val_accuracy: 0.9903\n",
      "Epoch 8/20\n",
      "375/375 [==============================] - 3s 8ms/step - loss: 0.0121 - accuracy: 0.9960 - val_loss: 0.0328 - val_accuracy: 0.9912\n",
      "Epoch 9/20\n",
      "375/375 [==============================] - 3s 8ms/step - loss: 0.0096 - accuracy: 0.9967 - val_loss: 0.0383 - val_accuracy: 0.9910\n",
      "Epoch 10/20\n",
      "375/375 [==============================] - 3s 7ms/step - loss: 0.0085 - accuracy: 0.9972 - val_loss: 0.0311 - val_accuracy: 0.9926\n",
      "Epoch 00010: early stopping\n"
     ]
    }
   ],
   "source": [
    "# 학습.\n",
    "# verbose = 0 : 출력 없음. verbose = 1 : 출력 함.\n",
    "my_EarlyStop = EarlyStopping(monitor='val_loss', mode='min', verbose=1, patience=5)          # 조기 종료 허락!\n",
    "my_summary = my_model.fit(X_train, y_train, epochs=n_epochs, batch_size = batch_size, validation_split = 0.2, verbose = 1,callbacks=[my_EarlyStop])"
   ]
  },
  {
   "cell_type": "code",
   "execution_count": 13,
   "metadata": {},
   "outputs": [
    {
     "data": {
      "image/png": "[encoded data removed]",
      "text/plain": [
       "<Figure size 432x288 with 1 Axes>"
      ]
     },
     "metadata": {
      "needs_background": "light"
     },
     "output_type": "display_data"
    }
   ],
   "source": [
    "# 학습 history 출력. \n",
    "n_skip = 0                 # Skip the first few steps.\n",
    "plt.plot(my_summary.history['accuracy'][n_skip:], c=\"b\")\n",
    "plt.plot(my_summary.history['val_accuracy'][n_skip:], c=\"g\")\n",
    "plt.title('Training History')\n",
    "plt.ylabel('Accuracy')\n",
    "plt.xlabel('Epoch')\n",
    "plt.legend(['Train', 'Validation'], loc='lower right')\n",
    "plt.show()"
   ]
  },
  {
   "cell_type": "markdown",
   "metadata": {},
   "source": [
    "#### 7. 테스팅:"
   ]
  },
  {
   "cell_type": "code",
   "execution_count": 14,
   "metadata": {},
   "outputs": [
    {
     "name": "stdout",
     "output_type": "stream",
     "text": [
      "정답 : 3\n",
      "예측 : 3\n"
     ]
    },
    {
     "data": {
      "image/png": "[encoded data removed]",
      "text/plain": [
       "<Figure size 72x72 with 1 Axes>"
      ]
     },
     "metadata": {
      "needs_background": "light"
     },
     "output_type": "display_data"
    },
    {
     "name": "stdout",
     "output_type": "stream",
     "text": [
      "정답 : 6\n",
      "예측 : 6\n"
     ]
    },
    {
     "data": {
      "image/png": "[encoded data removed]",
      "text/plain": [
       "<Figure size 72x72 with 1 Axes>"
      ]
     },
     "metadata": {
      "needs_background": "light"
     },
     "output_type": "display_data"
    },
    {
     "name": "stdout",
     "output_type": "stream",
     "text": [
      "정답 : 0\n",
      "예측 : 0\n"
     ]
    },
    {
     "data": {
      "image/png": "[encoded data removed]",
      "text/plain": [
       "<Figure size 72x72 with 1 Axes>"
      ]
     },
     "metadata": {
      "needs_background": "light"
     },
     "output_type": "display_data"
    },
    {
     "name": "stdout",
     "output_type": "stream",
     "text": [
      "정답 : 1\n",
      "예측 : 1\n"
     ]
    },
    {
     "data": {
      "image/png": "[encoded data removed]",
      "text/plain": [
       "<Figure size 72x72 with 1 Axes>"
      ]
     },
     "metadata": {
      "needs_background": "light"
     },
     "output_type": "display_data"
    },
    {
     "name": "stdout",
     "output_type": "stream",
     "text": [
      "정답 : 8\n",
      "예측 : 8\n"
     ]
    },
    {
     "data": {
      "image/png": "[encoded data removed]",
      "text/plain": [
       "<Figure size 72x72 with 1 Axes>"
      ]
     },
     "metadata": {
      "needs_background": "light"
     },
     "output_type": "display_data"
    }
   ],
   "source": [
    "# 랜덤으로 테스트 이미지를 추출해서 예측해 본다.\n",
    "for i_image in [ random.randint(0,n_test_size-1) for _ in range(5)]:\n",
    "    print(\"정답 :\" , np.argmax(y_test[i_image]))\n",
    "    print(\"예측 :\" , np.argmax(my_model.predict(X_test[i_image].reshape(1,28,28,1))))     # 4 차원 배열로 reshaping 해준다!!!\n",
    "    plt.figure(figsize=(1,1))\n",
    "    plt.imshow(X_test[i_image,:,:,0],cmap=\"Greys\")\n",
    "    plt.axis(\"off\")\n",
    "    plt.show()"
   ]
  },
  {
   "cell_type": "code",
   "execution_count": 15,
   "metadata": {},
   "outputs": [
    {
     "name": "stdout",
     "output_type": "stream",
     "text": [
      "Test Accuracy : 0.992\n"
     ]
    }
   ],
   "source": [
    "# 최종적으로 정확도 계산.\n",
    "ACC = my_model.evaluate(X_test, y_test, verbose=0)[1]    \n",
    "print(\"Test Accuracy : {}\".format(np.round(ACC,3)))"
   ]
  },
  {
   "cell_type": "code",
   "execution_count": null,
   "metadata": {},
   "outputs": [],
   "source": []
  }
 ],
 "metadata": {
  "kernelspec": {
   "display_name": "Python 3 (ipykernel)",
   "language": "python",
   "name": "python3"
  },
  "language_info": {
   "codemirror_mode": {
    "name": "ipython",
    "version": 3
   },
   "file_extension": ".py",
   "mimetype": "text/x-python",
   "name": "python",
   "nbconvert_exporter": "python",
   "pygments_lexer": "ipython3",
   "version": "3.8.5"
  }
 },
 "nbformat": 4,
 "nbformat_minor": 2
}
