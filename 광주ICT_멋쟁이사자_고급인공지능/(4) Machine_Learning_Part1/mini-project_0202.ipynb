{
 "cells": [
  {
   "cell_type": "markdown",
   "metadata": {},
   "source": [
    "### 데이터 증강."
   ]
  },
  {
   "cell_type": "markdown",
   "metadata": {},
   "source": [
    "#### 다음 물음에 Python코드를 제시하여 답하세요.\n",
    "#### 목표:\n",
    "- 헬퍼 함수 정의.\n",
    "- 적절한 예측 모델 선택하여 적용.\n",
    "- 주어진 학습 데이터의 분량이 적을 때, 데이터 증강 적용하기."
   ]
  },
  {
   "cell_type": "code",
   "execution_count": null,
   "metadata": {},
   "outputs": [],
   "source": [
    "import numpy as np\n",
    "import pandas as pd\n",
    "import warnings\n",
    "import matplotlib.pyplot as plt\n",
    "from sklearn.model_selection import GridSearchCV\n",
    "from sklearn.neighbors import KNeighborsClassifier\n",
    "from sklearn.tree import DecisionTreeClassifier\n",
    "from sklearn.ensemble import RandomForestClassifier,AdaBoostClassifier, GradientBoostingClassifier\n",
    "from xgboost import XGBClassifier\n",
    "from sklearn import metrics, preprocessing\n",
    "from scipy.ndimage.interpolation import rotate\n",
    "warnings.filterwarnings(action='ignore')                  # Turn off the warnings.\n",
    "%matplotlib inline"
   ]
  },
  {
   "cell_type": "markdown",
   "metadata": {},
   "source": [
    "1). 데이터 읽어오기."
   ]
  },
  {
   "cell_type": "markdown",
   "metadata": {},
   "source": [
    "데이터의 출처와 설명은 [여기](http://yann.lecun.com/exdb/mnist/).\n",
    "\n",
    "- 원 데이터의 일부만 사용하도록 한다.\n",
    "- 개개 관측치는 이미지를 \"flatten\" 하여 얻은 것.\n",
    "- 첫 번째 컬럼은 반응변수 (Y).\n",
    "- 이미지의 크기는 28x28."
   ]
  },
  {
   "cell_type": "code",
   "execution_count": null,
   "metadata": {},
   "outputs": [],
   "source": [
    "# Training과 Testing 데이터를 개별적으로 읽어온다.\n",
    "data_train = pd.read_csv(r'..\\data\\data_mnist_train_100.csv', header=None,encoding='latin1')\n",
    "data_test = pd.read_csv(r'..\\data\\data_mnist_test_100.csv', header=None,encoding='latin1')\n",
    "\n",
    "# 데이터를 스케일링하고 X와 Y로 구별해 둔다.\n",
    "X_train = np.array((data_train.iloc[:,1:]/255.0)*0.99+0.01)\n",
    "X_test = np.array((data_test.iloc[:,1:]/255.0)*0.99+0.01)\n",
    "Y_train = np.array(data_train.iloc[:,0])\n",
    "Y_test = np.array(data_test.iloc[:,0])"
   ]
  },
  {
   "cell_type": "markdown",
   "metadata": {},
   "source": [
    "2). 시각화 해주는 헬퍼 함수 'show_data()'를 정의한다. HINT: matplotlib.pyplot.imshow()와 scipy.ndimage.interpolation() 사용."
   ]
  },
  {
   "cell_type": "code",
   "execution_count": null,
   "metadata": {},
   "outputs": [],
   "source": [
    "def show_data(X, Y, n, angle=0):\n",
    "       # <Your code goes in here>"
   ]
  },
  {
   "cell_type": "code",
   "execution_count": null,
   "metadata": {},
   "outputs": [],
   "source": [
    "# Example 1.\n",
    "show_data(X_train, Y_train,10,+10)"
   ]
  },
  {
   "cell_type": "code",
   "execution_count": null,
   "metadata": {},
   "outputs": [],
   "source": [
    "# Example 2.\n",
    "show_data(X_train, Y_train,10,-30)"
   ]
  },
  {
   "cell_type": "code",
   "execution_count": null,
   "metadata": {},
   "outputs": [],
   "source": [
    "# Example 3.\n",
    "show_data(X_train, Y_train,77,0)"
   ]
  },
  {
   "cell_type": "markdown",
   "metadata": {},
   "source": [
    "3). 분류 예측을 실시한다.\n",
    "\n",
    "- 하이퍼 파라미터 최적화.\n",
    "- 정확도 계산.\n",
    "- 정확도가 충분히 높은가?"
   ]
  },
  {
   "cell_type": "code",
   "execution_count": null,
   "metadata": {},
   "outputs": [],
   "source": [
    "       # <Your code goes in here>"
   ]
  },
  {
   "cell_type": "markdown",
   "metadata": {},
   "source": [
    "4). 이미지를 특정 각도로 회전 변환해 주는 헬퍼 함수 'rotate_data()'를 정의한다. HINT: scipy.ndimage.interpolation() 사용."
   ]
  },
  {
   "cell_type": "code",
   "execution_count": null,
   "metadata": {},
   "outputs": [],
   "source": [
    "       # <Your code goes in here>"
   ]
  },
  {
   "cell_type": "markdown",
   "metadata": {},
   "source": [
    "5). 학습 데이터를 증강한다.\n",
    "- 시계방향 또는 반시계방향으로 회전 변환해 주는 방식으로 데이터를 증강한다.\n",
    "- 이전 스텝에서 정의한 'rotate_data()' 함수를 사용한다.\n",
    "- Testing 데이터는 증강해 줄 필요 없다.\n",
    "- 대략 5배수 증강을 목표로 한다."
   ]
  },
  {
   "cell_type": "code",
   "execution_count": null,
   "metadata": {},
   "outputs": [],
   "source": [
    "       # <Your code goes in here>"
   ]
  },
  {
   "cell_type": "markdown",
   "metadata": {},
   "source": [
    "6). 증강된 데이터를 사용해서 다시 한번 분류 예측을 실시한다.\n",
    "\n",
    "- 위 3)번 스텝과 동일한 알고리즘을 사용한다.\n",
    "- 정확도를 계산해 본다.\n",
    "- 정확도가 향상 되었는가?"
   ]
  },
  {
   "cell_type": "code",
   "execution_count": null,
   "metadata": {},
   "outputs": [],
   "source": [
    "       # <Your code goes in here>"
   ]
  }
 ],
 "metadata": {
  "kernelspec": {
   "display_name": "Python 3",
   "language": "python",
   "name": "python3"
  },
  "language_info": {
   "codemirror_mode": {
    "name": "ipython",
    "version": 3
   },
   "file_extension": ".py",
   "mimetype": "text/x-python",
   "name": "python",
   "nbconvert_exporter": "python",
   "pygments_lexer": "ipython3",
   "version": "3.8.5"
  }
 },
 "nbformat": 4,
 "nbformat_minor": 2
}
