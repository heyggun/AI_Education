{
 "cells": [
  {
   "cell_type": "markdown",
   "metadata": {},
   "source": [
    "### 숫자 맞추기 게임!!!"
   ]
  },
  {
   "cell_type": "markdown",
   "metadata": {},
   "source": [
    "#### 랜덤 넘버를 생성하기 위한 모듈 불러오기."
   ]
  },
  {
   "cell_type": "code",
   "execution_count": 1,
   "metadata": {},
   "outputs": [],
   "source": [
    "import random"
   ]
  },
  {
   "cell_type": "markdown",
   "metadata": {},
   "source": [
    "#### 1에서 99 까지의 정수 랜덤 넘버 1개를 생성해 본다."
   ]
  },
  {
   "cell_type": "code",
   "execution_count": 2,
   "metadata": {},
   "outputs": [
    {
     "data": {
      "text/plain": [
       "87"
      ]
     },
     "execution_count": 2,
     "metadata": {},
     "output_type": "execute_result"
    }
   ],
   "source": [
    "random.randrange(1,100)"
   ]
  },
  {
   "cell_type": "markdown",
   "metadata": {},
   "source": [
    "#### 1에서 99 까지의 정수 랜덤 넘버 10개를 생성해 본다."
   ]
  },
  {
   "cell_type": "code",
   "execution_count": 3,
   "metadata": {},
   "outputs": [
    {
     "name": "stdout",
     "output_type": "stream",
     "text": [
      "17\n",
      "12\n",
      "4\n",
      "65\n",
      "55\n",
      "72\n",
      "61\n",
      "64\n",
      "35\n",
      "53\n"
     ]
    }
   ],
   "source": [
    "for i in range(0,10):\n",
    "    x = random.randrange(1,100)\n",
    "    print(x)"
   ]
  },
  {
   "cell_type": "markdown",
   "metadata": {},
   "source": [
    "#### 이제는 다음과 같은 규칙의 게임을 만들어 본다:\n",
    "1). 1에서 99까지의 정수 랜덤 넘버 1개를 생성해서 변수 x에 저장한다. <br>\n",
    "2). \"숫자를 알아 맞추어 보세요\"라는 메세지를 출력하면서 사용자의 입력을 받습니다. (정수 변환 필수!)  <br>\n",
    "3).  만약에 입력 숫자가 x 보다 작으면,  \"너무 작아요\" 라는 메세지 출력.  <br>\n",
    "4).  만약에 입력 숫자가 x 보다 크면,  \"너무 커요\" 라는 메세지 출력.  <br>\n",
    "5).  만약에 입력 숫자가 x 와 같으면,  \"맞았어요!   00회 만에 맞추었어요!\" 라는 메세지 출력. <br>\n",
    "6).  정답을 맞추지 못헸으면 2번으로 돌아가서 반복해서 실행한다. 단, while을 사용하라.  <br>"
   ]
  },
  {
   "cell_type": "code",
   "execution_count": 4,
   "metadata": {},
   "outputs": [
    {
     "name": "stdout",
     "output_type": "stream",
     "text": [
      "숫자를 알아 맞추어 보세요: 6\n",
      "너무 작아요.\n",
      "숫자를 알아 맞추어 보세요: 50\n",
      "너무 작아요.\n",
      "숫자를 알아 맞추어 보세요: 909\n",
      "너무 커요.\n",
      "숫자를 알아 맞추어 보세요: 90\n",
      "너무 커요.\n",
      "숫자를 알아 맞추어 보세요: 60\n",
      "너무 작아요.\n",
      "숫자를 알아 맞추어 보세요: 70\n",
      "너무 커요.\n",
      "숫자를 알아 맞추어 보세요: 65\n",
      "너무 커요.\n",
      "숫자를 알아 맞추어 보세요: 61\n",
      "너무 작아요.\n",
      "숫자를 알아 맞추어 보세요: 63\n",
      "너무 작아요.\n",
      "숫자를 알아 맞추어 보세요: 64\n",
      "맞았어요! 10 회 만에 맞추었어요!\n"
     ]
    }
   ],
   "source": [
    "x = random.randrange(1,100)\n",
    "counter = 1\n",
    "y = 0\n",
    "while (y != x):\n",
    "    y = input(\"숫자를 알아 맞추어 보세요: \")\n",
    "    y = int(y)\n",
    "    if (y < x):\n",
    "        print(\"너무 작아요.\")\n",
    "    elif (y > x):\n",
    "        print(\"너무 커요.\")\n",
    "    else:\n",
    "        print(\"맞았어요! %2d 회 만에 맞추었어요!\" % counter)\n",
    "    counter += 1"
   ]
  },
  {
   "cell_type": "code",
   "execution_count": null,
   "metadata": {},
   "outputs": [],
   "source": []
  }
 ],
 "metadata": {
  "kernelspec": {
   "display_name": "Python 3",
   "language": "python",
   "name": "python3"
  },
  "language_info": {
   "codemirror_mode": {
    "name": "ipython",
    "version": 3
   },
   "file_extension": ".py",
   "mimetype": "text/x-python",
   "name": "python",
   "nbconvert_exporter": "python",
   "pygments_lexer": "ipython3",
   "version": "3.7.10"
  }
 },
 "nbformat": 4,
 "nbformat_minor": 2
}
