{
 "cells": [
  {
   "cell_type": "markdown",
   "metadata": {},
   "source": [
    "### 커피숍 영업 현황"
   ]
  },
  {
   "cell_type": "markdown",
   "metadata": {},
   "source": [
    "#### 필요한 패키지들을 불러온다."
   ]
  },
  {
   "cell_type": "code",
   "execution_count": 1,
   "metadata": {},
   "outputs": [],
   "source": [
    "import pandas as pd\n",
    "import numpy as np\n",
    "import os\n",
    "import matplotlib.pyplot as plt\n",
    "%matplotlib inline\n",
    "from matplotlib import font_manager, rc\n",
    "font_name = font_manager.FontProperties(fname=\"c:/Windows/Fonts/malgun.ttf\").get_name()\n",
    "rc('font', family=font_name)"
   ]
  },
  {
   "cell_type": "markdown",
   "metadata": {},
   "source": [
    "#### 1). 데이터를 불러온다."
   ]
  },
  {
   "cell_type": "code",
   "execution_count": 2,
   "metadata": {},
   "outputs": [],
   "source": [
    "os.chdir(r\"data\")"
   ]
  },
  {
   "cell_type": "code",
   "execution_count": 3,
   "metadata": {},
   "outputs": [],
   "source": [
    "df = pd.read_csv('data_coffee.csv',encoding = 'ms949')"
   ]
  },
  {
   "cell_type": "code",
   "execution_count": 4,
   "metadata": {},
   "outputs": [
    {
     "data": {
      "text/plain": [
       "(46832, 23)"
      ]
     },
     "execution_count": 4,
     "metadata": {},
     "output_type": "execute_result"
    }
   ],
   "source": [
    "df.shape"
   ]
  },
  {
   "cell_type": "code",
   "execution_count": 5,
   "metadata": {},
   "outputs": [
    {
     "data": {
      "text/html": [
       "<div>\n",
       "<style scoped>\n",
       "    .dataframe tbody tr th:only-of-type {\n",
       "        vertical-align: middle;\n",
       "    }\n",
       "\n",
       "    .dataframe tbody tr th {\n",
       "        vertical-align: top;\n",
       "    }\n",
       "\n",
       "    .dataframe thead th {\n",
       "        text-align: right;\n",
       "    }\n",
       "</style>\n",
       "<table border=\"1\" class=\"dataframe\">\n",
       "  <thead>\n",
       "    <tr style=\"text-align: right;\">\n",
       "      <th></th>\n",
       "      <th>number</th>\n",
       "      <th>companyName</th>\n",
       "      <th>adress</th>\n",
       "      <th>adressBystreet</th>\n",
       "      <th>dateOflicensing</th>\n",
       "      <th>stateOfbusiness</th>\n",
       "      <th>dateOfclosure</th>\n",
       "      <th>startdateOfcessation</th>\n",
       "      <th>duedateOfcessation</th>\n",
       "      <th>dateOfreOpen</th>\n",
       "      <th>...</th>\n",
       "      <th>numOfmenWorker</th>\n",
       "      <th>yearOfStart</th>\n",
       "      <th>multipleUse</th>\n",
       "      <th>grade</th>\n",
       "      <th>sizeOfsite</th>\n",
       "      <th>numOfwomenWorker</th>\n",
       "      <th>vicintyOfsite</th>\n",
       "      <th>sanitaryName</th>\n",
       "      <th>businessCondition</th>\n",
       "      <th>totalOfworker</th>\n",
       "    </tr>\n",
       "  </thead>\n",
       "  <tbody>\n",
       "    <tr>\n",
       "      <th>0</th>\n",
       "      <td>1</td>\n",
       "      <td>#11(Sharp eleven)</td>\n",
       "      <td>서울특별시 양천구 목동 956번지 롯데캐슬위너 상가동 107호(한두3길 44)</td>\n",
       "      <td>서울특별시 양천구 목동중앙북로 38 (목동,롯데캐슬위너 상가동 107호(한두3길 44))</td>\n",
       "      <td>20080917</td>\n",
       "      <td>운영중</td>\n",
       "      <td>NaN</td>\n",
       "      <td>NaN</td>\n",
       "      <td>NaN</td>\n",
       "      <td>NaN</td>\n",
       "      <td>...</td>\n",
       "      <td>NaN</td>\n",
       "      <td>2008.0</td>\n",
       "      <td>N</td>\n",
       "      <td>NaN</td>\n",
       "      <td>20.80</td>\n",
       "      <td>NaN</td>\n",
       "      <td>NaN</td>\n",
       "      <td>휴게음식점</td>\n",
       "      <td>커피숍</td>\n",
       "      <td>NaN</td>\n",
       "    </tr>\n",
       "    <tr>\n",
       "      <th>1</th>\n",
       "      <td>2</td>\n",
       "      <td>( 주)커피빈코리아청주지웰시티점</td>\n",
       "      <td>충청북도 청주시 흥덕구 복대동 3379번지 신영지웰시티1차상업시설 124-1, 12...</td>\n",
       "      <td>충청북도 청주시 흥덕구 대농로 17 (복대동,신영지웰시티1차상업시설 124-1, 1...</td>\n",
       "      <td>20101124</td>\n",
       "      <td>운영중</td>\n",
       "      <td>NaN</td>\n",
       "      <td>NaN</td>\n",
       "      <td>NaN</td>\n",
       "      <td>NaN</td>\n",
       "      <td>...</td>\n",
       "      <td>NaN</td>\n",
       "      <td>2010.0</td>\n",
       "      <td>N</td>\n",
       "      <td>NaN</td>\n",
       "      <td>212.72</td>\n",
       "      <td>NaN</td>\n",
       "      <td>NaN</td>\n",
       "      <td>휴게음식점</td>\n",
       "      <td>커피숍</td>\n",
       "      <td>NaN</td>\n",
       "    </tr>\n",
       "    <tr>\n",
       "      <th>2</th>\n",
       "      <td>3</td>\n",
       "      <td>(aA)더블에이</td>\n",
       "      <td>경상북도 경산시 사동 39번지 108-2호</td>\n",
       "      <td>경상북도 경산시 백자로10길 3-11, 108-2호 (사동)</td>\n",
       "      <td>20130902</td>\n",
       "      <td>운영중</td>\n",
       "      <td>NaN</td>\n",
       "      <td>NaN</td>\n",
       "      <td>NaN</td>\n",
       "      <td>NaN</td>\n",
       "      <td>...</td>\n",
       "      <td>NaN</td>\n",
       "      <td>2013.0</td>\n",
       "      <td>N</td>\n",
       "      <td>NaN</td>\n",
       "      <td>20.04</td>\n",
       "      <td>NaN</td>\n",
       "      <td>아파트지역</td>\n",
       "      <td>휴게음식점</td>\n",
       "      <td>커피숍</td>\n",
       "      <td>NaN</td>\n",
       "    </tr>\n",
       "    <tr>\n",
       "      <th>3</th>\n",
       "      <td>4</td>\n",
       "      <td>(강서)카페치따</td>\n",
       "      <td>서울특별시 강서구 등촌동 63-12번지 외 2필지 어위쉬예다인 (지상 1층) 104호</td>\n",
       "      <td>서울특별시 강서구 양천로 452, 1층 104호 (등촌동, 3동 어위쉬예다인)</td>\n",
       "      <td>20121108</td>\n",
       "      <td>운영중</td>\n",
       "      <td>NaN</td>\n",
       "      <td>NaN</td>\n",
       "      <td>NaN</td>\n",
       "      <td>NaN</td>\n",
       "      <td>...</td>\n",
       "      <td>NaN</td>\n",
       "      <td>2012.0</td>\n",
       "      <td>N</td>\n",
       "      <td>NaN</td>\n",
       "      <td>64.17</td>\n",
       "      <td>NaN</td>\n",
       "      <td>NaN</td>\n",
       "      <td>휴게음식점</td>\n",
       "      <td>커피숍</td>\n",
       "      <td>NaN</td>\n",
       "    </tr>\n",
       "    <tr>\n",
       "      <th>4</th>\n",
       "      <td>5</td>\n",
       "      <td>(로즈버드)명동아바타</td>\n",
       "      <td>서울특별시 중구 명동2가 83-5번지 (아바타1층1218)</td>\n",
       "      <td>NaN</td>\n",
       "      <td>20020911</td>\n",
       "      <td>폐업 등</td>\n",
       "      <td>20071105.0</td>\n",
       "      <td>NaN</td>\n",
       "      <td>NaN</td>\n",
       "      <td>NaN</td>\n",
       "      <td>...</td>\n",
       "      <td>0.0</td>\n",
       "      <td>2002.0</td>\n",
       "      <td>N</td>\n",
       "      <td>NaN</td>\n",
       "      <td>11.40</td>\n",
       "      <td>0.0</td>\n",
       "      <td>NaN</td>\n",
       "      <td>휴게음식점</td>\n",
       "      <td>커피숍</td>\n",
       "      <td>0.0</td>\n",
       "    </tr>\n",
       "  </tbody>\n",
       "</table>\n",
       "<p>5 rows × 23 columns</p>\n",
       "</div>"
      ],
      "text/plain": [
       "   number        companyName  \\\n",
       "0       1  #11(Sharp eleven)   \n",
       "1       2  ( 주)커피빈코리아청주지웰시티점   \n",
       "2       3           (aA)더블에이   \n",
       "3       4           (강서)카페치따   \n",
       "4       5        (로즈버드)명동아바타   \n",
       "\n",
       "                                              adress  \\\n",
       "0       서울특별시 양천구 목동 956번지 롯데캐슬위너 상가동 107호(한두3길 44)    \n",
       "1  충청북도 청주시 흥덕구 복대동 3379번지 신영지웰시티1차상업시설 124-1, 12...   \n",
       "2                            경상북도 경산시 사동 39번지 108-2호   \n",
       "3    서울특별시 강서구 등촌동 63-12번지 외 2필지 어위쉬예다인 (지상 1층) 104호   \n",
       "4                  서울특별시 중구 명동2가 83-5번지 (아바타1층1218)    \n",
       "\n",
       "                                      adressBystreet  dateOflicensing  \\\n",
       "0  서울특별시 양천구 목동중앙북로 38 (목동,롯데캐슬위너 상가동 107호(한두3길 44))         20080917   \n",
       "1  충청북도 청주시 흥덕구 대농로 17 (복대동,신영지웰시티1차상업시설 124-1, 1...         20101124   \n",
       "2                  경상북도 경산시 백자로10길 3-11, 108-2호 (사동)         20130902   \n",
       "3        서울특별시 강서구 양천로 452, 1층 104호 (등촌동, 3동 어위쉬예다인)         20121108   \n",
       "4                                                NaN         20020911   \n",
       "\n",
       "  stateOfbusiness  dateOfclosure  startdateOfcessation  duedateOfcessation  \\\n",
       "0             운영중            NaN                   NaN                 NaN   \n",
       "1             운영중            NaN                   NaN                 NaN   \n",
       "2             운영중            NaN                   NaN                 NaN   \n",
       "3             운영중            NaN                   NaN                 NaN   \n",
       "4            폐업 등     20071105.0                   NaN                 NaN   \n",
       "\n",
       "   dateOfreOpen  ...  numOfmenWorker  yearOfStart multipleUse  grade  \\\n",
       "0           NaN  ...             NaN       2008.0           N    NaN   \n",
       "1           NaN  ...             NaN       2010.0           N    NaN   \n",
       "2           NaN  ...             NaN       2013.0           N    NaN   \n",
       "3           NaN  ...             NaN       2012.0           N    NaN   \n",
       "4           NaN  ...             0.0       2002.0           N    NaN   \n",
       "\n",
       "   sizeOfsite numOfwomenWorker vicintyOfsite  sanitaryName  businessCondition  \\\n",
       "0       20.80              NaN           NaN         휴게음식점                커피숍   \n",
       "1      212.72              NaN           NaN         휴게음식점                커피숍   \n",
       "2       20.04              NaN         아파트지역         휴게음식점                커피숍   \n",
       "3       64.17              NaN           NaN         휴게음식점                커피숍   \n",
       "4       11.40              0.0           NaN         휴게음식점                커피숍   \n",
       "\n",
       "  totalOfworker  \n",
       "0           NaN  \n",
       "1           NaN  \n",
       "2           NaN  \n",
       "3           NaN  \n",
       "4           0.0  \n",
       "\n",
       "[5 rows x 23 columns]"
      ]
     },
     "execution_count": 5,
     "metadata": {},
     "output_type": "execute_result"
    }
   ],
   "source": [
    "df.head(5)"
   ]
  },
  {
   "cell_type": "markdown",
   "metadata": {},
   "source": [
    "현재 운영중인 커피숍:"
   ]
  },
  {
   "cell_type": "code",
   "execution_count": 6,
   "metadata": {},
   "outputs": [
    {
     "data": {
      "text/plain": [
       "(33587, 23)"
      ]
     },
     "execution_count": 6,
     "metadata": {},
     "output_type": "execute_result"
    }
   ],
   "source": [
    "df2 = df[df.stateOfbusiness=='운영중']\n",
    "df2.shape"
   ]
  },
  {
   "cell_type": "markdown",
   "metadata": {},
   "source": [
    "현재 폐업 상태의 커피숍:"
   ]
  },
  {
   "cell_type": "code",
   "execution_count": 7,
   "metadata": {},
   "outputs": [
    {
     "data": {
      "text/plain": [
       "(13245, 23)"
      ]
     },
     "execution_count": 7,
     "metadata": {},
     "output_type": "execute_result"
    }
   ],
   "source": [
    "df3 = df[df.stateOfbusiness=='폐업 등']\n",
    "df3.shape"
   ]
  },
  {
   "cell_type": "markdown",
   "metadata": {},
   "source": [
    "#### 2). 1997~2014년도 사이의 개업 횟수를 (yearOfStart) 도수분포표로 요약하고 시각화 하시오."
   ]
  },
  {
   "cell_type": "code",
   "execution_count": 8,
   "metadata": {},
   "outputs": [
    {
     "data": {
      "text/plain": [
       "1997.0      54\n",
       "1998.0      54\n",
       "1999.0      46\n",
       "2000.0      89\n",
       "2001.0     183\n",
       "2002.0     398\n",
       "2003.0     799\n",
       "2004.0     648\n",
       "2005.0     654\n",
       "2006.0     863\n",
       "2007.0    1233\n",
       "2008.0    1579\n",
       "2009.0    2489\n",
       "2010.0    4172\n",
       "2011.0    5942\n",
       "2012.0    6315\n",
       "2013.0    7270\n",
       "2014.0    9905\n",
       "Name: yearOfStart, dtype: int64"
      ]
     },
     "execution_count": 8,
     "metadata": {},
     "output_type": "execute_result"
    }
   ],
   "source": [
    "sr = df.yearOfStart.value_counts()\n",
    "sr = sr.sort_index()\n",
    "sr = sr[(1997 <= sr.index) & (sr.index <= 2014)]                          # 1997 ~ 2014\n",
    "sr"
   ]
  },
  {
   "cell_type": "code",
   "execution_count": 9,
   "metadata": {},
   "outputs": [
    {
     "data": {
      "image/png": "[encoded data removed]",
      "text/plain": [
       "<Figure size 432x288 with 1 Axes>"
      ]
     },
     "metadata": {
      "needs_background": "light"
     },
     "output_type": "display_data"
    }
   ],
   "source": [
    "plt.plot(sr.index, sr.values, color='blue', alpha=0.5, linewidth=2, linestyle='--')\n",
    "plt.xlim([1997,2014])\n",
    "plt.show()"
   ]
  },
  {
   "cell_type": "code",
   "execution_count": 10,
   "metadata": {},
   "outputs": [
    {
     "data": {
      "image/png": "[encoded data removed]",
      "text/plain": [
       "<Figure size 432x288 with 1 Axes>"
      ]
     },
     "metadata": {
      "needs_background": "light"
     },
     "output_type": "display_data"
    }
   ],
   "source": [
    "# 다음 방식도 가능함.\n",
    "sr.plot.line( color='blue', alpha=0.5, linewidth=2, linestyle='--')\n",
    "plt.xlim([1997, 2014])\n",
    "plt.show()"
   ]
  },
  {
   "cell_type": "markdown",
   "metadata": {},
   "source": [
    "#### 3). 운영중인 커피숍 대상으로 1997~2014년도 사이의 개업 회수를 도수분포표로 요약하시오. "
   ]
  },
  {
   "cell_type": "code",
   "execution_count": 11,
   "metadata": {},
   "outputs": [],
   "source": [
    "srOpen = df2.yearOfStart.value_counts()\n",
    "srOpen = srOpen.sort_index()\n",
    "srOpen = srOpen[(1997 <= srOpen.index) & (srOpen.index <= 2014)]                          # 1997 ~ 2014\n",
    "#srOpen"
   ]
  },
  {
   "cell_type": "markdown",
   "metadata": {},
   "source": [
    "#### 4). 폐업상태 커피숍 대상으로 1997~2014년도 사이의 개업 회수를 도수분포표로 요약하시오. "
   ]
  },
  {
   "cell_type": "code",
   "execution_count": 12,
   "metadata": {},
   "outputs": [],
   "source": [
    "srClose = df3.yearOfStart.value_counts()\n",
    "srClose = srClose.sort_index()\n",
    "srClose = srClose[(1997 <= srClose.index) & (srClose.index <= 2014)]                          # 1997 ~ 2014\n",
    "#srClose"
   ]
  },
  {
   "cell_type": "markdown",
   "metadata": {},
   "source": [
    "#### 5). 위 #3과 #4 결과를 하나의 그래프로 시각화한다. 범례도 포함한다. "
   ]
  },
  {
   "cell_type": "code",
   "execution_count": 13,
   "metadata": {},
   "outputs": [
    {
     "data": {
      "image/png": "[encoded data removed]",
      "text/plain": [
       "<Figure size 432x288 with 1 Axes>"
      ]
     },
     "metadata": {
      "needs_background": "light"
     },
     "output_type": "display_data"
    }
   ],
   "source": [
    "# 기본 방식.\n",
    "plt.plot(srOpen.index, srOpen.values, color = 'blue', linestyle='--',label='Open')\n",
    "plt.plot(srClose.index, srClose.values,color = 'red', linestyle='-.', label='Closed')\n",
    "plt.legend(loc=0)\n",
    "plt.xlim([1997, 2014])\n",
    "plt.show()"
   ]
  },
  {
   "cell_type": "code",
   "execution_count": 14,
   "metadata": {},
   "outputs": [
    {
     "data": {
      "image/png": "[encoded data removed]",
      "text/plain": [
       "<Figure size 432x288 with 1 Axes>"
      ]
     },
     "metadata": {
      "needs_background": "light"
     },
     "output_type": "display_data"
    }
   ],
   "source": [
    "# 또 다른 방식 1.\n",
    "srOpen.plot.line(color = 'blue', linestyle='--',label='Open')\n",
    "srClose.plot.line(color = 'red', linestyle='-.', label='Closed')\n",
    "plt.legend(loc=0)\n",
    "plt.xlim([1997, 2014])\n",
    "plt.show()"
   ]
  },
  {
   "cell_type": "code",
   "execution_count": 15,
   "metadata": {},
   "outputs": [
    {
     "data": {
      "image/png": "[encoded data removed]",
      "text/plain": [
       "<Figure size 360x216 with 1 Axes>"
      ]
     },
     "metadata": {
      "needs_background": "light"
     },
     "output_type": "display_data"
    }
   ],
   "source": [
    "# 또 다른 방식 2.\n",
    "fig = plt.figure(figsize=[5,3])\n",
    "my_axes = fig.add_axes([0,0,1,1])\n",
    "my_axes.plot(srOpen.index, srOpen.values, color = 'blue', linestyle='--',label='Open')\n",
    "my_axes.plot(srClose.index, srClose.values,color = 'red', linestyle='-.', label='Closed')\n",
    "my_axes.legend(loc=0)\n",
    "my_axes.set_xlim([1997, 2014])\n",
    "plt.show()"
   ]
  },
  {
   "cell_type": "markdown",
   "metadata": {},
   "source": [
    "#### 6). groupby 메서드 사용하는 방식:"
   ]
  },
  {
   "cell_type": "code",
   "execution_count": 16,
   "metadata": {},
   "outputs": [],
   "source": [
    "my_groups = df.groupby('stateOfbusiness')\n",
    "my_series = []\n",
    "my_names = []\n",
    "for name, dfb in my_groups:\n",
    "    sr = dfb.yearOfStart.value_counts()\n",
    "    sr = sr.sort_index()\n",
    "    sr = sr[(1997 <= sr.index) & (sr.index <= 2014)]\n",
    "    my_series += [sr]\n",
    "    my_names += [name]"
   ]
  },
  {
   "cell_type": "code",
   "execution_count": 17,
   "metadata": {},
   "outputs": [
    {
     "data": {
      "image/png": "[encoded data removed]",
      "text/plain": [
       "<Figure size 432x288 with 1 Axes>"
      ]
     },
     "metadata": {
      "needs_background": "light"
     },
     "output_type": "display_data"
    }
   ],
   "source": [
    "my_colors = ['blue', 'red','green']\n",
    "my_linestyles = ['--', '-.',':']\n",
    "i=0\n",
    "for name, sr in zip(my_names, my_series):\n",
    "    sr.plot.line(color = my_colors[i], linewidth=2, linestyle = my_linestyles[i], alpha=0.5, label=name)\n",
    "    i += 1\n",
    "plt.legend(loc=0)\n",
    "plt.xlim([1997, 2014])\n",
    "plt.show()"
   ]
  },
  {
   "cell_type": "code",
   "execution_count": null,
   "metadata": {},
   "outputs": [],
   "source": []
  }
 ],
 "metadata": {
  "kernelspec": {
   "display_name": "Python 3",
   "language": "python",
   "name": "python3"
  },
  "language_info": {
   "codemirror_mode": {
    "name": "ipython",
    "version": 3
   },
   "file_extension": ".py",
   "mimetype": "text/x-python",
   "name": "python",
   "nbconvert_exporter": "python",
   "pygments_lexer": "ipython3",
   "version": "3.7.10"
  }
 },
 "nbformat": 4,
 "nbformat_minor": 2
}
